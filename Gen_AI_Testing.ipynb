{
 "cells": [
  {
   "cell_type": "markdown",
   "id": "b56fc828",
   "metadata": {},
   "source": [
    "<h1> Loadings </h1>"
   ]
  },
  {
   "cell_type": "code",
   "execution_count": null,
   "id": "a38b2190",
   "metadata": {},
   "outputs": [],
   "source": [
    "# Basic Open AI Prompt and Answer Stuff\n",
    "from langchain.prompts import PromptTemplate, ChatPromptTemplate\n",
    "from langchain.prompts.few_shot import FewShotPromptTemplate\n",
    "from langchain.llms import OpenAI\n",
    "from langchain.chat_models import ChatOpenAI\n",
    "from langchain.chains import LLMChain\n",
    "from langchain.llms import AzureOpenAI\n",
    "import openai\n",
    "\n",
    "# Chains\n",
    "from langchain import SQLDatabaseChain\n",
    "\n",
    "# Agents & Tools\n",
    "from langchain.agents import Tool\n",
    "from langchain.tools import BaseTool\n",
    "from langchain.agents import initialize_agent\n",
    "from langchain.agents import load_tools\n",
    "from langchain.chains.llm_math.base import LLMMathChain\n",
    "from langchain.tools.python.tool import PythonAstREPLTool\n",
    "from langchain.agents import create_sql_agent\n",
    "from langchain.agents.agent_toolkits import SQLDatabaseToolkit\n",
    "from langchain.sql_database import SQLDatabase\n",
    "\n",
    "# Utilities\n",
    "from langchain.utilities import PythonREPL\n",
    "import pandas as pd\n",
    "import random\n",
    "import tabulate as tb\n",
    "from sqlalchemy.engine import URL\n",
    "import sqlalchemy\n",
    "import os\n",
    "\n",
    "from langchain.tools.sql_database.tool import (\n",
    "    InfoSQLDatabaseTool,\n",
    "    ListSQLDatabaseTool,\n",
    "    #QueryCheckerTool,\n",
    "    QuerySQLDataBaseTool,\n",
    ")\n",
    "\n",
    "print(os.getcwd())"
   ]
  },
  {
   "cell_type": "markdown",
   "id": "165efd8d",
   "metadata": {},
   "source": [
    "# API Credentials"
   ]
  },
  {
   "cell_type": "code",
   "execution_count": 2,
   "id": "85ed58c1",
   "metadata": {},
   "outputs": [
    {
     "data": {
      "text/plain": [
       "''"
      ]
     },
     "execution_count": 2,
     "metadata": {},
     "output_type": "execute_result"
    }
   ],
   "source": [
    "# 'Vishal API' Key\n",
    "\"\"\"\"\"\"\n",
    "openai.api_key = \"XXXXXXXXXXXXXXXXXXXXXXXXXX\"\n",
    "openai.api_type = \"open_ai\"\n",
    "openai.organization = \"org-Yma4uJMDlAwruEJU577Bc0NV\"\n",
    "\"\"\"\"\"\""
   ]
  },
  {
   "cell_type": "markdown",
   "id": "031681ed",
   "metadata": {},
   "source": [
    "# Boilerplate LLM & SQL"
   ]
  },
  {
   "cell_type": "code",
   "execution_count": 3,
   "id": "3d4da479",
   "metadata": {},
   "outputs": [],
   "source": [
    "\"\"\"\n",
    "llm = OpenAI(temperature=0, openai_api_key = openai.api_key, openai_organization = openai.organization, engine = \"gpt35\")\n",
    "#llm = ChatOpenAI(temperature=0, openai_api_key = openai.api_key, engine = \"gpt35\")\n",
    "\"\"\"\n",
    " \n",
    "# gpt4 has a longer STM and by extension steerability with context. Better mathematical understanding.\n",
    "# gpt35 is more constraint and lesser chance of hallucinations - it lacks creativity compared to gpt4.\n",
    "\"\"\"\"\"\"\n",
    "llm = ChatOpenAI(temperature=0, openai_api_key = openai.api_key, model = \"gpt-3.5-turbo-0613\")\n",
    "#llm = ChatOpenAI(temperature=0, openai_api_key = openai.api_key, model = \"gpt-4-0613\")\n",
    "\n",
    "#llm = OpenAI(temperature=0, openai_api_key = openai.api_key, openai_organization = openai.organization, model = \"text-davinci-003\") #deprecating in end 2023!\n",
    "#llm = ChatOpenAI(temperature=0, openai_api_key = openai.api_key, model = \"gpt-3.5-turbo\")\n",
    "#llm = ChatOpenAI(temperature=0, openai_api_key = openai.api_key, model = \"gpt-4\")\n",
    "\"\"\"\"\"\"\n",
    "\n",
    "\"\"\"llm = llm = AzureOpenAI(\n",
    "    temperature=0, \n",
    "    openai_api_key = openai.api_key, \n",
    "    deployment_name=\"gpt35\"\n",
    "    #deployment_name = \"ada\"\n",
    ")\"\"\"\n",
    "\n",
    "driver='{SQL Server Native Client 11.0}'#'{ODBC Driver 18 for SQL Server}'\n",
    "server='localhost\\MSSQLSERVEREXP'\n",
    "database='Gen_AI_Testing'\n",
    "trusted_connection='yes'\n",
    "\n",
    "connection_string = f'DRIVER={driver};SERVER={server};'\n",
    "connection_string += f'DATABASE={database};'\n",
    "connection_string += f'TRUSTED_CONNECTION={trusted_connection}'\n",
    "\n",
    "connection_url = URL.create(\"mssql+pyodbc\", query={\"odbc_connect\": connection_string})\n",
    "\n",
    "engine = sqlalchemy.create_engine(connection_url)\n",
    "include_tables=['Client Accounts', 'Products', 'Contacts', 'Sales Line Items'] #Remove spaces - to prevent syntax error. E.g. if [Client Account] vs Client Account throws syntax error\n",
    "sample_rows_in_table_info = 0 # Sample rows confuses the agent and result in hallucinations.\n",
    "db = SQLDatabase(engine, include_tables=include_tables, sample_rows_in_table_info = sample_rows_in_table_info)\n",
    "\n",
    "# This is the same method as the above when we dig into the from_uri method. \n"
   ]
  },
  {
   "cell_type": "markdown",
   "id": "ed1bf903",
   "metadata": {},
   "source": [
    "Schema Printing Methods:"
   ]
  },
  {
   "cell_type": "code",
   "execution_count": 4,
   "id": "22114b3c",
   "metadata": {},
   "outputs": [
    {
     "name": "stdout",
     "output_type": "stream",
     "text": [
      "\n",
      "CREATE TABLE [Client Accounts] (\n",
      "\t[Client Account ID] VARCHAR(64) COLLATE SQL_Latin1_General_CP1_CI_AS NOT NULL, \n",
      "\t[Parent ID] VARCHAR(64) COLLATE SQL_Latin1_General_CP1_CI_AS NULL, \n",
      "\t[Client Account Name] VARCHAR(1024) COLLATE SQL_Latin1_General_CP1_CI_AS NULL, \n",
      "\t[Annual Revenue] REAL NULL, \n",
      "\t[Number of Employees] INTEGER NULL, \n",
      "\t[Business Type] VARCHAR(512) COLLATE SQL_Latin1_General_CP1_CI_AS NULL, \n",
      "\t[Relationship Type] VARCHAR(512) COLLATE SQL_Latin1_General_CP1_CI_AS NULL, \n",
      "\t[Business Sector] VARCHAR(512) COLLATE SQL_Latin1_General_CP1_CI_AS NULL, \n",
      "\t[Credit Rating] VARCHAR(64) COLLATE SQL_Latin1_General_CP1_CI_AS NULL, \n",
      "\t[Asset Size $] REAL NULL, \n",
      "\t[Asset Size Cohort] VARCHAR(64) COLLATE SQL_Latin1_General_CP1_CI_AS NULL, \n",
      "\tCONSTRAINT [PK__Client A__CE7BEBEE71968212] PRIMARY KEY ([Client Account ID])\n",
      ")\n",
      "\n",
      "\n",
      "CREATE TABLE [Contacts] (\n",
      "\t[Contact ID] VARCHAR(64) COLLATE SQL_Latin1_General_CP1_CI_AS NOT NULL, \n",
      "\t[Client Account ID] VARCHAR(64) COLLATE SQL_Latin1_General_CP1_CI_AS NULL, \n",
      "\t[Last Name] VARCHAR(512) COLLATE SQL_Latin1_General_CP1_CI_AS NULL, \n",
      "\t[First Name] VARCHAR(512) COLLATE SQL_Latin1_General_CP1_CI_AS NULL, \n",
      "\t[Contact Number] VARCHAR(128) COLLATE SQL_Latin1_General_CP1_CI_AS NULL, \n",
      "\t[Email Address] VARCHAR(512) COLLATE SQL_Latin1_General_CP1_CI_AS NULL, \n",
      "\t[Function] VARCHAR(64) COLLATE SQL_Latin1_General_CP1_CI_AS NULL, \n",
      "\t[Title Level] VARCHAR(64) COLLATE SQL_Latin1_General_CP1_CI_AS NULL, \n",
      "\tCONSTRAINT [PK__Contacts__B598FD58C2446CFE] PRIMARY KEY ([Contact ID]), \n",
      "\tCONSTRAINT [FK__Contacts__Client__286302EC] FOREIGN KEY([Client Account ID]) REFERENCES [Client Accounts] ([Client Account ID])\n",
      ")\n",
      "\n",
      "\n",
      "CREATE TABLE [Products] (\n",
      "\t[Product ID] VARCHAR(64) COLLATE SQL_Latin1_General_CP1_CI_AS NOT NULL, \n",
      "\t[Product Name] VARCHAR(1024) COLLATE SQL_Latin1_General_CP1_CI_AS NULL, \n",
      "\t[Product Decsription] VARCHAR(2048) COLLATE SQL_Latin1_General_CP1_CI_AS NULL, \n",
      "\t[Operating Unit (L2)] VARCHAR(512) COLLATE SQL_Latin1_General_CP1_CI_AS NULL, \n",
      "\t[Product Function (L3)] VARCHAR(512) COLLATE SQL_Latin1_General_CP1_CI_AS NULL, \n",
      "\t[Product Family (L4)] VARCHAR(512) COLLATE SQL_Latin1_General_CP1_CI_AS NULL, \n",
      "\t[Product (L5)] VARCHAR(512) COLLATE SQL_Latin1_General_CP1_CI_AS NULL, \n",
      "\t[Module (L6)] VARCHAR(512) COLLATE SQL_Latin1_General_CP1_CI_AS NULL, \n",
      "\t[Product Strategist] VARCHAR(512) COLLATE SQL_Latin1_General_CP1_CI_AS NULL, \n",
      "\tCONSTRAINT [PK__Products__AF0FD00BDF478271] PRIMARY KEY ([Product ID])\n",
      ")\n",
      "\n",
      "\n",
      "CREATE TABLE [Sales Line Items] (\n",
      "\t[Client Account ID] VARCHAR(64) COLLATE SQL_Latin1_General_CP1_CI_AS NULL, \n",
      "\t[Opportunity Name] VARCHAR(512) COLLATE SQL_Latin1_General_CP1_CI_AS NULL, \n",
      "\t[Country] VARCHAR(256) COLLATE SQL_Latin1_General_CP1_CI_AS NULL, \n",
      "\t[Revenue Category] VARCHAR(256) COLLATE SQL_Latin1_General_CP1_CI_AS NULL, \n",
      "\t[Region] VARCHAR(128) COLLATE SQL_Latin1_General_CP1_CI_AS NULL, \n",
      "\t[Sale Date] DATETIME NULL, \n",
      "\t[Sale Type] VARCHAR(128) COLLATE SQL_Latin1_General_CP1_CI_AS NULL, \n",
      "\t[Product ID] VARCHAR(64) COLLATE SQL_Latin1_General_CP1_CI_AS NULL, \n",
      "\t[Sale Probability] INTEGER NULL, \n",
      "\t[SaaS Type] VARCHAR(128) COLLATE SQL_Latin1_General_CP1_CI_AS NULL, \n",
      "\t[New Flag] VARCHAR(128) COLLATE SQL_Latin1_General_CP1_CI_AS NULL, \n",
      "\t[One-Time or Renewal] VARCHAR(128) COLLATE SQL_Latin1_General_CP1_CI_AS NULL, \n",
      "\t[Contract ID] VARCHAR(128) COLLATE SQL_Latin1_General_CP1_CI_AS NULL, \n",
      "\t[Sale Amount $] REAL NULL, \n",
      "\t[Opportunity ID] VARCHAR(64) COLLATE SQL_Latin1_General_CP1_CI_AS NULL, \n",
      "\t[Sale or Pipeline] VARCHAR(128) COLLATE SQL_Latin1_General_CP1_CI_AS NULL, \n",
      "\t[SaaS or On-Premise] VARCHAR(128) COLLATE SQL_Latin1_General_CP1_CI_AS NULL, \n",
      "\tCONSTRAINT [FK__Sales Lin__Clien__2A4B4B5E] FOREIGN KEY([Client Account ID]) REFERENCES [Client Accounts] ([Client Account ID]), \n",
      "\tCONSTRAINT [FK__Sales Lin__Produ__2B3F6F97] FOREIGN KEY([Product ID]) REFERENCES [Products] ([Product ID])\n",
      ")\n",
      "[Table('Client Accounts', MetaData(), Column('Client Account ID', VARCHAR(length=64, collation='SQL_Latin1_General_CP1_CI_AS'), table=<Client Accounts>, primary_key=True, nullable=False), Column('Parent ID', VARCHAR(length=64, collation='SQL_Latin1_General_CP1_CI_AS'), table=<Client Accounts>), Column('Client Account Name', VARCHAR(length=1024, collation='SQL_Latin1_General_CP1_CI_AS'), table=<Client Accounts>), Column('Annual Revenue', REAL(), table=<Client Accounts>), Column('Number of Employees', INTEGER(), table=<Client Accounts>), Column('Business Type', VARCHAR(length=512, collation='SQL_Latin1_General_CP1_CI_AS'), table=<Client Accounts>), Column('Relationship Type', VARCHAR(length=512, collation='SQL_Latin1_General_CP1_CI_AS'), table=<Client Accounts>), Column('Business Sector', VARCHAR(length=512, collation='SQL_Latin1_General_CP1_CI_AS'), table=<Client Accounts>), Column('Credit Rating', VARCHAR(length=64, collation='SQL_Latin1_General_CP1_CI_AS'), table=<Client Accounts>), Column('Asset Size $', REAL(), table=<Client Accounts>), Column('Asset Size Cohort', VARCHAR(length=64, collation='SQL_Latin1_General_CP1_CI_AS'), table=<Client Accounts>), schema=None), Table('Products', MetaData(), Column('Product ID', VARCHAR(length=64, collation='SQL_Latin1_General_CP1_CI_AS'), table=<Products>, primary_key=True, nullable=False), Column('Product Name', VARCHAR(length=1024, collation='SQL_Latin1_General_CP1_CI_AS'), table=<Products>), Column('Product Decsription', VARCHAR(length=2048, collation='SQL_Latin1_General_CP1_CI_AS'), table=<Products>), Column('Operating Unit (L2)', VARCHAR(length=512, collation='SQL_Latin1_General_CP1_CI_AS'), table=<Products>), Column('Product Function (L3)', VARCHAR(length=512, collation='SQL_Latin1_General_CP1_CI_AS'), table=<Products>), Column('Product Family (L4)', VARCHAR(length=512, collation='SQL_Latin1_General_CP1_CI_AS'), table=<Products>), Column('Product (L5)', VARCHAR(length=512, collation='SQL_Latin1_General_CP1_CI_AS'), table=<Products>), Column('Module (L6)', VARCHAR(length=512, collation='SQL_Latin1_General_CP1_CI_AS'), table=<Products>), Column('Product Strategist', VARCHAR(length=512, collation='SQL_Latin1_General_CP1_CI_AS'), table=<Products>), schema=None), Table('Contacts', MetaData(), Column('Contact ID', VARCHAR(length=64, collation='SQL_Latin1_General_CP1_CI_AS'), table=<Contacts>, primary_key=True, nullable=False), Column('Client Account ID', VARCHAR(length=64, collation='SQL_Latin1_General_CP1_CI_AS'), ForeignKey('Client Accounts.Client Account ID'), table=<Contacts>), Column('Last Name', VARCHAR(length=512, collation='SQL_Latin1_General_CP1_CI_AS'), table=<Contacts>), Column('First Name', VARCHAR(length=512, collation='SQL_Latin1_General_CP1_CI_AS'), table=<Contacts>), Column('Contact Number', VARCHAR(length=128, collation='SQL_Latin1_General_CP1_CI_AS'), table=<Contacts>), Column('Email Address', VARCHAR(length=512, collation='SQL_Latin1_General_CP1_CI_AS'), table=<Contacts>), Column('Function', VARCHAR(length=64, collation='SQL_Latin1_General_CP1_CI_AS'), table=<Contacts>), Column('Title Level', VARCHAR(length=64, collation='SQL_Latin1_General_CP1_CI_AS'), table=<Contacts>), schema=None), Table('Sales Line Items', MetaData(), Column('Client Account ID', VARCHAR(length=64, collation='SQL_Latin1_General_CP1_CI_AS'), ForeignKey('Client Accounts.Client Account ID'), table=<Sales Line Items>), Column('Opportunity Name', VARCHAR(length=512, collation='SQL_Latin1_General_CP1_CI_AS'), table=<Sales Line Items>), Column('Country', VARCHAR(length=256, collation='SQL_Latin1_General_CP1_CI_AS'), table=<Sales Line Items>), Column('Revenue Category', VARCHAR(length=256, collation='SQL_Latin1_General_CP1_CI_AS'), table=<Sales Line Items>), Column('Region', VARCHAR(length=128, collation='SQL_Latin1_General_CP1_CI_AS'), table=<Sales Line Items>), Column('Sale Date', DATETIME(), table=<Sales Line Items>), Column('Sale Type', VARCHAR(length=128, collation='SQL_Latin1_General_CP1_CI_AS'), table=<Sales Line Items>), Column('Product ID', VARCHAR(length=64, collation='SQL_Latin1_General_CP1_CI_AS'), ForeignKey('Products.Product ID'), table=<Sales Line Items>), Column('Sale Probability', INTEGER(), table=<Sales Line Items>), Column('SaaS Type', VARCHAR(length=128, collation='SQL_Latin1_General_CP1_CI_AS'), table=<Sales Line Items>), Column('New Flag', VARCHAR(length=128, collation='SQL_Latin1_General_CP1_CI_AS'), table=<Sales Line Items>), Column('One-Time or Renewal', VARCHAR(length=128, collation='SQL_Latin1_General_CP1_CI_AS'), table=<Sales Line Items>), Column('Contract ID', VARCHAR(length=128, collation='SQL_Latin1_General_CP1_CI_AS'), table=<Sales Line Items>), Column('Sale Amount $', REAL(), table=<Sales Line Items>), Column('Opportunity ID', VARCHAR(length=64, collation='SQL_Latin1_General_CP1_CI_AS'), table=<Sales Line Items>), Column('Sale or Pipeline', VARCHAR(length=128, collation='SQL_Latin1_General_CP1_CI_AS'), table=<Sales Line Items>), Column('SaaS or On-Premise', VARCHAR(length=128, collation='SQL_Latin1_General_CP1_CI_AS'), table=<Sales Line Items>), schema=None)]\n",
      "ImmutableColumnCollection(Client Accounts.Client Account ID, Client Accounts.Parent ID, Client Accounts.Client Account Name, Client Accounts.Annual Revenue, Client Accounts.Number of Employees, Client Accounts.Business Type, Client Accounts.Relationship Type, Client Accounts.Business Sector, Client Accounts.Credit Rating, Client Accounts.Asset Size $, Client Accounts.Asset Size Cohort)\n",
      "ImmutableColumnCollection(Products.Product ID, Products.Product Name, Products.Product Decsription, Products.Operating Unit (L2), Products.Product Function (L3), Products.Product Family (L4), Products.Product (L5), Products.Module (L6), Products.Product Strategist)\n",
      "ImmutableColumnCollection(Contacts.Contact ID, Contacts.Client Account ID, Contacts.Last Name, Contacts.First Name, Contacts.Contact Number, Contacts.Email Address, Contacts.Function, Contacts.Title Level)\n",
      "ImmutableColumnCollection(Sales Line Items.Client Account ID, Sales Line Items.Opportunity Name, Sales Line Items.Country, Sales Line Items.Revenue Category, Sales Line Items.Region, Sales Line Items.Sale Date, Sales Line Items.Sale Type, Sales Line Items.Product ID, Sales Line Items.Sale Probability, Sales Line Items.SaaS Type, Sales Line Items.New Flag, Sales Line Items.One-Time or Renewal, Sales Line Items.Contract ID, Sales Line Items.Sale Amount $, Sales Line Items.Opportunity ID, Sales Line Items.Sale or Pipeline, Sales Line Items.SaaS or On-Premise)\n"
     ]
    }
   ],
   "source": [
    "db.get_table_info_no_throw(db.get_usable_table_names())\n",
    "print(db.get_table_info_no_throw(db.get_usable_table_names()))\n",
    "print(db._metadata.sorted_tables)\n",
    "for t in db._metadata.sorted_tables: print(t.columns)"
   ]
  },
  {
   "cell_type": "markdown",
   "id": "fe6a4435",
   "metadata": {},
   "source": [
    "# Basic Chain "
   ]
  },
  {
   "cell_type": "code",
   "execution_count": 5,
   "id": "0ebaa17a",
   "metadata": {},
   "outputs": [],
   "source": [
    "db_chain_basic = SQLDatabaseChain.from_llm(llm, db)"
   ]
  },
  {
   "cell_type": "code",
   "execution_count": 6,
   "id": "2dc49112",
   "metadata": {},
   "outputs": [
    {
     "name": "stdout",
     "output_type": "stream",
     "text": [
      "You are an MS SQL expert. Given an input question, first create a syntactically correct MS SQL query to run, then look at the results of the query and return the answer to the input question.\n",
      "Unless the user specifies in the question a specific number of examples to obtain, query for at most {top_k} results using the TOP clause as per MS SQL. You can order the results to return the most informative data in the database.\n",
      "Never query for all columns from a table. You must query only the columns that are needed to answer the question. Wrap each column name in square brackets ([]) to denote them as delimited identifiers.\n",
      "Pay attention to use only the column names you can see in the tables below. Be careful to not query for columns that do not exist. Also, pay attention to which column is in which table.\n",
      "Pay attention to use CAST(GETDATE() as date) function to get the current date, if the question involves \"today\".\n",
      "\n",
      "Use the following format:\n",
      "\n",
      "Question: Question here\n",
      "SQLQuery: SQL Query to run\n",
      "SQLResult: Result of the SQLQuery\n",
      "Answer: Final answer here\n",
      "\n",
      "Only use the following tables:\n",
      "{table_info}\n",
      "\n",
      "Question: {input}\n"
     ]
    }
   ],
   "source": [
    "print(db_chain_basic.llm_chain.prompt.template)"
   ]
  },
  {
   "cell_type": "markdown",
   "id": "430ce0ee",
   "metadata": {},
   "source": [
    "# Configured Chain - Prompt 0 Configurations"
   ]
  },
  {
   "cell_type": "code",
   "execution_count": 7,
   "id": "cede4936",
   "metadata": {},
   "outputs": [],
   "source": [
    "_DEFAULT_TEMPLATE = \"\"\"Given an input question, first create a syntactically correct {dialect} query to run, then look at the results of the query and return the answer.\n",
    "\n",
    "ALWAYS adhere to the following query rules:\n",
    "    - DO NOT use table and column identifiers that do not exist.\n",
    "    - ALWAYS remember to join the data when using column identifiers from other tables.\n",
    "    - ALWAYS ensure that column identifiers used in SELECT, WHERE, GROUP BY, HAVING and ORDER BY operations exist in the table identifiers used in the FROM operation.\n",
    "    - ALWAYS use TOP instead of LIMIT when limiting queries.\n",
    "\n",
    "Use the following format:\n",
    "\n",
    "Question: \"Question here\"\n",
    "SQLQuery: \"SQL Query to run\"\n",
    "SQLResult: \"Result of the SQLQuery\"\n",
    "Answer: \"Final answer here\"\n",
    "\n",
    "Only use the following tables:\n",
    "\n",
    "{table_info}\n",
    "\n",
    "If you dont know the answer, please say I am not sure of the correct answer. If someone asks for number of clients, take of count Account column. \n",
    "\n",
    "Question: {input}\"\"\"\n",
    "\n",
    "PROMPT = PromptTemplate(\n",
    "    input_variables=[\"input\", \"table_info\", \"dialect\"], template=_DEFAULT_TEMPLATE\n",
    ")\n",
    "\n",
    "db_chain_prompt0 = SQLDatabaseChain.from_llm(llm, db, prompt=PROMPT, verbose=True)"
   ]
  },
  {
   "cell_type": "code",
   "execution_count": 8,
   "id": "ba0b1125",
   "metadata": {},
   "outputs": [
    {
     "name": "stdout",
     "output_type": "stream",
     "text": [
      "\n",
      "\n",
      "\u001b[1m> Entering new SQLDatabaseChain chain...\u001b[0m\n",
      "For L5 CreditLens, can you give me the total $ amount of sales in 2022?\n",
      "SQLQuery:\u001b[32;1m\u001b[1;3mSELECT SUM([Sale Amount $]) AS TotalSalesAmount\n",
      "FROM [Sales Line Items]\n",
      "JOIN [Products] ON [Sales Line Items].[Product ID] = [Products].[Product ID]\n",
      "WHERE [Products].[Product (L5)] = 'CreditLens' AND YEAR([Sale Date]) = 2022\u001b[0m\n",
      "SQLResult: \u001b[33;1m\u001b[1;3m[(124826394.43129063,)]\u001b[0m\n",
      "Answer:\u001b[32;1m\u001b[1;3mTotal $ amount of sales for L5 CreditLens in 2022 is $124,826,394.43.\u001b[0m\n",
      "\u001b[1m> Finished chain.\u001b[0m\n"
     ]
    },
    {
     "data": {
      "text/plain": [
       "{'query': 'For L5 CreditLens, can you give me the total $ amount of sales in 2022?',\n",
       " 'result': 'Total $ amount of sales for L5 CreditLens in 2022 is $124,826,394.43.'}"
      ]
     },
     "execution_count": 8,
     "metadata": {},
     "output_type": "execute_result"
    }
   ],
   "source": [
    "db_chain_prompt0(\"For L5 CreditLens, can you give me the total $ amount of sales in 2022?\")\n",
    "#db_chain_prompt0(\"For CreditLens in 2022 can you give me the total $ amount of sales?\")"
   ]
  },
  {
   "cell_type": "code",
   "execution_count": 9,
   "id": "381bec32",
   "metadata": {},
   "outputs": [
    {
     "name": "stdout",
     "output_type": "stream",
     "text": [
      "\n",
      "\n",
      "\u001b[1m> Entering new SQLDatabaseChain chain...\u001b[0m\n",
      "For L5 CreditLens can you give me the distinct number of clients in 2022?\n",
      "SQLQuery:\u001b[32;1m\u001b[1;3mSELECT COUNT(DISTINCT [Client Account ID]) AS [Distinct Clients]\n",
      "FROM [Sales Line Items]\n",
      "WHERE [Product (L5)] = 'CreditLens' AND YEAR([Sale Date]) = 2022\u001b[0m"
     ]
    },
    {
     "ename": "ProgrammingError",
     "evalue": "(pyodbc.ProgrammingError) ('42S22', \"[42S22] [Microsoft][SQL Server Native Client 11.0][SQL Server]Invalid column name 'Product (L5)'. (207) (SQLExecDirectW)\")\n[SQL: SELECT COUNT(DISTINCT [Client Account ID]) AS [Distinct Clients]\nFROM [Sales Line Items]\nWHERE [Product (L5)] = 'CreditLens' AND YEAR([Sale Date]) = 2022]\n(Background on this error at: https://sqlalche.me/e/14/f405)",
     "output_type": "error",
     "traceback": [
      "\u001b[1;31m---------------------------------------------------------------------------\u001b[0m",
      "\u001b[1;31mProgrammingError\u001b[0m                          Traceback (most recent call last)",
      "File \u001b[1;32mC:\\ProgramData\\anaconda3\\lib\\site-packages\\sqlalchemy\\engine\\base.py:1819\u001b[0m, in \u001b[0;36mConnection._execute_context\u001b[1;34m(self, dialect, constructor, statement, parameters, execution_options, *args, **kw)\u001b[0m\n\u001b[0;32m   1818\u001b[0m     \u001b[38;5;28;01mif\u001b[39;00m \u001b[38;5;129;01mnot\u001b[39;00m evt_handled:\n\u001b[1;32m-> 1819\u001b[0m         \u001b[38;5;28;43mself\u001b[39;49m\u001b[38;5;241;43m.\u001b[39;49m\u001b[43mdialect\u001b[49m\u001b[38;5;241;43m.\u001b[39;49m\u001b[43mdo_execute\u001b[49m\u001b[43m(\u001b[49m\n\u001b[0;32m   1820\u001b[0m \u001b[43m            \u001b[49m\u001b[43mcursor\u001b[49m\u001b[43m,\u001b[49m\u001b[43m \u001b[49m\u001b[43mstatement\u001b[49m\u001b[43m,\u001b[49m\u001b[43m \u001b[49m\u001b[43mparameters\u001b[49m\u001b[43m,\u001b[49m\u001b[43m \u001b[49m\u001b[43mcontext\u001b[49m\n\u001b[0;32m   1821\u001b[0m \u001b[43m        \u001b[49m\u001b[43m)\u001b[49m\n\u001b[0;32m   1823\u001b[0m \u001b[38;5;28;01mif\u001b[39;00m \u001b[38;5;28mself\u001b[39m\u001b[38;5;241m.\u001b[39m_has_events \u001b[38;5;129;01mor\u001b[39;00m \u001b[38;5;28mself\u001b[39m\u001b[38;5;241m.\u001b[39mengine\u001b[38;5;241m.\u001b[39m_has_events:\n",
      "File \u001b[1;32mC:\\ProgramData\\anaconda3\\lib\\site-packages\\sqlalchemy\\engine\\default.py:732\u001b[0m, in \u001b[0;36mDefaultDialect.do_execute\u001b[1;34m(self, cursor, statement, parameters, context)\u001b[0m\n\u001b[0;32m    731\u001b[0m \u001b[38;5;28;01mdef\u001b[39;00m \u001b[38;5;21mdo_execute\u001b[39m(\u001b[38;5;28mself\u001b[39m, cursor, statement, parameters, context\u001b[38;5;241m=\u001b[39m\u001b[38;5;28;01mNone\u001b[39;00m):\n\u001b[1;32m--> 732\u001b[0m     \u001b[43mcursor\u001b[49m\u001b[38;5;241;43m.\u001b[39;49m\u001b[43mexecute\u001b[49m\u001b[43m(\u001b[49m\u001b[43mstatement\u001b[49m\u001b[43m,\u001b[49m\u001b[43m \u001b[49m\u001b[43mparameters\u001b[49m\u001b[43m)\u001b[49m\n",
      "\u001b[1;31mProgrammingError\u001b[0m: ('42S22', \"[42S22] [Microsoft][SQL Server Native Client 11.0][SQL Server]Invalid column name 'Product (L5)'. (207) (SQLExecDirectW)\")",
      "\nThe above exception was the direct cause of the following exception:\n",
      "\u001b[1;31mProgrammingError\u001b[0m                          Traceback (most recent call last)",
      "Cell \u001b[1;32mIn[9], line 2\u001b[0m\n\u001b[0;32m      1\u001b[0m \u001b[38;5;66;03m#db_chain_prompt0(\"Can you give me distinct number of client in 2022 for L5 CreditLens?\")\u001b[39;00m\n\u001b[1;32m----> 2\u001b[0m \u001b[43mdb_chain_prompt0\u001b[49m\u001b[43m(\u001b[49m\u001b[38;5;124;43m\"\u001b[39;49m\u001b[38;5;124;43mFor L5 CreditLens can you give me the distinct number of clients in 2022?\u001b[39;49m\u001b[38;5;124;43m\"\u001b[39;49m\u001b[43m)\u001b[49m\n",
      "File \u001b[1;32m~\\AppData\\Roaming\\Python\\Python310\\site-packages\\langchain\\chains\\base.py:243\u001b[0m, in \u001b[0;36mChain.__call__\u001b[1;34m(self, inputs, return_only_outputs, callbacks, tags, metadata, include_run_info)\u001b[0m\n\u001b[0;32m    241\u001b[0m \u001b[38;5;28;01mexcept\u001b[39;00m (\u001b[38;5;167;01mKeyboardInterrupt\u001b[39;00m, \u001b[38;5;167;01mException\u001b[39;00m) \u001b[38;5;28;01mas\u001b[39;00m e:\n\u001b[0;32m    242\u001b[0m     run_manager\u001b[38;5;241m.\u001b[39mon_chain_error(e)\n\u001b[1;32m--> 243\u001b[0m     \u001b[38;5;28;01mraise\u001b[39;00m e\n\u001b[0;32m    244\u001b[0m run_manager\u001b[38;5;241m.\u001b[39mon_chain_end(outputs)\n\u001b[0;32m    245\u001b[0m final_outputs: Dict[\u001b[38;5;28mstr\u001b[39m, Any] \u001b[38;5;241m=\u001b[39m \u001b[38;5;28mself\u001b[39m\u001b[38;5;241m.\u001b[39mprep_outputs(\n\u001b[0;32m    246\u001b[0m     inputs, outputs, return_only_outputs\n\u001b[0;32m    247\u001b[0m )\n",
      "File \u001b[1;32m~\\AppData\\Roaming\\Python\\Python310\\site-packages\\langchain\\chains\\base.py:237\u001b[0m, in \u001b[0;36mChain.__call__\u001b[1;34m(self, inputs, return_only_outputs, callbacks, tags, metadata, include_run_info)\u001b[0m\n\u001b[0;32m    231\u001b[0m run_manager \u001b[38;5;241m=\u001b[39m callback_manager\u001b[38;5;241m.\u001b[39mon_chain_start(\n\u001b[0;32m    232\u001b[0m     dumpd(\u001b[38;5;28mself\u001b[39m),\n\u001b[0;32m    233\u001b[0m     inputs,\n\u001b[0;32m    234\u001b[0m )\n\u001b[0;32m    235\u001b[0m \u001b[38;5;28;01mtry\u001b[39;00m:\n\u001b[0;32m    236\u001b[0m     outputs \u001b[38;5;241m=\u001b[39m (\n\u001b[1;32m--> 237\u001b[0m         \u001b[38;5;28;43mself\u001b[39;49m\u001b[38;5;241;43m.\u001b[39;49m\u001b[43m_call\u001b[49m\u001b[43m(\u001b[49m\u001b[43minputs\u001b[49m\u001b[43m,\u001b[49m\u001b[43m \u001b[49m\u001b[43mrun_manager\u001b[49m\u001b[38;5;241;43m=\u001b[39;49m\u001b[43mrun_manager\u001b[49m\u001b[43m)\u001b[49m\n\u001b[0;32m    238\u001b[0m         \u001b[38;5;28;01mif\u001b[39;00m new_arg_supported\n\u001b[0;32m    239\u001b[0m         \u001b[38;5;28;01melse\u001b[39;00m \u001b[38;5;28mself\u001b[39m\u001b[38;5;241m.\u001b[39m_call(inputs)\n\u001b[0;32m    240\u001b[0m     )\n\u001b[0;32m    241\u001b[0m \u001b[38;5;28;01mexcept\u001b[39;00m (\u001b[38;5;167;01mKeyboardInterrupt\u001b[39;00m, \u001b[38;5;167;01mException\u001b[39;00m) \u001b[38;5;28;01mas\u001b[39;00m e:\n\u001b[0;32m    242\u001b[0m     run_manager\u001b[38;5;241m.\u001b[39mon_chain_error(e)\n",
      "File \u001b[1;32m~\\AppData\\Roaming\\Python\\Python310\\site-packages\\langchain\\chains\\sql_database\\base.py:181\u001b[0m, in \u001b[0;36mSQLDatabaseChain._call\u001b[1;34m(self, inputs, run_manager)\u001b[0m\n\u001b[0;32m    177\u001b[0m \u001b[38;5;28;01mexcept\u001b[39;00m \u001b[38;5;167;01mException\u001b[39;00m \u001b[38;5;28;01mas\u001b[39;00m exc:\n\u001b[0;32m    178\u001b[0m     \u001b[38;5;66;03m# Append intermediate steps to exception, to aid in logging and later\u001b[39;00m\n\u001b[0;32m    179\u001b[0m     \u001b[38;5;66;03m# improvement of few shot prompt seeds\u001b[39;00m\n\u001b[0;32m    180\u001b[0m     exc\u001b[38;5;241m.\u001b[39mintermediate_steps \u001b[38;5;241m=\u001b[39m intermediate_steps  \u001b[38;5;66;03m# type: ignore\u001b[39;00m\n\u001b[1;32m--> 181\u001b[0m     \u001b[38;5;28;01mraise\u001b[39;00m exc\n",
      "File \u001b[1;32m~\\AppData\\Roaming\\Python\\Python310\\site-packages\\langchain\\chains\\sql_database\\base.py:126\u001b[0m, in \u001b[0;36mSQLDatabaseChain._call\u001b[1;34m(self, inputs, run_manager)\u001b[0m\n\u001b[0;32m    122\u001b[0m     intermediate_steps\u001b[38;5;241m.\u001b[39mappend(\n\u001b[0;32m    123\u001b[0m         sql_cmd\n\u001b[0;32m    124\u001b[0m     )  \u001b[38;5;66;03m# output: sql generation (no checker)\u001b[39;00m\n\u001b[0;32m    125\u001b[0m     intermediate_steps\u001b[38;5;241m.\u001b[39mappend({\u001b[38;5;124m\"\u001b[39m\u001b[38;5;124msql_cmd\u001b[39m\u001b[38;5;124m\"\u001b[39m: sql_cmd})  \u001b[38;5;66;03m# input: sql exec\u001b[39;00m\n\u001b[1;32m--> 126\u001b[0m     result \u001b[38;5;241m=\u001b[39m \u001b[38;5;28;43mself\u001b[39;49m\u001b[38;5;241;43m.\u001b[39;49m\u001b[43mdatabase\u001b[49m\u001b[38;5;241;43m.\u001b[39;49m\u001b[43mrun\u001b[49m\u001b[43m(\u001b[49m\u001b[43msql_cmd\u001b[49m\u001b[43m)\u001b[49m\n\u001b[0;32m    127\u001b[0m     intermediate_steps\u001b[38;5;241m.\u001b[39mappend(\u001b[38;5;28mstr\u001b[39m(result))  \u001b[38;5;66;03m# output: sql exec\u001b[39;00m\n\u001b[0;32m    128\u001b[0m \u001b[38;5;28;01melse\u001b[39;00m:\n",
      "File \u001b[1;32m~\\AppData\\Roaming\\Python\\Python310\\site-packages\\langchain\\sql_database.py:390\u001b[0m, in \u001b[0;36mSQLDatabase.run\u001b[1;34m(self, command, fetch)\u001b[0m\n\u001b[0;32m    388\u001b[0m     \u001b[38;5;28;01melse\u001b[39;00m:\n\u001b[0;32m    389\u001b[0m         connection\u001b[38;5;241m.\u001b[39mexec_driver_sql(\u001b[38;5;124mf\u001b[39m\u001b[38;5;124m\"\u001b[39m\u001b[38;5;124mSET search_path TO \u001b[39m\u001b[38;5;132;01m{\u001b[39;00m\u001b[38;5;28mself\u001b[39m\u001b[38;5;241m.\u001b[39m_schema\u001b[38;5;132;01m}\u001b[39;00m\u001b[38;5;124m\"\u001b[39m)\n\u001b[1;32m--> 390\u001b[0m cursor \u001b[38;5;241m=\u001b[39m \u001b[43mconnection\u001b[49m\u001b[38;5;241;43m.\u001b[39;49m\u001b[43mexecute\u001b[49m\u001b[43m(\u001b[49m\u001b[43mtext\u001b[49m\u001b[43m(\u001b[49m\u001b[43mcommand\u001b[49m\u001b[43m)\u001b[49m\u001b[43m)\u001b[49m\n\u001b[0;32m    391\u001b[0m \u001b[38;5;28;01mif\u001b[39;00m cursor\u001b[38;5;241m.\u001b[39mreturns_rows:\n\u001b[0;32m    392\u001b[0m     \u001b[38;5;28;01mif\u001b[39;00m fetch \u001b[38;5;241m==\u001b[39m \u001b[38;5;124m\"\u001b[39m\u001b[38;5;124mall\u001b[39m\u001b[38;5;124m\"\u001b[39m:\n",
      "File \u001b[1;32mC:\\ProgramData\\anaconda3\\lib\\site-packages\\sqlalchemy\\engine\\base.py:1306\u001b[0m, in \u001b[0;36mConnection.execute\u001b[1;34m(self, statement, *multiparams, **params)\u001b[0m\n\u001b[0;32m   1302\u001b[0m     util\u001b[38;5;241m.\u001b[39mraise_(\n\u001b[0;32m   1303\u001b[0m         exc\u001b[38;5;241m.\u001b[39mObjectNotExecutableError(statement), replace_context\u001b[38;5;241m=\u001b[39merr\n\u001b[0;32m   1304\u001b[0m     )\n\u001b[0;32m   1305\u001b[0m \u001b[38;5;28;01melse\u001b[39;00m:\n\u001b[1;32m-> 1306\u001b[0m     \u001b[38;5;28;01mreturn\u001b[39;00m \u001b[43mmeth\u001b[49m\u001b[43m(\u001b[49m\u001b[38;5;28;43mself\u001b[39;49m\u001b[43m,\u001b[49m\u001b[43m \u001b[49m\u001b[43mmultiparams\u001b[49m\u001b[43m,\u001b[49m\u001b[43m \u001b[49m\u001b[43mparams\u001b[49m\u001b[43m,\u001b[49m\u001b[43m \u001b[49m\u001b[43m_EMPTY_EXECUTION_OPTS\u001b[49m\u001b[43m)\u001b[49m\n",
      "File \u001b[1;32mC:\\ProgramData\\anaconda3\\lib\\site-packages\\sqlalchemy\\sql\\elements.py:332\u001b[0m, in \u001b[0;36mClauseElement._execute_on_connection\u001b[1;34m(self, connection, multiparams, params, execution_options, _force)\u001b[0m\n\u001b[0;32m    328\u001b[0m \u001b[38;5;28;01mdef\u001b[39;00m \u001b[38;5;21m_execute_on_connection\u001b[39m(\n\u001b[0;32m    329\u001b[0m     \u001b[38;5;28mself\u001b[39m, connection, multiparams, params, execution_options, _force\u001b[38;5;241m=\u001b[39m\u001b[38;5;28;01mFalse\u001b[39;00m\n\u001b[0;32m    330\u001b[0m ):\n\u001b[0;32m    331\u001b[0m     \u001b[38;5;28;01mif\u001b[39;00m _force \u001b[38;5;129;01mor\u001b[39;00m \u001b[38;5;28mself\u001b[39m\u001b[38;5;241m.\u001b[39msupports_execution:\n\u001b[1;32m--> 332\u001b[0m         \u001b[38;5;28;01mreturn\u001b[39;00m \u001b[43mconnection\u001b[49m\u001b[38;5;241;43m.\u001b[39;49m\u001b[43m_execute_clauseelement\u001b[49m\u001b[43m(\u001b[49m\n\u001b[0;32m    333\u001b[0m \u001b[43m            \u001b[49m\u001b[38;5;28;43mself\u001b[39;49m\u001b[43m,\u001b[49m\u001b[43m \u001b[49m\u001b[43mmultiparams\u001b[49m\u001b[43m,\u001b[49m\u001b[43m \u001b[49m\u001b[43mparams\u001b[49m\u001b[43m,\u001b[49m\u001b[43m \u001b[49m\u001b[43mexecution_options\u001b[49m\n\u001b[0;32m    334\u001b[0m \u001b[43m        \u001b[49m\u001b[43m)\u001b[49m\n\u001b[0;32m    335\u001b[0m     \u001b[38;5;28;01melse\u001b[39;00m:\n\u001b[0;32m    336\u001b[0m         \u001b[38;5;28;01mraise\u001b[39;00m exc\u001b[38;5;241m.\u001b[39mObjectNotExecutableError(\u001b[38;5;28mself\u001b[39m)\n",
      "File \u001b[1;32mC:\\ProgramData\\anaconda3\\lib\\site-packages\\sqlalchemy\\engine\\base.py:1498\u001b[0m, in \u001b[0;36mConnection._execute_clauseelement\u001b[1;34m(self, elem, multiparams, params, execution_options)\u001b[0m\n\u001b[0;32m   1486\u001b[0m compiled_cache \u001b[38;5;241m=\u001b[39m execution_options\u001b[38;5;241m.\u001b[39mget(\n\u001b[0;32m   1487\u001b[0m     \u001b[38;5;124m\"\u001b[39m\u001b[38;5;124mcompiled_cache\u001b[39m\u001b[38;5;124m\"\u001b[39m, \u001b[38;5;28mself\u001b[39m\u001b[38;5;241m.\u001b[39mengine\u001b[38;5;241m.\u001b[39m_compiled_cache\n\u001b[0;32m   1488\u001b[0m )\n\u001b[0;32m   1490\u001b[0m compiled_sql, extracted_params, cache_hit \u001b[38;5;241m=\u001b[39m elem\u001b[38;5;241m.\u001b[39m_compile_w_cache(\n\u001b[0;32m   1491\u001b[0m     dialect\u001b[38;5;241m=\u001b[39mdialect,\n\u001b[0;32m   1492\u001b[0m     compiled_cache\u001b[38;5;241m=\u001b[39mcompiled_cache,\n\u001b[1;32m   (...)\u001b[0m\n\u001b[0;32m   1496\u001b[0m     linting\u001b[38;5;241m=\u001b[39m\u001b[38;5;28mself\u001b[39m\u001b[38;5;241m.\u001b[39mdialect\u001b[38;5;241m.\u001b[39mcompiler_linting \u001b[38;5;241m|\u001b[39m compiler\u001b[38;5;241m.\u001b[39mWARN_LINTING,\n\u001b[0;32m   1497\u001b[0m )\n\u001b[1;32m-> 1498\u001b[0m ret \u001b[38;5;241m=\u001b[39m \u001b[38;5;28;43mself\u001b[39;49m\u001b[38;5;241;43m.\u001b[39;49m\u001b[43m_execute_context\u001b[49m\u001b[43m(\u001b[49m\n\u001b[0;32m   1499\u001b[0m \u001b[43m    \u001b[49m\u001b[43mdialect\u001b[49m\u001b[43m,\u001b[49m\n\u001b[0;32m   1500\u001b[0m \u001b[43m    \u001b[49m\u001b[43mdialect\u001b[49m\u001b[38;5;241;43m.\u001b[39;49m\u001b[43mexecution_ctx_cls\u001b[49m\u001b[38;5;241;43m.\u001b[39;49m\u001b[43m_init_compiled\u001b[49m\u001b[43m,\u001b[49m\n\u001b[0;32m   1501\u001b[0m \u001b[43m    \u001b[49m\u001b[43mcompiled_sql\u001b[49m\u001b[43m,\u001b[49m\n\u001b[0;32m   1502\u001b[0m \u001b[43m    \u001b[49m\u001b[43mdistilled_params\u001b[49m\u001b[43m,\u001b[49m\n\u001b[0;32m   1503\u001b[0m \u001b[43m    \u001b[49m\u001b[43mexecution_options\u001b[49m\u001b[43m,\u001b[49m\n\u001b[0;32m   1504\u001b[0m \u001b[43m    \u001b[49m\u001b[43mcompiled_sql\u001b[49m\u001b[43m,\u001b[49m\n\u001b[0;32m   1505\u001b[0m \u001b[43m    \u001b[49m\u001b[43mdistilled_params\u001b[49m\u001b[43m,\u001b[49m\n\u001b[0;32m   1506\u001b[0m \u001b[43m    \u001b[49m\u001b[43melem\u001b[49m\u001b[43m,\u001b[49m\n\u001b[0;32m   1507\u001b[0m \u001b[43m    \u001b[49m\u001b[43mextracted_params\u001b[49m\u001b[43m,\u001b[49m\n\u001b[0;32m   1508\u001b[0m \u001b[43m    \u001b[49m\u001b[43mcache_hit\u001b[49m\u001b[38;5;241;43m=\u001b[39;49m\u001b[43mcache_hit\u001b[49m\u001b[43m,\u001b[49m\n\u001b[0;32m   1509\u001b[0m \u001b[43m\u001b[49m\u001b[43m)\u001b[49m\n\u001b[0;32m   1510\u001b[0m \u001b[38;5;28;01mif\u001b[39;00m has_events:\n\u001b[0;32m   1511\u001b[0m     \u001b[38;5;28mself\u001b[39m\u001b[38;5;241m.\u001b[39mdispatch\u001b[38;5;241m.\u001b[39mafter_execute(\n\u001b[0;32m   1512\u001b[0m         \u001b[38;5;28mself\u001b[39m,\n\u001b[0;32m   1513\u001b[0m         elem,\n\u001b[1;32m   (...)\u001b[0m\n\u001b[0;32m   1517\u001b[0m         ret,\n\u001b[0;32m   1518\u001b[0m     )\n",
      "File \u001b[1;32mC:\\ProgramData\\anaconda3\\lib\\site-packages\\sqlalchemy\\engine\\base.py:1862\u001b[0m, in \u001b[0;36mConnection._execute_context\u001b[1;34m(self, dialect, constructor, statement, parameters, execution_options, *args, **kw)\u001b[0m\n\u001b[0;32m   1859\u001b[0m             branched\u001b[38;5;241m.\u001b[39mclose()\n\u001b[0;32m   1861\u001b[0m \u001b[38;5;28;01mexcept\u001b[39;00m \u001b[38;5;167;01mBaseException\u001b[39;00m \u001b[38;5;28;01mas\u001b[39;00m e:\n\u001b[1;32m-> 1862\u001b[0m     \u001b[38;5;28;43mself\u001b[39;49m\u001b[38;5;241;43m.\u001b[39;49m\u001b[43m_handle_dbapi_exception\u001b[49m\u001b[43m(\u001b[49m\n\u001b[0;32m   1863\u001b[0m \u001b[43m        \u001b[49m\u001b[43me\u001b[49m\u001b[43m,\u001b[49m\u001b[43m \u001b[49m\u001b[43mstatement\u001b[49m\u001b[43m,\u001b[49m\u001b[43m \u001b[49m\u001b[43mparameters\u001b[49m\u001b[43m,\u001b[49m\u001b[43m \u001b[49m\u001b[43mcursor\u001b[49m\u001b[43m,\u001b[49m\u001b[43m \u001b[49m\u001b[43mcontext\u001b[49m\n\u001b[0;32m   1864\u001b[0m \u001b[43m    \u001b[49m\u001b[43m)\u001b[49m\n\u001b[0;32m   1866\u001b[0m \u001b[38;5;28;01mreturn\u001b[39;00m result\n",
      "File \u001b[1;32mC:\\ProgramData\\anaconda3\\lib\\site-packages\\sqlalchemy\\engine\\base.py:2043\u001b[0m, in \u001b[0;36mConnection._handle_dbapi_exception\u001b[1;34m(self, e, statement, parameters, cursor, context)\u001b[0m\n\u001b[0;32m   2041\u001b[0m     util\u001b[38;5;241m.\u001b[39mraise_(newraise, with_traceback\u001b[38;5;241m=\u001b[39mexc_info[\u001b[38;5;241m2\u001b[39m], from_\u001b[38;5;241m=\u001b[39me)\n\u001b[0;32m   2042\u001b[0m \u001b[38;5;28;01melif\u001b[39;00m should_wrap:\n\u001b[1;32m-> 2043\u001b[0m     \u001b[43mutil\u001b[49m\u001b[38;5;241;43m.\u001b[39;49m\u001b[43mraise_\u001b[49m\u001b[43m(\u001b[49m\n\u001b[0;32m   2044\u001b[0m \u001b[43m        \u001b[49m\u001b[43msqlalchemy_exception\u001b[49m\u001b[43m,\u001b[49m\u001b[43m \u001b[49m\u001b[43mwith_traceback\u001b[49m\u001b[38;5;241;43m=\u001b[39;49m\u001b[43mexc_info\u001b[49m\u001b[43m[\u001b[49m\u001b[38;5;241;43m2\u001b[39;49m\u001b[43m]\u001b[49m\u001b[43m,\u001b[49m\u001b[43m \u001b[49m\u001b[43mfrom_\u001b[49m\u001b[38;5;241;43m=\u001b[39;49m\u001b[43me\u001b[49m\n\u001b[0;32m   2045\u001b[0m \u001b[43m    \u001b[49m\u001b[43m)\u001b[49m\n\u001b[0;32m   2046\u001b[0m \u001b[38;5;28;01melse\u001b[39;00m:\n\u001b[0;32m   2047\u001b[0m     util\u001b[38;5;241m.\u001b[39mraise_(exc_info[\u001b[38;5;241m1\u001b[39m], with_traceback\u001b[38;5;241m=\u001b[39mexc_info[\u001b[38;5;241m2\u001b[39m])\n",
      "File \u001b[1;32mC:\\ProgramData\\anaconda3\\lib\\site-packages\\sqlalchemy\\util\\compat.py:208\u001b[0m, in \u001b[0;36mraise_\u001b[1;34m(***failed resolving arguments***)\u001b[0m\n\u001b[0;32m    205\u001b[0m     exception\u001b[38;5;241m.\u001b[39m__cause__ \u001b[38;5;241m=\u001b[39m replace_context\n\u001b[0;32m    207\u001b[0m \u001b[38;5;28;01mtry\u001b[39;00m:\n\u001b[1;32m--> 208\u001b[0m     \u001b[38;5;28;01mraise\u001b[39;00m exception\n\u001b[0;32m    209\u001b[0m \u001b[38;5;28;01mfinally\u001b[39;00m:\n\u001b[0;32m    210\u001b[0m     \u001b[38;5;66;03m# credit to\u001b[39;00m\n\u001b[0;32m    211\u001b[0m     \u001b[38;5;66;03m# https://cosmicpercolator.com/2016/01/13/exception-leaks-in-python-2-and-3/\u001b[39;00m\n\u001b[0;32m    212\u001b[0m     \u001b[38;5;66;03m# as the __traceback__ object creates a cycle\u001b[39;00m\n\u001b[0;32m    213\u001b[0m     \u001b[38;5;28;01mdel\u001b[39;00m exception, replace_context, from_, with_traceback\n",
      "File \u001b[1;32mC:\\ProgramData\\anaconda3\\lib\\site-packages\\sqlalchemy\\engine\\base.py:1819\u001b[0m, in \u001b[0;36mConnection._execute_context\u001b[1;34m(self, dialect, constructor, statement, parameters, execution_options, *args, **kw)\u001b[0m\n\u001b[0;32m   1817\u001b[0m                 \u001b[38;5;28;01mbreak\u001b[39;00m\n\u001b[0;32m   1818\u001b[0m     \u001b[38;5;28;01mif\u001b[39;00m \u001b[38;5;129;01mnot\u001b[39;00m evt_handled:\n\u001b[1;32m-> 1819\u001b[0m         \u001b[38;5;28;43mself\u001b[39;49m\u001b[38;5;241;43m.\u001b[39;49m\u001b[43mdialect\u001b[49m\u001b[38;5;241;43m.\u001b[39;49m\u001b[43mdo_execute\u001b[49m\u001b[43m(\u001b[49m\n\u001b[0;32m   1820\u001b[0m \u001b[43m            \u001b[49m\u001b[43mcursor\u001b[49m\u001b[43m,\u001b[49m\u001b[43m \u001b[49m\u001b[43mstatement\u001b[49m\u001b[43m,\u001b[49m\u001b[43m \u001b[49m\u001b[43mparameters\u001b[49m\u001b[43m,\u001b[49m\u001b[43m \u001b[49m\u001b[43mcontext\u001b[49m\n\u001b[0;32m   1821\u001b[0m \u001b[43m        \u001b[49m\u001b[43m)\u001b[49m\n\u001b[0;32m   1823\u001b[0m \u001b[38;5;28;01mif\u001b[39;00m \u001b[38;5;28mself\u001b[39m\u001b[38;5;241m.\u001b[39m_has_events \u001b[38;5;129;01mor\u001b[39;00m \u001b[38;5;28mself\u001b[39m\u001b[38;5;241m.\u001b[39mengine\u001b[38;5;241m.\u001b[39m_has_events:\n\u001b[0;32m   1824\u001b[0m     \u001b[38;5;28mself\u001b[39m\u001b[38;5;241m.\u001b[39mdispatch\u001b[38;5;241m.\u001b[39mafter_cursor_execute(\n\u001b[0;32m   1825\u001b[0m         \u001b[38;5;28mself\u001b[39m,\n\u001b[0;32m   1826\u001b[0m         cursor,\n\u001b[1;32m   (...)\u001b[0m\n\u001b[0;32m   1830\u001b[0m         context\u001b[38;5;241m.\u001b[39mexecutemany,\n\u001b[0;32m   1831\u001b[0m     )\n",
      "File \u001b[1;32mC:\\ProgramData\\anaconda3\\lib\\site-packages\\sqlalchemy\\engine\\default.py:732\u001b[0m, in \u001b[0;36mDefaultDialect.do_execute\u001b[1;34m(self, cursor, statement, parameters, context)\u001b[0m\n\u001b[0;32m    731\u001b[0m \u001b[38;5;28;01mdef\u001b[39;00m \u001b[38;5;21mdo_execute\u001b[39m(\u001b[38;5;28mself\u001b[39m, cursor, statement, parameters, context\u001b[38;5;241m=\u001b[39m\u001b[38;5;28;01mNone\u001b[39;00m):\n\u001b[1;32m--> 732\u001b[0m     \u001b[43mcursor\u001b[49m\u001b[38;5;241;43m.\u001b[39;49m\u001b[43mexecute\u001b[49m\u001b[43m(\u001b[49m\u001b[43mstatement\u001b[49m\u001b[43m,\u001b[49m\u001b[43m \u001b[49m\u001b[43mparameters\u001b[49m\u001b[43m)\u001b[49m\n",
      "\u001b[1;31mProgrammingError\u001b[0m: (pyodbc.ProgrammingError) ('42S22', \"[42S22] [Microsoft][SQL Server Native Client 11.0][SQL Server]Invalid column name 'Product (L5)'. (207) (SQLExecDirectW)\")\n[SQL: SELECT COUNT(DISTINCT [Client Account ID]) AS [Distinct Clients]\nFROM [Sales Line Items]\nWHERE [Product (L5)] = 'CreditLens' AND YEAR([Sale Date]) = 2022]\n(Background on this error at: https://sqlalche.me/e/14/f405)"
     ]
    }
   ],
   "source": [
    "#db_chain_prompt0(\"Can you give me distinct number of client in 2022 for L5 CreditLens?\")\n",
    "db_chain_prompt0(\"For L5 CreditLens can you give me the distinct number of clients in 2022?\")"
   ]
  },
  {
   "cell_type": "code",
   "execution_count": 10,
   "id": "e83e011a",
   "metadata": {},
   "outputs": [
    {
     "name": "stdout",
     "output_type": "stream",
     "text": [
      "\n",
      "\n",
      "\u001b[1m> Entering new SQLDatabaseChain chain...\u001b[0m\n",
      "For L3 Regulatiry can you give me # Clients for Region Americas in year 2021\n",
      "SQLQuery:\u001b[32;1m\u001b[1;3mSELECT COUNT(DISTINCT [Client Account ID]) AS [Number of Clients]\n",
      "FROM [Sales Line Items] sli\n",
      "JOIN [Products] p ON sli.[Product ID] = p.[Product ID]\n",
      "WHERE p.[Product Function (L3)] = 'Regulatory'\n",
      "AND sli.[Region] = 'Americas'\n",
      "AND YEAR(sli.[Sale Date]) = 2021\u001b[0m\n",
      "SQLResult: \u001b[33;1m\u001b[1;3m[(13,)]\u001b[0m\n",
      "Answer:\u001b[32;1m\u001b[1;3mNumber of Clients for L3 Regulatory in Region Americas in year 2021 is 13.\u001b[0m\n",
      "\u001b[1m> Finished chain.\u001b[0m\n"
     ]
    },
    {
     "data": {
      "text/plain": [
       "{'query': 'For L3 Regulatiry can you give me # Clients for Region Americas in year 2021',\n",
       " 'result': 'Number of Clients for L3 Regulatory in Region Americas in year 2021 is 13.'}"
      ]
     },
     "execution_count": 10,
     "metadata": {},
     "output_type": "execute_result"
    }
   ],
   "source": [
    "#db_chain_prompt0(\"For all Product (L5) can you give me # Clients for Region Americas\")\n",
    "#db_chain_prompt0(\"can you give me total # Clients for Region Americas\")\n",
    "db_chain_prompt0(\"For L3 Regulatiry can you give me # Clients for Region Americas in year 2021\")"
   ]
  },
  {
   "cell_type": "code",
   "execution_count": 13,
   "id": "593796c4",
   "metadata": {},
   "outputs": [
    {
     "name": "stdout",
     "output_type": "stream",
     "text": [
      "\n",
      "\n",
      "\u001b[1m> Entering new SQLDatabaseChain chain...\u001b[0m\n",
      "how many Regulatory client did we have in 2021 in the Americas\n",
      "SQLQuery:\u001b[32;1m\u001b[1;3mSELECT COUNT([Client Account ID]) AS [Number of Regulatory Clients]\n",
      "FROM [Client Accounts]\n",
      "WHERE [Business Sector] = 'Regulatory'\n",
      "AND [Client Account ID] IN (\n",
      "    SELECT [Client Account ID]\n",
      "    FROM [Sales Line Items]\n",
      "    WHERE [Region] = 'Americas'\n",
      "    AND YEAR([Sale Date]) = 2021\n",
      ")\u001b[0m\n",
      "SQLResult: \u001b[33;1m\u001b[1;3m[(0,)]\u001b[0m\n",
      "Answer:\u001b[32;1m\u001b[1;3mNumber of Regulatory Clients: 0\u001b[0m\n",
      "\u001b[1m> Finished chain.\u001b[0m\n"
     ]
    },
    {
     "data": {
      "text/plain": [
       "{'query': 'how many Regulatory client did we have in 2021 in the Americas',\n",
       " 'result': 'Number of Regulatory Clients: 0'}"
      ]
     },
     "execution_count": 13,
     "metadata": {},
     "output_type": "execute_result"
    }
   ],
   "source": [
    "#db_chain_prompt0(\"For L3 Regulatory can you give me # Clients for Region Americas in Year 2021\")\n",
    "#db_chain_prompt0(\"Can you give me # Clients for Region Americas in Year 2021 where L3 is Regulatory\")\n",
    "db_chain_prompt0(\"how many Regulatory client did we have in 2021 in the Americas\")"
   ]
  },
  {
   "cell_type": "code",
   "execution_count": 19,
   "id": "6e73af2e",
   "metadata": {},
   "outputs": [
    {
     "name": "stdout",
     "output_type": "stream",
     "text": [
      "\n",
      "\n",
      "\u001b[1m> Entering new SQLDatabaseChain chain...\u001b[0m\n",
      "Can you give me Xsale for year 2022 for all the products where L3 is Regulatory\n",
      "SQLQuery:\u001b[32;1m\u001b[1;3mSELECT [Product Name], SUM([Sale Amount $]) AS TotalSales\n",
      "FROM [Sales Line Items] sli\n",
      "JOIN [Products] p ON sli.[Product ID] = p.[Product ID]\n",
      "WHERE YEAR([Sale Date]) = 2022 AND p.[Product Function (L3)] = 'Regulatory'\n",
      "GROUP BY [Product Name]\u001b[0m\n",
      "SQLResult: \u001b[33;1m\u001b[1;3m[('Banking Cloud - Regulatory Reports - Pillar 1 - Remuneration Reports', 6912.048828125), ('Banking Cloud - Regulatory Reports - Pillar 1 - TLAC & MREL Reports', 28153.28189086914), ('Banking Cloud - Regulatory Reports - Pillar 1 G-SIB', 9034.0087890625), ('Banking Cloud - Regulatory Reports - STE SREP NPE', 2344.71630859375), ('Banking Cloud Basel 3 Counterparty Credit Risk (SA-CCR EAD, CEM EAD)', 220015.1513671875), ('Banking Cloud Basel 3 Credit Risk RWA (SA and IRB)', 1768241.71875), ('Banking Cloud Basel 3 Credit Risk RWA (SA Only)', 144213.0), ('Banking Cloud Basel 3 Large Exposures', 767575.75), ('Banking Cloud Basel 3 Leverage Ratio', 6566.603515625), ('Banking Cloud Credit Risk and Reporting Onboarding Package (Priority Portfolio)', 740315.8125), ('Banking Cloud Liquidity Risk - Stocks', 49206.5078125), ('Banking Cloud notification of impracticability reports', 3629.961669921875), ('Banking Cloud Regulatory Report - Anacredit Phase 1', 181540.138671875), ('Banking Cloud Regulatory Report - BoE All Statistical Reports (OSCA)', 57297.96875), ('Banking Cloud Regulatory Report - Commercial Real Estate Mortgages', 9653.611328125), ('Banking Cloud Regulatory Report - EBA FINREP IFRS', 42207.7099609375), ('Banking Cloud Regulatory Report - EBA Supervisory Benchmark Portfolio Credit Risk', 5173.08154296875), ('Banking Cloud Regulatory Report - IRRBB reports', 40043.0), ('Banking Cloud Regulatory Report - Pillar 1 ALMM Reports', 27667.462890625), ('Banking Cloud Regulatory Report - Pillar 1 Asset Encumbrance', 125411.75439453125), ('Banking Cloud Regulatory Report - Pillar 1 Basel 3 EBA COREP', 289982.7802734375), ('Banking Cloud Regulatory Report - Pillar 1 Basel 3 Regulatory Capital (non-EU)', 171932.0), ('Banking Cloud Regulatory Report - Pillar 1 Large Exposures', 156166.8076171875), ('Banking Cloud Regulatory Report - Pillar 1 LCR Reports', 25244.18310546875), ('Banking Cloud Regulatory Report - Pillar 1 Leverage Ratio', 103626.634765625), ('Banking Cloud Regulatory Report - Pillar 1 NSFR Reports', 12622.091552734375), ('Banking Cloud Regulatory Report - Pillar 3 Capital Reports', 59728.0), ('Banking Cloud Regulatory Report - Residential Real Estate Mortgages', 9653.611328125), ('Banking Cloud Regulatory Report - Resolution Reports', 1568.1485595703125), ('Banking Cloud Regulatory Report - Security Holding Statistics', 13011.204833984375), ('Banking Cloud Regulatory Report - Single Resolution Fund (SRF)', 13848.01904296875), ('Banking Cloud Regulatory Report - UK FSA 082 Pillar 2 Credit Risk Retail', 11213.94384765625), ('Banking Cloud Regulatory Report - UK FSA045 IRB Portfolio Risk Data', 6635.42919921875), ('Banking Cloud Regulatory Report GÇô BoE Form AS', 5755.13232421875), ('Banking Cloud Regulatory Report GÇô BoE Form Buy to Let (BTL)', 7673.91943359375), ('Banking Cloud Regulatory Report GÇô FSA017', 9530.97265625), ('Banking Cloud Regulatory Report GÇô PRA MREL 001-003', 5162.74072265625), ('Banking Cloud Regulatory Report GÇô Resolution Reports', 2647.326904296875), ('Banking Cloud Regulatory Reports - ECB Security Holding Statistics Reports', 11212.236328125), ('Banking Cloud Regulatory Reports - ECB SREP - Concentration Risk', 3361.711181640625), ('Banking Cloud Regulatory Reports - ECB SREP - Credit Risk Reports', 3361.711181640625), ('Banking Cloud Regulatory Reports - Phase 1 AnaCredit', 17225.400390625), ('Banking Cloud Regulatory Reports - Pillar 1 - ALMM Reports', 14728.0), ('Banking Cloud Regulatory Reports - Pillar 1 - FRTB Reports', 16038.79931640625), ('Banking Cloud Regulatory Reports - Pillar 1 - LCR Reports', 7377.0), ('Banking Cloud Regulatory Reports - Pillar 1 - NSFR Reports', 3058.0), ('Banking Cloud Regulatory Reports - Pillar 2 Disclosure - IRRBB Reports', 17638.0), ('Banking Cloud Regulatory Reports - Pillar 3 Disclosure - IRRBB Reports', 6147.0), ('Banking Cloud Regulatory Reports - Pillar 3 Disclosure - Liquidity Risk (LCR & NSFR)', 4603.0), ('Banking Cloud Regulatory Reports - SRB Liability Data Report', 4312.39794921875), ('Banking Cloud Reporting Studio Designer', 263665.1552734375), ('Banking Cloud SaaS Platform for Credit Risk and Reporting', 725966.16015625), ('Banking Cloud SaaS Platform for Reporting', 284824.54541015625), ('FinCAD for Banking Cloud', 14070.72705078125), ('FinCAD Maintenance Renewal', 32020.2783203125), ('FinCAD Subscription', 35580.996337890625), ('Hosted - Platform and Datamart for RiskAuthority', 28907.0), ('Hosted - Regulatory Reporting Tool for RiskAuthority', 9166.0), ('Hosted - RiskAuthority Liquidity Risk Basel III', 9327.0), ('Hosted - RiskFoundation FinCAD', 17713.1064453125), ('Hosted - Transactional Reporting Tool', 8431.64990234375), ('Installed - Discovery Module for RiskAuthority', -64290.4599609375), ('Installed - Platform and Datamart for RiskAuthority', 1688048.265625), ('Installed - Regulatory Reporting Tool for RiskAuthority', 768018.2919921875), ('Installed - Regulatory Reports - ALM Interest Rate Risk', 54.017333984375), ('Installed - Regulatory Reports - Basel III Liquidity Risk Ratios (LCR & NSFR)', 35537.8212890625), ('Installed - Regulatory Reports - Belgium 90.30 IRRBB Reports', 5105.16015625), ('Installed - Regulatory Reports - Belgium NBB T-REP Reports', 7033.77587890625), ('Installed - Regulatory Reports - Belgium Schema A', 5105.16015625), ('Installed - Regulatory Reports - Central Credit Register', 9528.5703125), ('Installed - Regulatory Reports - Commercial Real Estate', 68910.5), ('Installed - Regulatory Reports - EBA FINREP IFRS', 58311.85546875), ('Installed - Regulatory Reports - EBA FINREP Local GAAP', 2836.199951171875), ('Installed - Regulatory Reports - EBA Supervisory Benchmark Portfolio - Credit Risk', 120689.154296875), ('Installed - Regulatory Reports - EBA Supervisory Benchmark Portfolio - Market Risk', 15049.84814453125), ('Installed - Regulatory Reports - ECB Security Holding Statistics Reports', 142224.1328125), ('Installed - Regulatory Reports - ECB SREP - Credit Risk Reports', 25568.033203125), ('Installed - Regulatory Reports - ECB SREP - Liquidity Risk Reports', 5105.16015625), ('Installed - Regulatory Reports - France - SURFI - CAEFP_EME Report (Fonds propres pour ++tablissement de monnaie electronique)', 4501.4921875), ('Installed - Regulatory Reports - France - SURFI - SYSGAR07 - Systeme Garantie de Place - Division des Risques', 1306.397216796875), ('Installed - Regulatory Reports - G-SIB Assessment Exercise Report', 5672.39990234375), ('Installed - Regulatory Reports - MAS Market Risk Returns', 50000.0), ('Installed - Regulatory Reports - Other Reports', 2996.562744140625), ('Installed - Regulatory Reports - P&L and Provision Regulatory Report', 28292.8994140625), ('Installed - Regulatory Reports - Phase 1 AnaCredit', 225844.21875), ('Installed - Regulatory Reports - Pillar 1 - ALMM Reports', 684920.7719726562), ('Installed - Regulatory Reports - Pillar 1 - ALMM Reports - FR2052A', 17384.962890625), ('Installed - Regulatory Reports - Pillar 1 - Asset Encumbrance', 157167.86328125), ('Installed - Regulatory Reports - Pillar 1 - Basel 3 - Regulatory Capital Reports', 585410.83203125), ('Installed - Regulatory Reports - Pillar 1 - Basel 3 - Regulatory Capital Reports  - COREP', 477033.556640625), ('Installed - Regulatory Reports - Pillar 1 - FRTB Reports', 79904.10000610352), ('Installed - Regulatory Reports - Pillar 1 - Funding Plan', 113155.4736328125), ('Installed - Regulatory Reports - Pillar 1 - Large Exposures', 247268.59579467773), ('Installed - Regulatory Reports - Pillar 1 - LCR Reports', 328556.14990234375), ('Installed - Regulatory Reports - Pillar 1 - Leverage Ratio', 255187.93896484375), ('Installed - Regulatory Reports - Pillar 1 - NSFR Reports', 171018.45825195312), ('Installed - Regulatory Reports - Pillar 1 - Regulatory Capital Reports Credit Risk', 283943.93673706055), ('Installed - Regulatory Reports - Pillar 1 - Regulatory Capital Reports Credit Risk - FFIEC101', 21356.269775390625), ('Installed - Regulatory Reports - Pillar 1 - Regulatory Capital Reports Market Risk', 23315.497093200684), ('Installed - Regulatory Reports - Pillar 1 - Regulatory Capital Reports Market Risk - FFIEC102', 30480.71319580078), ('Installed - Regulatory Reports - Pillar 1 - Regulatory Capital Reports Operational Risk', 32812.48986816406), ('Installed - Regulatory Reports - Pillar 1 - Regulatory Capital Reports Revised Market Risk', 226989.1015625), ('Installed - Regulatory Reports - Pillar 1 - Regulatory Capital Reports Revised Operational Risk', 11607.58984375), ('Installed - Regulatory Reports - Pillar 1 - Regulatory Own Fund & Capital Ratios', 6000.0), ('Installed - Regulatory Reports - Pillar 1 - TLAC & MREL Reports', -4041.91259765625), ('Installed - Regulatory Reports - Pillar 2 Disclosure - IRRBB Reports', 401906.6943359375), ('Installed - Regulatory Reports - Pillar 3 Disclosure - Asset Encumbrance', 0.0), ('Installed - Regulatory Reports - Pillar 3 Disclosure - Countercyclical Buffer', 41136.517333984375), ('Installed - Regulatory Reports - Pillar 3 Disclosure - IRRBB Reports', 9336.086547851562), ('Installed - Regulatory Reports - Pillar 3 Disclosure - Leverage  Ratio', 66263.232421875), ('Installed - Regulatory Reports - Pillar 3 Disclosure - Liquidity Risk (LCR & NSFR)', 126633.0068359375), ('Installed - Regulatory Reports - Pillar 3 Disclosure - Regulatory Capital', 717542.16015625), ('Installed - Regulatory Reports - Pillar 3 Non-Performing Exposures Disclosures', 7546.56103515625), ('Installed - Regulatory Reports - Residential Real Estate Mortgages', 123165.8671875), ('Installed - Regulatory Reports - South Africa Derivative Instruments BA350', 14000.0), ('Installed - Regulatory Reports - SRB CIR Resolution reports', 3629.855712890625), ('Installed - Regulatory Reports - SRB Critical functions Report', 3629.961669921875), ('Installed - Regulatory Reports - SRB Financial Market Infrastructure Report', 3629.961669921875), ('Installed - Regulatory Reports - SRB Liability Data Report', 28475.072998046875), ('Installed - Regulatory Reports - SRB Single Resolution Funds Report', 3629.961669921875), ('Installed - Regulatory Reports - Support of National Discretions for Submission of the Phase 1 AnaCredit Reports', 69021.2265625), ('Installed - Regulatory Reports - UK Liquidity - Cash Flow Mismatch Risk - PRA 110', 12377.0), ('Installed - Regulatory Reports - UK PRA Capital', 58222.0), ('Installed - Regulatory Reports - US Call Reports - Regulatory Capital - FRY9C HC -R', 74139.275390625), ('Installed - Regulatory Reports - US CCAR Reports - FR Y-14A - Schedule F', 37478.0), ('Installed - Regulatory Reports - US SCCL Reports', 25436.345703125), ('Installed - RiskAuthority CCR API', 20400.0), ('Installed - RiskAuthority Concentration Risk (Large Exposures) Basel II/III', 197817.6123046875), ('Installed - RiskAuthority Counterparty Credit Risk EAD Only (SA-CCR, CEM)', 14872.0), ('Installed - RiskAuthority Counterparty Credit Risk RWA (SA and IRB)', 29745.0), ('Installed - RiskAuthority Credit Risk Basel II/III (SA and IRB)', 1526939.642578125), ('Installed - RiskAuthority Credit Risk Basel II/III (SA Only)', 325727.95703125), ('Installed - RiskAuthority Credit Risk Discovery Application', -31441.080078125), ('Installed - RiskAuthority Credit Risk Variance Analyzer', 100257.630859375), ('Installed - RiskAuthority FRTB', -30572.0), ('Installed - RiskAuthority Leverage Ratio', 573182.7807617188), ('Installed - RiskAuthority Liquidity Risk Basel III', 754609.4580078125), ('Installed - RiskAuthority Liquidity Risk Discovery Application', 25189.969970703125), ('Installed - RiskAuthority Market Risk Basel I (SA Only)', 22048.0), ('Installed - RiskAuthority Market Risk Basel II/III (SA Only)', 534096.326171875), ('Installed - RiskAuthority Operational Risk Basel II/III National Regulation (BIA and SA)', 77345.896484375), ('Installed - RiskAuthority Regulatory Reporting Discovery Application', -45731.739990234375), ('Installed - RiskAuthority RWA API', 51000.0), ('Installed - RiskAuthority XBRL Viewer', 42688.825439453125), ('Installed - RiskFoundation Business Intelligence for RiskAuthority', -85725.85986328125), ('Installed - RiskFoundation Business Intelligence for RiskAuthority - Additional Server - Enterprise (Production)', 316.1300048828125), ('Installed - RiskFoundation Business Intelligence for RiskAuthority - Additional Server - Enterprise (Test)', 156.2899932861328), ('Installed - RiskFoundation Business Intelligence for RiskAuthority - Additional Server - Publisher (Production)', 186.72000122070312), ('Installed - RiskFoundation Business Intelligence for RiskAuthority - Additional Server - Publisher (Test)', 17236.370002746582), ('Installed - RiskFoundation Data Integration Service', 147073.04052734375), ('Installed - RiskFoundation Discovery+ for QS - RiskAuthority', 11000.0), ('Installed - RiskFoundation FinCAD', 155161.3126220703), ('License - EBA FINREP Local GAAP', 0.0), ('License - Pillar 1 - Regulatory Own Fund & Capital Ratios', 5000.0), ('License - Pillar 3 - Disclosure - Leverage  Ratio', 0.0), ('RAY - Upgrade Services', 554243.8937988281), ('Regulatory Reporting SAM', 4986213.338846803), ('Rfo Discovery Module Subscription for RiskAuthority', 99451.59655761719), ('RiskAuthority 1-year Extended Support', 76753.1328125), ('RiskAuthority SAM', 15150330.80960083), ('RiskAuthority Services', 16585395.758300781), ('RiskAuthority to Banking Cloud Credit Risk Migration Package', 45341.1484375), ('RiskAuthority Upgrade Services', 1819668.3234863281), ('RiskFoundation Business Intelligence for RiskAuthority SAM', 160297.4814453125), ('RiskFoundation Discovery+ for QS - RiskAuthority SAM', 10986.2001953125), ('RiskFoundation FinCAD Maintenance', 306835.9028301239), ('RiskFoundation Regulatory Reporting Tool SAM', 165134.76782226562), ('Subscription - Credit Risk Discovery Application', 49074.075439453125), ('Subscription - EBA FINREP Local GAAP', 9872.6953125), ('Subscription - ECB SREP - Concentration Risk', 56926.8515625), ('Subscription - Liquidity Risk Discovery Application', 7740.742919921875), ('Subscription - P&L and provision regulatory report', 4414.830078125), ('Subscription - Pillar 1 - ALMM reports', 37686.81640625), ('Subscription - Pillar 1 - Asset Encumbrance', 13683.763671875), ('Subscription - Pillar 1 - Basel 3 -Regulatory Capital reports  - COREP', 20526.80859375), ('Subscription - Pillar 1 - EBA Resolution Reports', 3549.3447265625), ('Subscription - Pillar 1 - Funding Plan', 17220.06103515625), ('Subscription - Pillar 1 - Large Exposures', 76292.30517578125), ('Subscription - Pillar 1 - LCR reports', 18866.850830078125), ('Subscription - Pillar 1 - Leverage  Ratio', 59753.217041015625), ('Subscription - Pillar 1 - NSFR reports', 10433.18701171875), ('Subscription - Pillar 1 - Regulatory Capital reports Credit Risk', 94934.0), ('Subscription - Pillar 1 - Regulatory Capital reports Market Risk Only', 4020.0), ('Subscription - Pillar 1 - Regulatory Capital reports Market Risk Only - FFIEC102', 52683.98828125), ('Subscription - Pillar 1 - Regulatory Capital reports Operational Risk', 2475.0), ('Subscription - Pillar 3 - Disclosure - Asset Encumbrance', 2745.24560546875), ('Subscription - Pillar 3 - Disclosure - Countercyclical buffer', 1367.5284423828125), ('Subscription - Pillar 3 - Disclosure - Leverage  Ratio', 7744.217041015625), ('Subscription - Pillar 3 - Disclosure - Liquidity Risk (LCR & NSFR)', 2745.24560546875), ('Subscription - Pillar 3 - Disclosure - Regulatory Capital', 207277.8125), ('Subscription - Regulatory Reporting Discovery Application', 81304.09326171875), ('Subscription - Regulatory Reports - Pillar 2 - Disclosure - IRRBB reports', 6308.83984375), ('Subscription - Regulatory Reports - Pillar 3 - Disclosure - IRRBB reports', 8069.79541015625), ('Subscription - Regulatory Reports - Pillar 3 - Disclosure - NII reports', 38750.98046875), ('Subscription - RiskAuthority Concentration Risk (Large Exposures) Basel II/III', 62576.447265625), ('Subscription - RiskAuthority Credit Risk Basel II/III  (SA and IRB)', 1016698.0), ('Subscription - RiskAuthority Credit Risk Basel II/III (SA ONLY)', 118659.068359375), ('Subscription - RiskAuthority Credit Risk Variance Analyzer', 32811.0), ('Subscription - RiskAuthority Liquidity Risk Basel III', 119623.01171875), ('Subscription - RiskAuthority Market Risk Basel II/III (SA ONLY)', 101288.60546875), ('Subscription - RiskAuthority Operational Risk Basel  II/III (BIA and SA)', 11838.40478515625), ('Subscription - RiskFoundation - Platform & data mart', 1022081.734375), ('Subscription - RiskFoundation - Regulatory Reporting', 1050111.6181640625), ('Subscription - RiskFoundation Business Intelligence for RiskAuthority', 156756.61962890625), ('Subscription - RiskFoundation XBRL viewer', 1526.9376220703125), ('Subscription - US Call reports - Regulatory Capital - FFIEC31  RC- R', 13799.2998046875), ('Subscription - US Call reports - Regulatory Capital -FRY9C HC -R', 13799.2998046875), ('Subscription - US CCAR Reports - FR Y-14A Regulatory Capital - Annual', 172501.58984375), ('Subscription - US CCAR Reports - FR Y-14Q Regulatory Capital Transition  - Quarterly', 27598.58984375), ('Subscription GÇô RiskAuthority Leverage Ratio', 142080.9365234375), ('Subscription GÇô RiskAuthority Leverage Ratio - Hosted', 25862.396484375), ('Subscription Regulatory Reports - Pillar 1 - TLAC & MREL Reports', 15667.7158203125), ('Subscription-Pillar 1 - Basel 3 -Regulatory Capital reports', 122987.0), ('Subscription-RiskFoundation High Performance Package (GRID)', 40710.67919921875), ('Transactional Reporting tool SAM', 39421.4833984375)]\u001b[0m\n",
      "Answer:"
     ]
    },
    {
     "ename": "InvalidRequestError",
     "evalue": "This model's maximum context length is 4097 tokens. However, your messages resulted in 6361 tokens. Please reduce the length of the messages.",
     "output_type": "error",
     "traceback": [
      "\u001b[1;31m---------------------------------------------------------------------------\u001b[0m",
      "\u001b[1;31mInvalidRequestError\u001b[0m                       Traceback (most recent call last)",
      "Cell \u001b[1;32mIn[19], line 2\u001b[0m\n\u001b[0;32m      1\u001b[0m \u001b[38;5;66;03m#db_chain_prompt0(\"For each Product can you give me XSales for year 2022\")\u001b[39;00m\n\u001b[1;32m----> 2\u001b[0m \u001b[43mdb_chain_prompt0\u001b[49m\u001b[43m(\u001b[49m\u001b[38;5;124;43m\"\u001b[39;49m\u001b[38;5;124;43mCan you give me Xsale for year 2022 for all the products where L3 is Regulatory\u001b[39;49m\u001b[38;5;124;43m\"\u001b[39;49m\u001b[43m)\u001b[49m\n",
      "File \u001b[1;32m~\\AppData\\Roaming\\Python\\Python310\\site-packages\\langchain\\chains\\base.py:243\u001b[0m, in \u001b[0;36mChain.__call__\u001b[1;34m(self, inputs, return_only_outputs, callbacks, tags, metadata, include_run_info)\u001b[0m\n\u001b[0;32m    241\u001b[0m \u001b[38;5;28;01mexcept\u001b[39;00m (\u001b[38;5;167;01mKeyboardInterrupt\u001b[39;00m, \u001b[38;5;167;01mException\u001b[39;00m) \u001b[38;5;28;01mas\u001b[39;00m e:\n\u001b[0;32m    242\u001b[0m     run_manager\u001b[38;5;241m.\u001b[39mon_chain_error(e)\n\u001b[1;32m--> 243\u001b[0m     \u001b[38;5;28;01mraise\u001b[39;00m e\n\u001b[0;32m    244\u001b[0m run_manager\u001b[38;5;241m.\u001b[39mon_chain_end(outputs)\n\u001b[0;32m    245\u001b[0m final_outputs: Dict[\u001b[38;5;28mstr\u001b[39m, Any] \u001b[38;5;241m=\u001b[39m \u001b[38;5;28mself\u001b[39m\u001b[38;5;241m.\u001b[39mprep_outputs(\n\u001b[0;32m    246\u001b[0m     inputs, outputs, return_only_outputs\n\u001b[0;32m    247\u001b[0m )\n",
      "File \u001b[1;32m~\\AppData\\Roaming\\Python\\Python310\\site-packages\\langchain\\chains\\base.py:237\u001b[0m, in \u001b[0;36mChain.__call__\u001b[1;34m(self, inputs, return_only_outputs, callbacks, tags, metadata, include_run_info)\u001b[0m\n\u001b[0;32m    231\u001b[0m run_manager \u001b[38;5;241m=\u001b[39m callback_manager\u001b[38;5;241m.\u001b[39mon_chain_start(\n\u001b[0;32m    232\u001b[0m     dumpd(\u001b[38;5;28mself\u001b[39m),\n\u001b[0;32m    233\u001b[0m     inputs,\n\u001b[0;32m    234\u001b[0m )\n\u001b[0;32m    235\u001b[0m \u001b[38;5;28;01mtry\u001b[39;00m:\n\u001b[0;32m    236\u001b[0m     outputs \u001b[38;5;241m=\u001b[39m (\n\u001b[1;32m--> 237\u001b[0m         \u001b[38;5;28;43mself\u001b[39;49m\u001b[38;5;241;43m.\u001b[39;49m\u001b[43m_call\u001b[49m\u001b[43m(\u001b[49m\u001b[43minputs\u001b[49m\u001b[43m,\u001b[49m\u001b[43m \u001b[49m\u001b[43mrun_manager\u001b[49m\u001b[38;5;241;43m=\u001b[39;49m\u001b[43mrun_manager\u001b[49m\u001b[43m)\u001b[49m\n\u001b[0;32m    238\u001b[0m         \u001b[38;5;28;01mif\u001b[39;00m new_arg_supported\n\u001b[0;32m    239\u001b[0m         \u001b[38;5;28;01melse\u001b[39;00m \u001b[38;5;28mself\u001b[39m\u001b[38;5;241m.\u001b[39m_call(inputs)\n\u001b[0;32m    240\u001b[0m     )\n\u001b[0;32m    241\u001b[0m \u001b[38;5;28;01mexcept\u001b[39;00m (\u001b[38;5;167;01mKeyboardInterrupt\u001b[39;00m, \u001b[38;5;167;01mException\u001b[39;00m) \u001b[38;5;28;01mas\u001b[39;00m e:\n\u001b[0;32m    242\u001b[0m     run_manager\u001b[38;5;241m.\u001b[39mon_chain_error(e)\n",
      "File \u001b[1;32m~\\AppData\\Roaming\\Python\\Python310\\site-packages\\langchain\\chains\\sql_database\\base.py:181\u001b[0m, in \u001b[0;36mSQLDatabaseChain._call\u001b[1;34m(self, inputs, run_manager)\u001b[0m\n\u001b[0;32m    177\u001b[0m \u001b[38;5;28;01mexcept\u001b[39;00m \u001b[38;5;167;01mException\u001b[39;00m \u001b[38;5;28;01mas\u001b[39;00m exc:\n\u001b[0;32m    178\u001b[0m     \u001b[38;5;66;03m# Append intermediate steps to exception, to aid in logging and later\u001b[39;00m\n\u001b[0;32m    179\u001b[0m     \u001b[38;5;66;03m# improvement of few shot prompt seeds\u001b[39;00m\n\u001b[0;32m    180\u001b[0m     exc\u001b[38;5;241m.\u001b[39mintermediate_steps \u001b[38;5;241m=\u001b[39m intermediate_steps  \u001b[38;5;66;03m# type: ignore\u001b[39;00m\n\u001b[1;32m--> 181\u001b[0m     \u001b[38;5;28;01mraise\u001b[39;00m exc\n",
      "File \u001b[1;32m~\\AppData\\Roaming\\Python\\Python310\\site-packages\\langchain\\chains\\sql_database\\base.py:167\u001b[0m, in \u001b[0;36mSQLDatabaseChain._call\u001b[1;34m(self, inputs, run_manager)\u001b[0m\n\u001b[0;32m    165\u001b[0m llm_inputs[\u001b[38;5;124m\"\u001b[39m\u001b[38;5;124minput\u001b[39m\u001b[38;5;124m\"\u001b[39m] \u001b[38;5;241m=\u001b[39m input_text\n\u001b[0;32m    166\u001b[0m intermediate_steps\u001b[38;5;241m.\u001b[39mappend(llm_inputs)  \u001b[38;5;66;03m# input: final answer\u001b[39;00m\n\u001b[1;32m--> 167\u001b[0m final_result \u001b[38;5;241m=\u001b[39m \u001b[38;5;28mself\u001b[39m\u001b[38;5;241m.\u001b[39mllm_chain\u001b[38;5;241m.\u001b[39mpredict(\n\u001b[0;32m    168\u001b[0m     callbacks\u001b[38;5;241m=\u001b[39m_run_manager\u001b[38;5;241m.\u001b[39mget_child(),\n\u001b[0;32m    169\u001b[0m     \u001b[38;5;241m*\u001b[39m\u001b[38;5;241m*\u001b[39mllm_inputs,\n\u001b[0;32m    170\u001b[0m )\u001b[38;5;241m.\u001b[39mstrip()\n\u001b[0;32m    171\u001b[0m intermediate_steps\u001b[38;5;241m.\u001b[39mappend(final_result)  \u001b[38;5;66;03m# output: final answer\u001b[39;00m\n\u001b[0;32m    172\u001b[0m _run_manager\u001b[38;5;241m.\u001b[39mon_text(final_result, color\u001b[38;5;241m=\u001b[39m\u001b[38;5;124m\"\u001b[39m\u001b[38;5;124mgreen\u001b[39m\u001b[38;5;124m\"\u001b[39m, verbose\u001b[38;5;241m=\u001b[39m\u001b[38;5;28mself\u001b[39m\u001b[38;5;241m.\u001b[39mverbose)\n",
      "File \u001b[1;32m~\\AppData\\Roaming\\Python\\Python310\\site-packages\\langchain\\chains\\llm.py:252\u001b[0m, in \u001b[0;36mLLMChain.predict\u001b[1;34m(self, callbacks, **kwargs)\u001b[0m\n\u001b[0;32m    237\u001b[0m \u001b[38;5;28;01mdef\u001b[39;00m \u001b[38;5;21mpredict\u001b[39m(\u001b[38;5;28mself\u001b[39m, callbacks: Callbacks \u001b[38;5;241m=\u001b[39m \u001b[38;5;28;01mNone\u001b[39;00m, \u001b[38;5;241m*\u001b[39m\u001b[38;5;241m*\u001b[39mkwargs: Any) \u001b[38;5;241m-\u001b[39m\u001b[38;5;241m>\u001b[39m \u001b[38;5;28mstr\u001b[39m:\n\u001b[0;32m    238\u001b[0m     \u001b[38;5;124;03m\"\"\"Format prompt with kwargs and pass to LLM.\u001b[39;00m\n\u001b[0;32m    239\u001b[0m \n\u001b[0;32m    240\u001b[0m \u001b[38;5;124;03m    Args:\u001b[39;00m\n\u001b[1;32m   (...)\u001b[0m\n\u001b[0;32m    250\u001b[0m \u001b[38;5;124;03m            completion = llm.predict(adjective=\"funny\")\u001b[39;00m\n\u001b[0;32m    251\u001b[0m \u001b[38;5;124;03m    \"\"\"\u001b[39;00m\n\u001b[1;32m--> 252\u001b[0m     \u001b[38;5;28;01mreturn\u001b[39;00m \u001b[38;5;28;43mself\u001b[39;49m\u001b[43m(\u001b[49m\u001b[43mkwargs\u001b[49m\u001b[43m,\u001b[49m\u001b[43m \u001b[49m\u001b[43mcallbacks\u001b[49m\u001b[38;5;241;43m=\u001b[39;49m\u001b[43mcallbacks\u001b[49m\u001b[43m)\u001b[49m[\u001b[38;5;28mself\u001b[39m\u001b[38;5;241m.\u001b[39moutput_key]\n",
      "File \u001b[1;32m~\\AppData\\Roaming\\Python\\Python310\\site-packages\\langchain\\chains\\base.py:243\u001b[0m, in \u001b[0;36mChain.__call__\u001b[1;34m(self, inputs, return_only_outputs, callbacks, tags, metadata, include_run_info)\u001b[0m\n\u001b[0;32m    241\u001b[0m \u001b[38;5;28;01mexcept\u001b[39;00m (\u001b[38;5;167;01mKeyboardInterrupt\u001b[39;00m, \u001b[38;5;167;01mException\u001b[39;00m) \u001b[38;5;28;01mas\u001b[39;00m e:\n\u001b[0;32m    242\u001b[0m     run_manager\u001b[38;5;241m.\u001b[39mon_chain_error(e)\n\u001b[1;32m--> 243\u001b[0m     \u001b[38;5;28;01mraise\u001b[39;00m e\n\u001b[0;32m    244\u001b[0m run_manager\u001b[38;5;241m.\u001b[39mon_chain_end(outputs)\n\u001b[0;32m    245\u001b[0m final_outputs: Dict[\u001b[38;5;28mstr\u001b[39m, Any] \u001b[38;5;241m=\u001b[39m \u001b[38;5;28mself\u001b[39m\u001b[38;5;241m.\u001b[39mprep_outputs(\n\u001b[0;32m    246\u001b[0m     inputs, outputs, return_only_outputs\n\u001b[0;32m    247\u001b[0m )\n",
      "File \u001b[1;32m~\\AppData\\Roaming\\Python\\Python310\\site-packages\\langchain\\chains\\base.py:237\u001b[0m, in \u001b[0;36mChain.__call__\u001b[1;34m(self, inputs, return_only_outputs, callbacks, tags, metadata, include_run_info)\u001b[0m\n\u001b[0;32m    231\u001b[0m run_manager \u001b[38;5;241m=\u001b[39m callback_manager\u001b[38;5;241m.\u001b[39mon_chain_start(\n\u001b[0;32m    232\u001b[0m     dumpd(\u001b[38;5;28mself\u001b[39m),\n\u001b[0;32m    233\u001b[0m     inputs,\n\u001b[0;32m    234\u001b[0m )\n\u001b[0;32m    235\u001b[0m \u001b[38;5;28;01mtry\u001b[39;00m:\n\u001b[0;32m    236\u001b[0m     outputs \u001b[38;5;241m=\u001b[39m (\n\u001b[1;32m--> 237\u001b[0m         \u001b[38;5;28;43mself\u001b[39;49m\u001b[38;5;241;43m.\u001b[39;49m\u001b[43m_call\u001b[49m\u001b[43m(\u001b[49m\u001b[43minputs\u001b[49m\u001b[43m,\u001b[49m\u001b[43m \u001b[49m\u001b[43mrun_manager\u001b[49m\u001b[38;5;241;43m=\u001b[39;49m\u001b[43mrun_manager\u001b[49m\u001b[43m)\u001b[49m\n\u001b[0;32m    238\u001b[0m         \u001b[38;5;28;01mif\u001b[39;00m new_arg_supported\n\u001b[0;32m    239\u001b[0m         \u001b[38;5;28;01melse\u001b[39;00m \u001b[38;5;28mself\u001b[39m\u001b[38;5;241m.\u001b[39m_call(inputs)\n\u001b[0;32m    240\u001b[0m     )\n\u001b[0;32m    241\u001b[0m \u001b[38;5;28;01mexcept\u001b[39;00m (\u001b[38;5;167;01mKeyboardInterrupt\u001b[39;00m, \u001b[38;5;167;01mException\u001b[39;00m) \u001b[38;5;28;01mas\u001b[39;00m e:\n\u001b[0;32m    242\u001b[0m     run_manager\u001b[38;5;241m.\u001b[39mon_chain_error(e)\n",
      "File \u001b[1;32m~\\AppData\\Roaming\\Python\\Python310\\site-packages\\langchain\\chains\\llm.py:92\u001b[0m, in \u001b[0;36mLLMChain._call\u001b[1;34m(self, inputs, run_manager)\u001b[0m\n\u001b[0;32m     87\u001b[0m \u001b[38;5;28;01mdef\u001b[39;00m \u001b[38;5;21m_call\u001b[39m(\n\u001b[0;32m     88\u001b[0m     \u001b[38;5;28mself\u001b[39m,\n\u001b[0;32m     89\u001b[0m     inputs: Dict[\u001b[38;5;28mstr\u001b[39m, Any],\n\u001b[0;32m     90\u001b[0m     run_manager: Optional[CallbackManagerForChainRun] \u001b[38;5;241m=\u001b[39m \u001b[38;5;28;01mNone\u001b[39;00m,\n\u001b[0;32m     91\u001b[0m ) \u001b[38;5;241m-\u001b[39m\u001b[38;5;241m>\u001b[39m Dict[\u001b[38;5;28mstr\u001b[39m, \u001b[38;5;28mstr\u001b[39m]:\n\u001b[1;32m---> 92\u001b[0m     response \u001b[38;5;241m=\u001b[39m \u001b[38;5;28;43mself\u001b[39;49m\u001b[38;5;241;43m.\u001b[39;49m\u001b[43mgenerate\u001b[49m\u001b[43m(\u001b[49m\u001b[43m[\u001b[49m\u001b[43minputs\u001b[49m\u001b[43m]\u001b[49m\u001b[43m,\u001b[49m\u001b[43m \u001b[49m\u001b[43mrun_manager\u001b[49m\u001b[38;5;241;43m=\u001b[39;49m\u001b[43mrun_manager\u001b[49m\u001b[43m)\u001b[49m\n\u001b[0;32m     93\u001b[0m     \u001b[38;5;28;01mreturn\u001b[39;00m \u001b[38;5;28mself\u001b[39m\u001b[38;5;241m.\u001b[39mcreate_outputs(response)[\u001b[38;5;241m0\u001b[39m]\n",
      "File \u001b[1;32m~\\AppData\\Roaming\\Python\\Python310\\site-packages\\langchain\\chains\\llm.py:102\u001b[0m, in \u001b[0;36mLLMChain.generate\u001b[1;34m(self, input_list, run_manager)\u001b[0m\n\u001b[0;32m    100\u001b[0m \u001b[38;5;124;03m\"\"\"Generate LLM result from inputs.\"\"\"\u001b[39;00m\n\u001b[0;32m    101\u001b[0m prompts, stop \u001b[38;5;241m=\u001b[39m \u001b[38;5;28mself\u001b[39m\u001b[38;5;241m.\u001b[39mprep_prompts(input_list, run_manager\u001b[38;5;241m=\u001b[39mrun_manager)\n\u001b[1;32m--> 102\u001b[0m \u001b[38;5;28;01mreturn\u001b[39;00m \u001b[38;5;28mself\u001b[39m\u001b[38;5;241m.\u001b[39mllm\u001b[38;5;241m.\u001b[39mgenerate_prompt(\n\u001b[0;32m    103\u001b[0m     prompts,\n\u001b[0;32m    104\u001b[0m     stop,\n\u001b[0;32m    105\u001b[0m     callbacks\u001b[38;5;241m=\u001b[39mrun_manager\u001b[38;5;241m.\u001b[39mget_child() \u001b[38;5;28;01mif\u001b[39;00m run_manager \u001b[38;5;28;01melse\u001b[39;00m \u001b[38;5;28;01mNone\u001b[39;00m,\n\u001b[0;32m    106\u001b[0m     \u001b[38;5;241m*\u001b[39m\u001b[38;5;241m*\u001b[39m\u001b[38;5;28mself\u001b[39m\u001b[38;5;241m.\u001b[39mllm_kwargs,\n\u001b[0;32m    107\u001b[0m )\n",
      "File \u001b[1;32m~\\AppData\\Roaming\\Python\\Python310\\site-packages\\langchain\\chat_models\\base.py:230\u001b[0m, in \u001b[0;36mBaseChatModel.generate_prompt\u001b[1;34m(self, prompts, stop, callbacks, **kwargs)\u001b[0m\n\u001b[0;32m    222\u001b[0m \u001b[38;5;28;01mdef\u001b[39;00m \u001b[38;5;21mgenerate_prompt\u001b[39m(\n\u001b[0;32m    223\u001b[0m     \u001b[38;5;28mself\u001b[39m,\n\u001b[0;32m    224\u001b[0m     prompts: List[PromptValue],\n\u001b[1;32m   (...)\u001b[0m\n\u001b[0;32m    227\u001b[0m     \u001b[38;5;241m*\u001b[39m\u001b[38;5;241m*\u001b[39mkwargs: Any,\n\u001b[0;32m    228\u001b[0m ) \u001b[38;5;241m-\u001b[39m\u001b[38;5;241m>\u001b[39m LLMResult:\n\u001b[0;32m    229\u001b[0m     prompt_messages \u001b[38;5;241m=\u001b[39m [p\u001b[38;5;241m.\u001b[39mto_messages() \u001b[38;5;28;01mfor\u001b[39;00m p \u001b[38;5;129;01min\u001b[39;00m prompts]\n\u001b[1;32m--> 230\u001b[0m     \u001b[38;5;28;01mreturn\u001b[39;00m \u001b[38;5;28mself\u001b[39m\u001b[38;5;241m.\u001b[39mgenerate(prompt_messages, stop\u001b[38;5;241m=\u001b[39mstop, callbacks\u001b[38;5;241m=\u001b[39mcallbacks, \u001b[38;5;241m*\u001b[39m\u001b[38;5;241m*\u001b[39mkwargs)\n",
      "File \u001b[1;32m~\\AppData\\Roaming\\Python\\Python310\\site-packages\\langchain\\chat_models\\base.py:125\u001b[0m, in \u001b[0;36mBaseChatModel.generate\u001b[1;34m(self, messages, stop, callbacks, tags, metadata, **kwargs)\u001b[0m\n\u001b[0;32m    123\u001b[0m         \u001b[38;5;28;01mif\u001b[39;00m run_managers:\n\u001b[0;32m    124\u001b[0m             run_managers[i]\u001b[38;5;241m.\u001b[39mon_llm_error(e)\n\u001b[1;32m--> 125\u001b[0m         \u001b[38;5;28;01mraise\u001b[39;00m e\n\u001b[0;32m    126\u001b[0m flattened_outputs \u001b[38;5;241m=\u001b[39m [\n\u001b[0;32m    127\u001b[0m     LLMResult(generations\u001b[38;5;241m=\u001b[39m[res\u001b[38;5;241m.\u001b[39mgenerations], llm_output\u001b[38;5;241m=\u001b[39mres\u001b[38;5;241m.\u001b[39mllm_output)\n\u001b[0;32m    128\u001b[0m     \u001b[38;5;28;01mfor\u001b[39;00m res \u001b[38;5;129;01min\u001b[39;00m results\n\u001b[0;32m    129\u001b[0m ]\n\u001b[0;32m    130\u001b[0m llm_output \u001b[38;5;241m=\u001b[39m \u001b[38;5;28mself\u001b[39m\u001b[38;5;241m.\u001b[39m_combine_llm_outputs([res\u001b[38;5;241m.\u001b[39mllm_output \u001b[38;5;28;01mfor\u001b[39;00m res \u001b[38;5;129;01min\u001b[39;00m results])\n",
      "File \u001b[1;32m~\\AppData\\Roaming\\Python\\Python310\\site-packages\\langchain\\chat_models\\base.py:115\u001b[0m, in \u001b[0;36mBaseChatModel.generate\u001b[1;34m(self, messages, stop, callbacks, tags, metadata, **kwargs)\u001b[0m\n\u001b[0;32m    112\u001b[0m \u001b[38;5;28;01mfor\u001b[39;00m i, m \u001b[38;5;129;01min\u001b[39;00m \u001b[38;5;28menumerate\u001b[39m(messages):\n\u001b[0;32m    113\u001b[0m     \u001b[38;5;28;01mtry\u001b[39;00m:\n\u001b[0;32m    114\u001b[0m         results\u001b[38;5;241m.\u001b[39mappend(\n\u001b[1;32m--> 115\u001b[0m             \u001b[38;5;28mself\u001b[39m\u001b[38;5;241m.\u001b[39m_generate_with_cache(\n\u001b[0;32m    116\u001b[0m                 m,\n\u001b[0;32m    117\u001b[0m                 stop\u001b[38;5;241m=\u001b[39mstop,\n\u001b[0;32m    118\u001b[0m                 run_manager\u001b[38;5;241m=\u001b[39mrun_managers[i] \u001b[38;5;28;01mif\u001b[39;00m run_managers \u001b[38;5;28;01melse\u001b[39;00m \u001b[38;5;28;01mNone\u001b[39;00m,\n\u001b[0;32m    119\u001b[0m                 \u001b[38;5;241m*\u001b[39m\u001b[38;5;241m*\u001b[39mkwargs,\n\u001b[0;32m    120\u001b[0m             )\n\u001b[0;32m    121\u001b[0m         )\n\u001b[0;32m    122\u001b[0m     \u001b[38;5;28;01mexcept\u001b[39;00m (\u001b[38;5;167;01mKeyboardInterrupt\u001b[39;00m, \u001b[38;5;167;01mException\u001b[39;00m) \u001b[38;5;28;01mas\u001b[39;00m e:\n\u001b[0;32m    123\u001b[0m         \u001b[38;5;28;01mif\u001b[39;00m run_managers:\n",
      "File \u001b[1;32m~\\AppData\\Roaming\\Python\\Python310\\site-packages\\langchain\\chat_models\\base.py:262\u001b[0m, in \u001b[0;36mBaseChatModel._generate_with_cache\u001b[1;34m(self, messages, stop, run_manager, **kwargs)\u001b[0m\n\u001b[0;32m    258\u001b[0m     \u001b[38;5;28;01mraise\u001b[39;00m \u001b[38;5;167;01mValueError\u001b[39;00m(\n\u001b[0;32m    259\u001b[0m         \u001b[38;5;124m\"\u001b[39m\u001b[38;5;124mAsked to cache, but no cache found at `langchain.cache`.\u001b[39m\u001b[38;5;124m\"\u001b[39m\n\u001b[0;32m    260\u001b[0m     )\n\u001b[0;32m    261\u001b[0m \u001b[38;5;28;01mif\u001b[39;00m new_arg_supported:\n\u001b[1;32m--> 262\u001b[0m     \u001b[38;5;28;01mreturn\u001b[39;00m \u001b[38;5;28mself\u001b[39m\u001b[38;5;241m.\u001b[39m_generate(\n\u001b[0;32m    263\u001b[0m         messages, stop\u001b[38;5;241m=\u001b[39mstop, run_manager\u001b[38;5;241m=\u001b[39mrun_manager, \u001b[38;5;241m*\u001b[39m\u001b[38;5;241m*\u001b[39mkwargs\n\u001b[0;32m    264\u001b[0m     )\n\u001b[0;32m    265\u001b[0m \u001b[38;5;28;01melse\u001b[39;00m:\n\u001b[0;32m    266\u001b[0m     \u001b[38;5;28;01mreturn\u001b[39;00m \u001b[38;5;28mself\u001b[39m\u001b[38;5;241m.\u001b[39m_generate(messages, stop\u001b[38;5;241m=\u001b[39mstop, \u001b[38;5;241m*\u001b[39m\u001b[38;5;241m*\u001b[39mkwargs)\n",
      "File \u001b[1;32m~\\AppData\\Roaming\\Python\\Python310\\site-packages\\langchain\\chat_models\\openai.py:373\u001b[0m, in \u001b[0;36mChatOpenAI._generate\u001b[1;34m(self, messages, stop, run_manager, **kwargs)\u001b[0m\n\u001b[0;32m    365\u001b[0m     message \u001b[38;5;241m=\u001b[39m _convert_dict_to_message(\n\u001b[0;32m    366\u001b[0m         {\n\u001b[0;32m    367\u001b[0m             \u001b[38;5;124m\"\u001b[39m\u001b[38;5;124mcontent\u001b[39m\u001b[38;5;124m\"\u001b[39m: inner_completion,\n\u001b[1;32m   (...)\u001b[0m\n\u001b[0;32m    370\u001b[0m         }\n\u001b[0;32m    371\u001b[0m     )\n\u001b[0;32m    372\u001b[0m     \u001b[38;5;28;01mreturn\u001b[39;00m ChatResult(generations\u001b[38;5;241m=\u001b[39m[ChatGeneration(message\u001b[38;5;241m=\u001b[39mmessage)])\n\u001b[1;32m--> 373\u001b[0m response \u001b[38;5;241m=\u001b[39m \u001b[38;5;28mself\u001b[39m\u001b[38;5;241m.\u001b[39mcompletion_with_retry(messages\u001b[38;5;241m=\u001b[39mmessage_dicts, \u001b[38;5;241m*\u001b[39m\u001b[38;5;241m*\u001b[39mparams)\n\u001b[0;32m    374\u001b[0m \u001b[38;5;28;01mreturn\u001b[39;00m \u001b[38;5;28mself\u001b[39m\u001b[38;5;241m.\u001b[39m_create_chat_result(response)\n",
      "File \u001b[1;32m~\\AppData\\Roaming\\Python\\Python310\\site-packages\\langchain\\chat_models\\openai.py:321\u001b[0m, in \u001b[0;36mChatOpenAI.completion_with_retry\u001b[1;34m(self, **kwargs)\u001b[0m\n\u001b[0;32m    317\u001b[0m \u001b[38;5;129m@retry_decorator\u001b[39m\n\u001b[0;32m    318\u001b[0m \u001b[38;5;28;01mdef\u001b[39;00m \u001b[38;5;21m_completion_with_retry\u001b[39m(\u001b[38;5;241m*\u001b[39m\u001b[38;5;241m*\u001b[39mkwargs: Any) \u001b[38;5;241m-\u001b[39m\u001b[38;5;241m>\u001b[39m Any:\n\u001b[0;32m    319\u001b[0m     \u001b[38;5;28;01mreturn\u001b[39;00m \u001b[38;5;28mself\u001b[39m\u001b[38;5;241m.\u001b[39mclient\u001b[38;5;241m.\u001b[39mcreate(\u001b[38;5;241m*\u001b[39m\u001b[38;5;241m*\u001b[39mkwargs)\n\u001b[1;32m--> 321\u001b[0m \u001b[38;5;28;01mreturn\u001b[39;00m _completion_with_retry(\u001b[38;5;241m*\u001b[39m\u001b[38;5;241m*\u001b[39mkwargs)\n",
      "File \u001b[1;32m~\\AppData\\Roaming\\Python\\Python310\\site-packages\\tenacity\\__init__.py:289\u001b[0m, in \u001b[0;36mBaseRetrying.wraps.<locals>.wrapped_f\u001b[1;34m(*args, **kw)\u001b[0m\n\u001b[0;32m    287\u001b[0m \u001b[38;5;129m@functools\u001b[39m\u001b[38;5;241m.\u001b[39mwraps(f)\n\u001b[0;32m    288\u001b[0m \u001b[38;5;28;01mdef\u001b[39;00m \u001b[38;5;21mwrapped_f\u001b[39m(\u001b[38;5;241m*\u001b[39margs: t\u001b[38;5;241m.\u001b[39mAny, \u001b[38;5;241m*\u001b[39m\u001b[38;5;241m*\u001b[39mkw: t\u001b[38;5;241m.\u001b[39mAny) \u001b[38;5;241m-\u001b[39m\u001b[38;5;241m>\u001b[39m t\u001b[38;5;241m.\u001b[39mAny:\n\u001b[1;32m--> 289\u001b[0m     \u001b[38;5;28;01mreturn\u001b[39;00m \u001b[38;5;28mself\u001b[39m(f, \u001b[38;5;241m*\u001b[39margs, \u001b[38;5;241m*\u001b[39m\u001b[38;5;241m*\u001b[39mkw)\n",
      "File \u001b[1;32m~\\AppData\\Roaming\\Python\\Python310\\site-packages\\tenacity\\__init__.py:379\u001b[0m, in \u001b[0;36mRetrying.__call__\u001b[1;34m(self, fn, *args, **kwargs)\u001b[0m\n\u001b[0;32m    377\u001b[0m retry_state \u001b[38;5;241m=\u001b[39m RetryCallState(retry_object\u001b[38;5;241m=\u001b[39m\u001b[38;5;28mself\u001b[39m, fn\u001b[38;5;241m=\u001b[39mfn, args\u001b[38;5;241m=\u001b[39margs, kwargs\u001b[38;5;241m=\u001b[39mkwargs)\n\u001b[0;32m    378\u001b[0m \u001b[38;5;28;01mwhile\u001b[39;00m \u001b[38;5;28;01mTrue\u001b[39;00m:\n\u001b[1;32m--> 379\u001b[0m     do \u001b[38;5;241m=\u001b[39m \u001b[38;5;28;43mself\u001b[39;49m\u001b[38;5;241;43m.\u001b[39;49m\u001b[43miter\u001b[49m\u001b[43m(\u001b[49m\u001b[43mretry_state\u001b[49m\u001b[38;5;241;43m=\u001b[39;49m\u001b[43mretry_state\u001b[49m\u001b[43m)\u001b[49m\n\u001b[0;32m    380\u001b[0m     \u001b[38;5;28;01mif\u001b[39;00m \u001b[38;5;28misinstance\u001b[39m(do, DoAttempt):\n\u001b[0;32m    381\u001b[0m         \u001b[38;5;28;01mtry\u001b[39;00m:\n",
      "File \u001b[1;32m~\\AppData\\Roaming\\Python\\Python310\\site-packages\\tenacity\\__init__.py:314\u001b[0m, in \u001b[0;36mBaseRetrying.iter\u001b[1;34m(self, retry_state)\u001b[0m\n\u001b[0;32m    312\u001b[0m is_explicit_retry \u001b[38;5;241m=\u001b[39m fut\u001b[38;5;241m.\u001b[39mfailed \u001b[38;5;129;01mand\u001b[39;00m \u001b[38;5;28misinstance\u001b[39m(fut\u001b[38;5;241m.\u001b[39mexception(), TryAgain)\n\u001b[0;32m    313\u001b[0m \u001b[38;5;28;01mif\u001b[39;00m \u001b[38;5;129;01mnot\u001b[39;00m (is_explicit_retry \u001b[38;5;129;01mor\u001b[39;00m \u001b[38;5;28mself\u001b[39m\u001b[38;5;241m.\u001b[39mretry(retry_state)):\n\u001b[1;32m--> 314\u001b[0m     \u001b[38;5;28;01mreturn\u001b[39;00m \u001b[43mfut\u001b[49m\u001b[38;5;241;43m.\u001b[39;49m\u001b[43mresult\u001b[49m\u001b[43m(\u001b[49m\u001b[43m)\u001b[49m\n\u001b[0;32m    316\u001b[0m \u001b[38;5;28;01mif\u001b[39;00m \u001b[38;5;28mself\u001b[39m\u001b[38;5;241m.\u001b[39mafter \u001b[38;5;129;01mis\u001b[39;00m \u001b[38;5;129;01mnot\u001b[39;00m \u001b[38;5;28;01mNone\u001b[39;00m:\n\u001b[0;32m    317\u001b[0m     \u001b[38;5;28mself\u001b[39m\u001b[38;5;241m.\u001b[39mafter(retry_state)\n",
      "File \u001b[1;32mC:\\ProgramData\\anaconda3\\lib\\concurrent\\futures\\_base.py:451\u001b[0m, in \u001b[0;36mFuture.result\u001b[1;34m(self, timeout)\u001b[0m\n\u001b[0;32m    449\u001b[0m     \u001b[38;5;28;01mraise\u001b[39;00m CancelledError()\n\u001b[0;32m    450\u001b[0m \u001b[38;5;28;01melif\u001b[39;00m \u001b[38;5;28mself\u001b[39m\u001b[38;5;241m.\u001b[39m_state \u001b[38;5;241m==\u001b[39m FINISHED:\n\u001b[1;32m--> 451\u001b[0m     \u001b[38;5;28;01mreturn\u001b[39;00m \u001b[38;5;28;43mself\u001b[39;49m\u001b[38;5;241;43m.\u001b[39;49m\u001b[43m__get_result\u001b[49m\u001b[43m(\u001b[49m\u001b[43m)\u001b[49m\n\u001b[0;32m    453\u001b[0m \u001b[38;5;28mself\u001b[39m\u001b[38;5;241m.\u001b[39m_condition\u001b[38;5;241m.\u001b[39mwait(timeout)\n\u001b[0;32m    455\u001b[0m \u001b[38;5;28;01mif\u001b[39;00m \u001b[38;5;28mself\u001b[39m\u001b[38;5;241m.\u001b[39m_state \u001b[38;5;129;01min\u001b[39;00m [CANCELLED, CANCELLED_AND_NOTIFIED]:\n",
      "File \u001b[1;32mC:\\ProgramData\\anaconda3\\lib\\concurrent\\futures\\_base.py:403\u001b[0m, in \u001b[0;36mFuture.__get_result\u001b[1;34m(self)\u001b[0m\n\u001b[0;32m    401\u001b[0m \u001b[38;5;28;01mif\u001b[39;00m \u001b[38;5;28mself\u001b[39m\u001b[38;5;241m.\u001b[39m_exception:\n\u001b[0;32m    402\u001b[0m     \u001b[38;5;28;01mtry\u001b[39;00m:\n\u001b[1;32m--> 403\u001b[0m         \u001b[38;5;28;01mraise\u001b[39;00m \u001b[38;5;28mself\u001b[39m\u001b[38;5;241m.\u001b[39m_exception\n\u001b[0;32m    404\u001b[0m     \u001b[38;5;28;01mfinally\u001b[39;00m:\n\u001b[0;32m    405\u001b[0m         \u001b[38;5;66;03m# Break a reference cycle with the exception in self._exception\u001b[39;00m\n\u001b[0;32m    406\u001b[0m         \u001b[38;5;28mself\u001b[39m \u001b[38;5;241m=\u001b[39m \u001b[38;5;28;01mNone\u001b[39;00m\n",
      "File \u001b[1;32m~\\AppData\\Roaming\\Python\\Python310\\site-packages\\tenacity\\__init__.py:382\u001b[0m, in \u001b[0;36mRetrying.__call__\u001b[1;34m(self, fn, *args, **kwargs)\u001b[0m\n\u001b[0;32m    380\u001b[0m \u001b[38;5;28;01mif\u001b[39;00m \u001b[38;5;28misinstance\u001b[39m(do, DoAttempt):\n\u001b[0;32m    381\u001b[0m     \u001b[38;5;28;01mtry\u001b[39;00m:\n\u001b[1;32m--> 382\u001b[0m         result \u001b[38;5;241m=\u001b[39m fn(\u001b[38;5;241m*\u001b[39margs, \u001b[38;5;241m*\u001b[39m\u001b[38;5;241m*\u001b[39mkwargs)\n\u001b[0;32m    383\u001b[0m     \u001b[38;5;28;01mexcept\u001b[39;00m \u001b[38;5;167;01mBaseException\u001b[39;00m:  \u001b[38;5;66;03m# noqa: B902\u001b[39;00m\n\u001b[0;32m    384\u001b[0m         retry_state\u001b[38;5;241m.\u001b[39mset_exception(sys\u001b[38;5;241m.\u001b[39mexc_info())  \u001b[38;5;66;03m# type: ignore[arg-type]\u001b[39;00m\n",
      "File \u001b[1;32m~\\AppData\\Roaming\\Python\\Python310\\site-packages\\langchain\\chat_models\\openai.py:319\u001b[0m, in \u001b[0;36mChatOpenAI.completion_with_retry.<locals>._completion_with_retry\u001b[1;34m(**kwargs)\u001b[0m\n\u001b[0;32m    317\u001b[0m \u001b[38;5;129m@retry_decorator\u001b[39m\n\u001b[0;32m    318\u001b[0m \u001b[38;5;28;01mdef\u001b[39;00m \u001b[38;5;21m_completion_with_retry\u001b[39m(\u001b[38;5;241m*\u001b[39m\u001b[38;5;241m*\u001b[39mkwargs: Any) \u001b[38;5;241m-\u001b[39m\u001b[38;5;241m>\u001b[39m Any:\n\u001b[1;32m--> 319\u001b[0m     \u001b[38;5;28;01mreturn\u001b[39;00m \u001b[38;5;28mself\u001b[39m\u001b[38;5;241m.\u001b[39mclient\u001b[38;5;241m.\u001b[39mcreate(\u001b[38;5;241m*\u001b[39m\u001b[38;5;241m*\u001b[39mkwargs)\n",
      "File \u001b[1;32m~\\AppData\\Roaming\\Python\\Python310\\site-packages\\openai\\api_resources\\chat_completion.py:25\u001b[0m, in \u001b[0;36mChatCompletion.create\u001b[1;34m(cls, *args, **kwargs)\u001b[0m\n\u001b[0;32m     23\u001b[0m \u001b[38;5;28;01mwhile\u001b[39;00m \u001b[38;5;28;01mTrue\u001b[39;00m:\n\u001b[0;32m     24\u001b[0m     \u001b[38;5;28;01mtry\u001b[39;00m:\n\u001b[1;32m---> 25\u001b[0m         \u001b[38;5;28;01mreturn\u001b[39;00m \u001b[38;5;28msuper\u001b[39m()\u001b[38;5;241m.\u001b[39mcreate(\u001b[38;5;241m*\u001b[39margs, \u001b[38;5;241m*\u001b[39m\u001b[38;5;241m*\u001b[39mkwargs)\n\u001b[0;32m     26\u001b[0m     \u001b[38;5;28;01mexcept\u001b[39;00m TryAgain \u001b[38;5;28;01mas\u001b[39;00m e:\n\u001b[0;32m     27\u001b[0m         \u001b[38;5;28;01mif\u001b[39;00m timeout \u001b[38;5;129;01mis\u001b[39;00m \u001b[38;5;129;01mnot\u001b[39;00m \u001b[38;5;28;01mNone\u001b[39;00m \u001b[38;5;129;01mand\u001b[39;00m time\u001b[38;5;241m.\u001b[39mtime() \u001b[38;5;241m>\u001b[39m start \u001b[38;5;241m+\u001b[39m timeout:\n",
      "File \u001b[1;32m~\\AppData\\Roaming\\Python\\Python310\\site-packages\\openai\\api_resources\\abstract\\engine_api_resource.py:153\u001b[0m, in \u001b[0;36mEngineAPIResource.create\u001b[1;34m(cls, api_key, api_base, api_type, request_id, api_version, organization, **params)\u001b[0m\n\u001b[0;32m    127\u001b[0m \u001b[38;5;129m@classmethod\u001b[39m\n\u001b[0;32m    128\u001b[0m \u001b[38;5;28;01mdef\u001b[39;00m \u001b[38;5;21mcreate\u001b[39m(\n\u001b[0;32m    129\u001b[0m     \u001b[38;5;28mcls\u001b[39m,\n\u001b[1;32m   (...)\u001b[0m\n\u001b[0;32m    136\u001b[0m     \u001b[38;5;241m*\u001b[39m\u001b[38;5;241m*\u001b[39mparams,\n\u001b[0;32m    137\u001b[0m ):\n\u001b[0;32m    138\u001b[0m     (\n\u001b[0;32m    139\u001b[0m         deployment_id,\n\u001b[0;32m    140\u001b[0m         engine,\n\u001b[1;32m   (...)\u001b[0m\n\u001b[0;32m    150\u001b[0m         api_key, api_base, api_type, api_version, organization, \u001b[38;5;241m*\u001b[39m\u001b[38;5;241m*\u001b[39mparams\n\u001b[0;32m    151\u001b[0m     )\n\u001b[1;32m--> 153\u001b[0m     response, _, api_key \u001b[38;5;241m=\u001b[39m \u001b[43mrequestor\u001b[49m\u001b[38;5;241;43m.\u001b[39;49m\u001b[43mrequest\u001b[49m\u001b[43m(\u001b[49m\n\u001b[0;32m    154\u001b[0m \u001b[43m        \u001b[49m\u001b[38;5;124;43m\"\u001b[39;49m\u001b[38;5;124;43mpost\u001b[39;49m\u001b[38;5;124;43m\"\u001b[39;49m\u001b[43m,\u001b[49m\n\u001b[0;32m    155\u001b[0m \u001b[43m        \u001b[49m\u001b[43murl\u001b[49m\u001b[43m,\u001b[49m\n\u001b[0;32m    156\u001b[0m \u001b[43m        \u001b[49m\u001b[43mparams\u001b[49m\u001b[38;5;241;43m=\u001b[39;49m\u001b[43mparams\u001b[49m\u001b[43m,\u001b[49m\n\u001b[0;32m    157\u001b[0m \u001b[43m        \u001b[49m\u001b[43mheaders\u001b[49m\u001b[38;5;241;43m=\u001b[39;49m\u001b[43mheaders\u001b[49m\u001b[43m,\u001b[49m\n\u001b[0;32m    158\u001b[0m \u001b[43m        \u001b[49m\u001b[43mstream\u001b[49m\u001b[38;5;241;43m=\u001b[39;49m\u001b[43mstream\u001b[49m\u001b[43m,\u001b[49m\n\u001b[0;32m    159\u001b[0m \u001b[43m        \u001b[49m\u001b[43mrequest_id\u001b[49m\u001b[38;5;241;43m=\u001b[39;49m\u001b[43mrequest_id\u001b[49m\u001b[43m,\u001b[49m\n\u001b[0;32m    160\u001b[0m \u001b[43m        \u001b[49m\u001b[43mrequest_timeout\u001b[49m\u001b[38;5;241;43m=\u001b[39;49m\u001b[43mrequest_timeout\u001b[49m\u001b[43m,\u001b[49m\n\u001b[0;32m    161\u001b[0m \u001b[43m    \u001b[49m\u001b[43m)\u001b[49m\n\u001b[0;32m    163\u001b[0m     \u001b[38;5;28;01mif\u001b[39;00m stream:\n\u001b[0;32m    164\u001b[0m         \u001b[38;5;66;03m# must be an iterator\u001b[39;00m\n\u001b[0;32m    165\u001b[0m         \u001b[38;5;28;01massert\u001b[39;00m \u001b[38;5;129;01mnot\u001b[39;00m \u001b[38;5;28misinstance\u001b[39m(response, OpenAIResponse)\n",
      "File \u001b[1;32m~\\AppData\\Roaming\\Python\\Python310\\site-packages\\openai\\api_requestor.py:298\u001b[0m, in \u001b[0;36mAPIRequestor.request\u001b[1;34m(self, method, url, params, headers, files, stream, request_id, request_timeout)\u001b[0m\n\u001b[0;32m    277\u001b[0m \u001b[38;5;28;01mdef\u001b[39;00m \u001b[38;5;21mrequest\u001b[39m(\n\u001b[0;32m    278\u001b[0m     \u001b[38;5;28mself\u001b[39m,\n\u001b[0;32m    279\u001b[0m     method,\n\u001b[1;32m   (...)\u001b[0m\n\u001b[0;32m    286\u001b[0m     request_timeout: Optional[Union[\u001b[38;5;28mfloat\u001b[39m, Tuple[\u001b[38;5;28mfloat\u001b[39m, \u001b[38;5;28mfloat\u001b[39m]]] \u001b[38;5;241m=\u001b[39m \u001b[38;5;28;01mNone\u001b[39;00m,\n\u001b[0;32m    287\u001b[0m ) \u001b[38;5;241m-\u001b[39m\u001b[38;5;241m>\u001b[39m Tuple[Union[OpenAIResponse, Iterator[OpenAIResponse]], \u001b[38;5;28mbool\u001b[39m, \u001b[38;5;28mstr\u001b[39m]:\n\u001b[0;32m    288\u001b[0m     result \u001b[38;5;241m=\u001b[39m \u001b[38;5;28mself\u001b[39m\u001b[38;5;241m.\u001b[39mrequest_raw(\n\u001b[0;32m    289\u001b[0m         method\u001b[38;5;241m.\u001b[39mlower(),\n\u001b[0;32m    290\u001b[0m         url,\n\u001b[1;32m   (...)\u001b[0m\n\u001b[0;32m    296\u001b[0m         request_timeout\u001b[38;5;241m=\u001b[39mrequest_timeout,\n\u001b[0;32m    297\u001b[0m     )\n\u001b[1;32m--> 298\u001b[0m     resp, got_stream \u001b[38;5;241m=\u001b[39m \u001b[38;5;28;43mself\u001b[39;49m\u001b[38;5;241;43m.\u001b[39;49m\u001b[43m_interpret_response\u001b[49m\u001b[43m(\u001b[49m\u001b[43mresult\u001b[49m\u001b[43m,\u001b[49m\u001b[43m \u001b[49m\u001b[43mstream\u001b[49m\u001b[43m)\u001b[49m\n\u001b[0;32m    299\u001b[0m     \u001b[38;5;28;01mreturn\u001b[39;00m resp, got_stream, \u001b[38;5;28mself\u001b[39m\u001b[38;5;241m.\u001b[39mapi_key\n",
      "File \u001b[1;32m~\\AppData\\Roaming\\Python\\Python310\\site-packages\\openai\\api_requestor.py:700\u001b[0m, in \u001b[0;36mAPIRequestor._interpret_response\u001b[1;34m(self, result, stream)\u001b[0m\n\u001b[0;32m    692\u001b[0m     \u001b[38;5;28;01mreturn\u001b[39;00m (\n\u001b[0;32m    693\u001b[0m         \u001b[38;5;28mself\u001b[39m\u001b[38;5;241m.\u001b[39m_interpret_response_line(\n\u001b[0;32m    694\u001b[0m             line, result\u001b[38;5;241m.\u001b[39mstatus_code, result\u001b[38;5;241m.\u001b[39mheaders, stream\u001b[38;5;241m=\u001b[39m\u001b[38;5;28;01mTrue\u001b[39;00m\n\u001b[0;32m    695\u001b[0m         )\n\u001b[0;32m    696\u001b[0m         \u001b[38;5;28;01mfor\u001b[39;00m line \u001b[38;5;129;01min\u001b[39;00m parse_stream(result\u001b[38;5;241m.\u001b[39miter_lines())\n\u001b[0;32m    697\u001b[0m     ), \u001b[38;5;28;01mTrue\u001b[39;00m\n\u001b[0;32m    698\u001b[0m \u001b[38;5;28;01melse\u001b[39;00m:\n\u001b[0;32m    699\u001b[0m     \u001b[38;5;28;01mreturn\u001b[39;00m (\n\u001b[1;32m--> 700\u001b[0m         \u001b[38;5;28;43mself\u001b[39;49m\u001b[38;5;241;43m.\u001b[39;49m\u001b[43m_interpret_response_line\u001b[49m\u001b[43m(\u001b[49m\n\u001b[0;32m    701\u001b[0m \u001b[43m            \u001b[49m\u001b[43mresult\u001b[49m\u001b[38;5;241;43m.\u001b[39;49m\u001b[43mcontent\u001b[49m\u001b[38;5;241;43m.\u001b[39;49m\u001b[43mdecode\u001b[49m\u001b[43m(\u001b[49m\u001b[38;5;124;43m\"\u001b[39;49m\u001b[38;5;124;43mutf-8\u001b[39;49m\u001b[38;5;124;43m\"\u001b[39;49m\u001b[43m)\u001b[49m\u001b[43m,\u001b[49m\n\u001b[0;32m    702\u001b[0m \u001b[43m            \u001b[49m\u001b[43mresult\u001b[49m\u001b[38;5;241;43m.\u001b[39;49m\u001b[43mstatus_code\u001b[49m\u001b[43m,\u001b[49m\n\u001b[0;32m    703\u001b[0m \u001b[43m            \u001b[49m\u001b[43mresult\u001b[49m\u001b[38;5;241;43m.\u001b[39;49m\u001b[43mheaders\u001b[49m\u001b[43m,\u001b[49m\n\u001b[0;32m    704\u001b[0m \u001b[43m            \u001b[49m\u001b[43mstream\u001b[49m\u001b[38;5;241;43m=\u001b[39;49m\u001b[38;5;28;43;01mFalse\u001b[39;49;00m\u001b[43m,\u001b[49m\n\u001b[0;32m    705\u001b[0m \u001b[43m        \u001b[49m\u001b[43m)\u001b[49m,\n\u001b[0;32m    706\u001b[0m         \u001b[38;5;28;01mFalse\u001b[39;00m,\n\u001b[0;32m    707\u001b[0m     )\n",
      "File \u001b[1;32m~\\AppData\\Roaming\\Python\\Python310\\site-packages\\openai\\api_requestor.py:763\u001b[0m, in \u001b[0;36mAPIRequestor._interpret_response_line\u001b[1;34m(self, rbody, rcode, rheaders, stream)\u001b[0m\n\u001b[0;32m    761\u001b[0m stream_error \u001b[38;5;241m=\u001b[39m stream \u001b[38;5;129;01mand\u001b[39;00m \u001b[38;5;124m\"\u001b[39m\u001b[38;5;124merror\u001b[39m\u001b[38;5;124m\"\u001b[39m \u001b[38;5;129;01min\u001b[39;00m resp\u001b[38;5;241m.\u001b[39mdata\n\u001b[0;32m    762\u001b[0m \u001b[38;5;28;01mif\u001b[39;00m stream_error \u001b[38;5;129;01mor\u001b[39;00m \u001b[38;5;129;01mnot\u001b[39;00m \u001b[38;5;241m200\u001b[39m \u001b[38;5;241m<\u001b[39m\u001b[38;5;241m=\u001b[39m rcode \u001b[38;5;241m<\u001b[39m \u001b[38;5;241m300\u001b[39m:\n\u001b[1;32m--> 763\u001b[0m     \u001b[38;5;28;01mraise\u001b[39;00m \u001b[38;5;28mself\u001b[39m\u001b[38;5;241m.\u001b[39mhandle_error_response(\n\u001b[0;32m    764\u001b[0m         rbody, rcode, resp\u001b[38;5;241m.\u001b[39mdata, rheaders, stream_error\u001b[38;5;241m=\u001b[39mstream_error\n\u001b[0;32m    765\u001b[0m     )\n\u001b[0;32m    766\u001b[0m \u001b[38;5;28;01mreturn\u001b[39;00m resp\n",
      "\u001b[1;31mInvalidRequestError\u001b[0m: This model's maximum context length is 4097 tokens. However, your messages resulted in 6361 tokens. Please reduce the length of the messages."
     ]
    }
   ],
   "source": [
    "#db_chain_prompt0(\"For each Product can you give me XSales for year 2022\")\n",
    "db_chain_prompt0(\"Can you give me Xsale for year 2022 for all the products where L3 is Regulatory\")\n",
    "#db_chain_prompt0(\"Can you give me total Xsale for year 2022\")\n"
   ]
  },
  {
   "cell_type": "code",
   "execution_count": 21,
   "id": "8b396569",
   "metadata": {},
   "outputs": [
    {
     "name": "stdout",
     "output_type": "stream",
     "text": [
      "\n",
      "\n",
      "\u001b[1m> Entering new SQLDatabaseChain chain...\u001b[0m\n",
      "For L3 Regulatory can you give me # Clients and each Client X sales for Region America in Q3 Year 2021\n",
      "SQLQuery:\u001b[32;1m\u001b[1;3mSELECT COUNT(DISTINCT CA.[Client Account ID]) AS [Number of Clients], CA.[Client Account Name], SLI.[Sale Amount $]\n",
      "FROM [Client Accounts] CA\n",
      "JOIN [Sales Line Items] SLI ON CA.[Client Account ID] = SLI.[Client Account ID]\n",
      "JOIN [Products] P ON SLI.[Product ID] = P.[Product ID]\n",
      "WHERE P.[Product Function (L3)] = 'L3 Regulatory'\n",
      "AND SLI.[Region] = 'America'\n",
      "AND DATEPART(QUARTER, SLI.[Sale Date]) = 3\n",
      "AND DATEPART(YEAR, SLI.[Sale Date]) = 2021\n",
      "GROUP BY CA.[Client Account ID], CA.[Client Account Name], SLI.[Sale Amount $]\u001b[0m\n",
      "SQLResult: \u001b[33;1m\u001b[1;3m[]\u001b[0m\n",
      "Answer:\u001b[32;1m\u001b[1;3mI am not sure of the correct answer.\u001b[0m\n",
      "\u001b[1m> Finished chain.\u001b[0m\n"
     ]
    },
    {
     "data": {
      "text/plain": [
       "{'query': 'For L3 Regulatory can you give me # Clients and each Client X sales for Region America in Q3 Year 2021',\n",
       " 'result': 'I am not sure of the correct answer.'}"
      ]
     },
     "execution_count": 21,
     "metadata": {},
     "output_type": "execute_result"
    }
   ],
   "source": [
    "db_chain_prompt0(\"For L4 CreditLens can you give me $ Sales for Region Americas in Year 2022\")\n",
    "#db_chain_prompt0(\"For L3 Regulatory can you give me # Clients and each Client X sales for Region America in Q3 Year 2021\")\n",
    "#db_chain_prompt0(\"can you give me Growth % between year 2022 vs year 2021 where L3 is Regulatory\")"
   ]
  },
  {
   "cell_type": "code",
   "execution_count": 39,
   "id": "f4d65cc1",
   "metadata": {},
   "outputs": [
    {
     "name": "stdout",
     "output_type": "stream",
     "text": [
      "\n",
      "\n",
      "\u001b[1m> Entering new SQLDatabaseChain chain...\u001b[0m\n",
      "can you give me Growth change in sales between year 2022 vs year 2021 where L3 is Regulatory\n",
      "SQLQuery:\u001b[32;1m\u001b[1;3mSELECT \n",
      "    SUM([Sale Amount $]) AS TotalSales2022,\n",
      "    (SELECT SUM([Sale Amount $]) FROM [Sales Line Items] WHERE YEAR([Sale Date]) = 2021 AND [Product Function (L3)] = 'Regulatory') AS TotalSales2021\n",
      "FROM \n",
      "    [Sales Line Items]\n",
      "WHERE \n",
      "    YEAR([Sale Date]) = 2022 AND [Product Function (L3)] = 'Regulatory'\u001b[0m"
     ]
    },
    {
     "ename": "ProgrammingError",
     "evalue": "(pyodbc.ProgrammingError) ('42S22', \"[42S22] [Microsoft][SQL Server Native Client 11.0][SQL Server]Invalid column name 'Product Function (L3)'. (207) (SQLExecDirectW); [42S22] [Microsoft][SQL Server Native Client 11.0][SQL Server]Invalid column name 'Product Function (L3)'. (207)\")\n[SQL: SELECT \n    SUM([Sale Amount $]) AS TotalSales2022,\n    (SELECT SUM([Sale Amount $]) FROM [Sales Line Items] WHERE YEAR([Sale Date]) = 2021 AND [Product Function (L3)] = 'Regulatory') AS TotalSales2021\nFROM \n    [Sales Line Items]\nWHERE \n    YEAR([Sale Date]) = 2022 AND [Product Function (L3)] = 'Regulatory']\n(Background on this error at: https://sqlalche.me/e/14/f405)",
     "output_type": "error",
     "traceback": [
      "\u001b[1;31m---------------------------------------------------------------------------\u001b[0m",
      "\u001b[1;31mProgrammingError\u001b[0m                          Traceback (most recent call last)",
      "File \u001b[1;32mC:\\ProgramData\\anaconda3\\lib\\site-packages\\sqlalchemy\\engine\\base.py:1819\u001b[0m, in \u001b[0;36mConnection._execute_context\u001b[1;34m(self, dialect, constructor, statement, parameters, execution_options, *args, **kw)\u001b[0m\n\u001b[0;32m   1818\u001b[0m     \u001b[38;5;28;01mif\u001b[39;00m \u001b[38;5;129;01mnot\u001b[39;00m evt_handled:\n\u001b[1;32m-> 1819\u001b[0m         \u001b[38;5;28;43mself\u001b[39;49m\u001b[38;5;241;43m.\u001b[39;49m\u001b[43mdialect\u001b[49m\u001b[38;5;241;43m.\u001b[39;49m\u001b[43mdo_execute\u001b[49m\u001b[43m(\u001b[49m\n\u001b[0;32m   1820\u001b[0m \u001b[43m            \u001b[49m\u001b[43mcursor\u001b[49m\u001b[43m,\u001b[49m\u001b[43m \u001b[49m\u001b[43mstatement\u001b[49m\u001b[43m,\u001b[49m\u001b[43m \u001b[49m\u001b[43mparameters\u001b[49m\u001b[43m,\u001b[49m\u001b[43m \u001b[49m\u001b[43mcontext\u001b[49m\n\u001b[0;32m   1821\u001b[0m \u001b[43m        \u001b[49m\u001b[43m)\u001b[49m\n\u001b[0;32m   1823\u001b[0m \u001b[38;5;28;01mif\u001b[39;00m \u001b[38;5;28mself\u001b[39m\u001b[38;5;241m.\u001b[39m_has_events \u001b[38;5;129;01mor\u001b[39;00m \u001b[38;5;28mself\u001b[39m\u001b[38;5;241m.\u001b[39mengine\u001b[38;5;241m.\u001b[39m_has_events:\n",
      "File \u001b[1;32mC:\\ProgramData\\anaconda3\\lib\\site-packages\\sqlalchemy\\engine\\default.py:732\u001b[0m, in \u001b[0;36mDefaultDialect.do_execute\u001b[1;34m(self, cursor, statement, parameters, context)\u001b[0m\n\u001b[0;32m    731\u001b[0m \u001b[38;5;28;01mdef\u001b[39;00m \u001b[38;5;21mdo_execute\u001b[39m(\u001b[38;5;28mself\u001b[39m, cursor, statement, parameters, context\u001b[38;5;241m=\u001b[39m\u001b[38;5;28;01mNone\u001b[39;00m):\n\u001b[1;32m--> 732\u001b[0m     \u001b[43mcursor\u001b[49m\u001b[38;5;241;43m.\u001b[39;49m\u001b[43mexecute\u001b[49m\u001b[43m(\u001b[49m\u001b[43mstatement\u001b[49m\u001b[43m,\u001b[49m\u001b[43m \u001b[49m\u001b[43mparameters\u001b[49m\u001b[43m)\u001b[49m\n",
      "\u001b[1;31mProgrammingError\u001b[0m: ('42S22', \"[42S22] [Microsoft][SQL Server Native Client 11.0][SQL Server]Invalid column name 'Product Function (L3)'. (207) (SQLExecDirectW); [42S22] [Microsoft][SQL Server Native Client 11.0][SQL Server]Invalid column name 'Product Function (L3)'. (207)\")",
      "\nThe above exception was the direct cause of the following exception:\n",
      "\u001b[1;31mProgrammingError\u001b[0m                          Traceback (most recent call last)",
      "Cell \u001b[1;32mIn[39], line 5\u001b[0m\n\u001b[0;32m      1\u001b[0m \u001b[38;5;66;03m#db_chain_prompt0(\"For L3 Regulatory can you give me # Clients and for Region America in Year 2021\")\u001b[39;00m\n\u001b[0;32m      2\u001b[0m \u001b[38;5;66;03m#db_chain_prompt0(\"how many Regulatory client did we have in 2021 in the America\")\u001b[39;00m\n\u001b[0;32m      3\u001b[0m \u001b[38;5;66;03m#db_chain_prompt0(\"For L3 Regulatory can you give me Growth % between year 2022 vs year 2021\")\u001b[39;00m\n\u001b[0;32m      4\u001b[0m \u001b[38;5;66;03m#db_chain_prompt0(\"For L3 Regulatory can you give me Growth change in sales between year 2022 vs year 2021\")\u001b[39;00m\n\u001b[1;32m----> 5\u001b[0m \u001b[43mdb_chain_prompt0\u001b[49m\u001b[43m(\u001b[49m\u001b[38;5;124;43m\"\u001b[39;49m\u001b[38;5;124;43mcan you give me Growth change in sales between year 2022 vs year 2021 where L3 is Regulatory\u001b[39;49m\u001b[38;5;124;43m\"\u001b[39;49m\u001b[43m)\u001b[49m\n",
      "File \u001b[1;32m~\\AppData\\Roaming\\Python\\Python310\\site-packages\\langchain\\chains\\base.py:243\u001b[0m, in \u001b[0;36mChain.__call__\u001b[1;34m(self, inputs, return_only_outputs, callbacks, tags, metadata, include_run_info)\u001b[0m\n\u001b[0;32m    241\u001b[0m \u001b[38;5;28;01mexcept\u001b[39;00m (\u001b[38;5;167;01mKeyboardInterrupt\u001b[39;00m, \u001b[38;5;167;01mException\u001b[39;00m) \u001b[38;5;28;01mas\u001b[39;00m e:\n\u001b[0;32m    242\u001b[0m     run_manager\u001b[38;5;241m.\u001b[39mon_chain_error(e)\n\u001b[1;32m--> 243\u001b[0m     \u001b[38;5;28;01mraise\u001b[39;00m e\n\u001b[0;32m    244\u001b[0m run_manager\u001b[38;5;241m.\u001b[39mon_chain_end(outputs)\n\u001b[0;32m    245\u001b[0m final_outputs: Dict[\u001b[38;5;28mstr\u001b[39m, Any] \u001b[38;5;241m=\u001b[39m \u001b[38;5;28mself\u001b[39m\u001b[38;5;241m.\u001b[39mprep_outputs(\n\u001b[0;32m    246\u001b[0m     inputs, outputs, return_only_outputs\n\u001b[0;32m    247\u001b[0m )\n",
      "File \u001b[1;32m~\\AppData\\Roaming\\Python\\Python310\\site-packages\\langchain\\chains\\base.py:237\u001b[0m, in \u001b[0;36mChain.__call__\u001b[1;34m(self, inputs, return_only_outputs, callbacks, tags, metadata, include_run_info)\u001b[0m\n\u001b[0;32m    231\u001b[0m run_manager \u001b[38;5;241m=\u001b[39m callback_manager\u001b[38;5;241m.\u001b[39mon_chain_start(\n\u001b[0;32m    232\u001b[0m     dumpd(\u001b[38;5;28mself\u001b[39m),\n\u001b[0;32m    233\u001b[0m     inputs,\n\u001b[0;32m    234\u001b[0m )\n\u001b[0;32m    235\u001b[0m \u001b[38;5;28;01mtry\u001b[39;00m:\n\u001b[0;32m    236\u001b[0m     outputs \u001b[38;5;241m=\u001b[39m (\n\u001b[1;32m--> 237\u001b[0m         \u001b[38;5;28;43mself\u001b[39;49m\u001b[38;5;241;43m.\u001b[39;49m\u001b[43m_call\u001b[49m\u001b[43m(\u001b[49m\u001b[43minputs\u001b[49m\u001b[43m,\u001b[49m\u001b[43m \u001b[49m\u001b[43mrun_manager\u001b[49m\u001b[38;5;241;43m=\u001b[39;49m\u001b[43mrun_manager\u001b[49m\u001b[43m)\u001b[49m\n\u001b[0;32m    238\u001b[0m         \u001b[38;5;28;01mif\u001b[39;00m new_arg_supported\n\u001b[0;32m    239\u001b[0m         \u001b[38;5;28;01melse\u001b[39;00m \u001b[38;5;28mself\u001b[39m\u001b[38;5;241m.\u001b[39m_call(inputs)\n\u001b[0;32m    240\u001b[0m     )\n\u001b[0;32m    241\u001b[0m \u001b[38;5;28;01mexcept\u001b[39;00m (\u001b[38;5;167;01mKeyboardInterrupt\u001b[39;00m, \u001b[38;5;167;01mException\u001b[39;00m) \u001b[38;5;28;01mas\u001b[39;00m e:\n\u001b[0;32m    242\u001b[0m     run_manager\u001b[38;5;241m.\u001b[39mon_chain_error(e)\n",
      "File \u001b[1;32m~\\AppData\\Roaming\\Python\\Python310\\site-packages\\langchain\\chains\\sql_database\\base.py:181\u001b[0m, in \u001b[0;36mSQLDatabaseChain._call\u001b[1;34m(self, inputs, run_manager)\u001b[0m\n\u001b[0;32m    177\u001b[0m \u001b[38;5;28;01mexcept\u001b[39;00m \u001b[38;5;167;01mException\u001b[39;00m \u001b[38;5;28;01mas\u001b[39;00m exc:\n\u001b[0;32m    178\u001b[0m     \u001b[38;5;66;03m# Append intermediate steps to exception, to aid in logging and later\u001b[39;00m\n\u001b[0;32m    179\u001b[0m     \u001b[38;5;66;03m# improvement of few shot prompt seeds\u001b[39;00m\n\u001b[0;32m    180\u001b[0m     exc\u001b[38;5;241m.\u001b[39mintermediate_steps \u001b[38;5;241m=\u001b[39m intermediate_steps  \u001b[38;5;66;03m# type: ignore\u001b[39;00m\n\u001b[1;32m--> 181\u001b[0m     \u001b[38;5;28;01mraise\u001b[39;00m exc\n",
      "File \u001b[1;32m~\\AppData\\Roaming\\Python\\Python310\\site-packages\\langchain\\chains\\sql_database\\base.py:126\u001b[0m, in \u001b[0;36mSQLDatabaseChain._call\u001b[1;34m(self, inputs, run_manager)\u001b[0m\n\u001b[0;32m    122\u001b[0m     intermediate_steps\u001b[38;5;241m.\u001b[39mappend(\n\u001b[0;32m    123\u001b[0m         sql_cmd\n\u001b[0;32m    124\u001b[0m     )  \u001b[38;5;66;03m# output: sql generation (no checker)\u001b[39;00m\n\u001b[0;32m    125\u001b[0m     intermediate_steps\u001b[38;5;241m.\u001b[39mappend({\u001b[38;5;124m\"\u001b[39m\u001b[38;5;124msql_cmd\u001b[39m\u001b[38;5;124m\"\u001b[39m: sql_cmd})  \u001b[38;5;66;03m# input: sql exec\u001b[39;00m\n\u001b[1;32m--> 126\u001b[0m     result \u001b[38;5;241m=\u001b[39m \u001b[38;5;28;43mself\u001b[39;49m\u001b[38;5;241;43m.\u001b[39;49m\u001b[43mdatabase\u001b[49m\u001b[38;5;241;43m.\u001b[39;49m\u001b[43mrun\u001b[49m\u001b[43m(\u001b[49m\u001b[43msql_cmd\u001b[49m\u001b[43m)\u001b[49m\n\u001b[0;32m    127\u001b[0m     intermediate_steps\u001b[38;5;241m.\u001b[39mappend(\u001b[38;5;28mstr\u001b[39m(result))  \u001b[38;5;66;03m# output: sql exec\u001b[39;00m\n\u001b[0;32m    128\u001b[0m \u001b[38;5;28;01melse\u001b[39;00m:\n",
      "File \u001b[1;32m~\\AppData\\Roaming\\Python\\Python310\\site-packages\\langchain\\sql_database.py:390\u001b[0m, in \u001b[0;36mSQLDatabase.run\u001b[1;34m(self, command, fetch)\u001b[0m\n\u001b[0;32m    388\u001b[0m     \u001b[38;5;28;01melse\u001b[39;00m:\n\u001b[0;32m    389\u001b[0m         connection\u001b[38;5;241m.\u001b[39mexec_driver_sql(\u001b[38;5;124mf\u001b[39m\u001b[38;5;124m\"\u001b[39m\u001b[38;5;124mSET search_path TO \u001b[39m\u001b[38;5;132;01m{\u001b[39;00m\u001b[38;5;28mself\u001b[39m\u001b[38;5;241m.\u001b[39m_schema\u001b[38;5;132;01m}\u001b[39;00m\u001b[38;5;124m\"\u001b[39m)\n\u001b[1;32m--> 390\u001b[0m cursor \u001b[38;5;241m=\u001b[39m \u001b[43mconnection\u001b[49m\u001b[38;5;241;43m.\u001b[39;49m\u001b[43mexecute\u001b[49m\u001b[43m(\u001b[49m\u001b[43mtext\u001b[49m\u001b[43m(\u001b[49m\u001b[43mcommand\u001b[49m\u001b[43m)\u001b[49m\u001b[43m)\u001b[49m\n\u001b[0;32m    391\u001b[0m \u001b[38;5;28;01mif\u001b[39;00m cursor\u001b[38;5;241m.\u001b[39mreturns_rows:\n\u001b[0;32m    392\u001b[0m     \u001b[38;5;28;01mif\u001b[39;00m fetch \u001b[38;5;241m==\u001b[39m \u001b[38;5;124m\"\u001b[39m\u001b[38;5;124mall\u001b[39m\u001b[38;5;124m\"\u001b[39m:\n",
      "File \u001b[1;32mC:\\ProgramData\\anaconda3\\lib\\site-packages\\sqlalchemy\\engine\\base.py:1306\u001b[0m, in \u001b[0;36mConnection.execute\u001b[1;34m(self, statement, *multiparams, **params)\u001b[0m\n\u001b[0;32m   1302\u001b[0m     util\u001b[38;5;241m.\u001b[39mraise_(\n\u001b[0;32m   1303\u001b[0m         exc\u001b[38;5;241m.\u001b[39mObjectNotExecutableError(statement), replace_context\u001b[38;5;241m=\u001b[39merr\n\u001b[0;32m   1304\u001b[0m     )\n\u001b[0;32m   1305\u001b[0m \u001b[38;5;28;01melse\u001b[39;00m:\n\u001b[1;32m-> 1306\u001b[0m     \u001b[38;5;28;01mreturn\u001b[39;00m \u001b[43mmeth\u001b[49m\u001b[43m(\u001b[49m\u001b[38;5;28;43mself\u001b[39;49m\u001b[43m,\u001b[49m\u001b[43m \u001b[49m\u001b[43mmultiparams\u001b[49m\u001b[43m,\u001b[49m\u001b[43m \u001b[49m\u001b[43mparams\u001b[49m\u001b[43m,\u001b[49m\u001b[43m \u001b[49m\u001b[43m_EMPTY_EXECUTION_OPTS\u001b[49m\u001b[43m)\u001b[49m\n",
      "File \u001b[1;32mC:\\ProgramData\\anaconda3\\lib\\site-packages\\sqlalchemy\\sql\\elements.py:332\u001b[0m, in \u001b[0;36mClauseElement._execute_on_connection\u001b[1;34m(self, connection, multiparams, params, execution_options, _force)\u001b[0m\n\u001b[0;32m    328\u001b[0m \u001b[38;5;28;01mdef\u001b[39;00m \u001b[38;5;21m_execute_on_connection\u001b[39m(\n\u001b[0;32m    329\u001b[0m     \u001b[38;5;28mself\u001b[39m, connection, multiparams, params, execution_options, _force\u001b[38;5;241m=\u001b[39m\u001b[38;5;28;01mFalse\u001b[39;00m\n\u001b[0;32m    330\u001b[0m ):\n\u001b[0;32m    331\u001b[0m     \u001b[38;5;28;01mif\u001b[39;00m _force \u001b[38;5;129;01mor\u001b[39;00m \u001b[38;5;28mself\u001b[39m\u001b[38;5;241m.\u001b[39msupports_execution:\n\u001b[1;32m--> 332\u001b[0m         \u001b[38;5;28;01mreturn\u001b[39;00m \u001b[43mconnection\u001b[49m\u001b[38;5;241;43m.\u001b[39;49m\u001b[43m_execute_clauseelement\u001b[49m\u001b[43m(\u001b[49m\n\u001b[0;32m    333\u001b[0m \u001b[43m            \u001b[49m\u001b[38;5;28;43mself\u001b[39;49m\u001b[43m,\u001b[49m\u001b[43m \u001b[49m\u001b[43mmultiparams\u001b[49m\u001b[43m,\u001b[49m\u001b[43m \u001b[49m\u001b[43mparams\u001b[49m\u001b[43m,\u001b[49m\u001b[43m \u001b[49m\u001b[43mexecution_options\u001b[49m\n\u001b[0;32m    334\u001b[0m \u001b[43m        \u001b[49m\u001b[43m)\u001b[49m\n\u001b[0;32m    335\u001b[0m     \u001b[38;5;28;01melse\u001b[39;00m:\n\u001b[0;32m    336\u001b[0m         \u001b[38;5;28;01mraise\u001b[39;00m exc\u001b[38;5;241m.\u001b[39mObjectNotExecutableError(\u001b[38;5;28mself\u001b[39m)\n",
      "File \u001b[1;32mC:\\ProgramData\\anaconda3\\lib\\site-packages\\sqlalchemy\\engine\\base.py:1498\u001b[0m, in \u001b[0;36mConnection._execute_clauseelement\u001b[1;34m(self, elem, multiparams, params, execution_options)\u001b[0m\n\u001b[0;32m   1486\u001b[0m compiled_cache \u001b[38;5;241m=\u001b[39m execution_options\u001b[38;5;241m.\u001b[39mget(\n\u001b[0;32m   1487\u001b[0m     \u001b[38;5;124m\"\u001b[39m\u001b[38;5;124mcompiled_cache\u001b[39m\u001b[38;5;124m\"\u001b[39m, \u001b[38;5;28mself\u001b[39m\u001b[38;5;241m.\u001b[39mengine\u001b[38;5;241m.\u001b[39m_compiled_cache\n\u001b[0;32m   1488\u001b[0m )\n\u001b[0;32m   1490\u001b[0m compiled_sql, extracted_params, cache_hit \u001b[38;5;241m=\u001b[39m elem\u001b[38;5;241m.\u001b[39m_compile_w_cache(\n\u001b[0;32m   1491\u001b[0m     dialect\u001b[38;5;241m=\u001b[39mdialect,\n\u001b[0;32m   1492\u001b[0m     compiled_cache\u001b[38;5;241m=\u001b[39mcompiled_cache,\n\u001b[1;32m   (...)\u001b[0m\n\u001b[0;32m   1496\u001b[0m     linting\u001b[38;5;241m=\u001b[39m\u001b[38;5;28mself\u001b[39m\u001b[38;5;241m.\u001b[39mdialect\u001b[38;5;241m.\u001b[39mcompiler_linting \u001b[38;5;241m|\u001b[39m compiler\u001b[38;5;241m.\u001b[39mWARN_LINTING,\n\u001b[0;32m   1497\u001b[0m )\n\u001b[1;32m-> 1498\u001b[0m ret \u001b[38;5;241m=\u001b[39m \u001b[38;5;28;43mself\u001b[39;49m\u001b[38;5;241;43m.\u001b[39;49m\u001b[43m_execute_context\u001b[49m\u001b[43m(\u001b[49m\n\u001b[0;32m   1499\u001b[0m \u001b[43m    \u001b[49m\u001b[43mdialect\u001b[49m\u001b[43m,\u001b[49m\n\u001b[0;32m   1500\u001b[0m \u001b[43m    \u001b[49m\u001b[43mdialect\u001b[49m\u001b[38;5;241;43m.\u001b[39;49m\u001b[43mexecution_ctx_cls\u001b[49m\u001b[38;5;241;43m.\u001b[39;49m\u001b[43m_init_compiled\u001b[49m\u001b[43m,\u001b[49m\n\u001b[0;32m   1501\u001b[0m \u001b[43m    \u001b[49m\u001b[43mcompiled_sql\u001b[49m\u001b[43m,\u001b[49m\n\u001b[0;32m   1502\u001b[0m \u001b[43m    \u001b[49m\u001b[43mdistilled_params\u001b[49m\u001b[43m,\u001b[49m\n\u001b[0;32m   1503\u001b[0m \u001b[43m    \u001b[49m\u001b[43mexecution_options\u001b[49m\u001b[43m,\u001b[49m\n\u001b[0;32m   1504\u001b[0m \u001b[43m    \u001b[49m\u001b[43mcompiled_sql\u001b[49m\u001b[43m,\u001b[49m\n\u001b[0;32m   1505\u001b[0m \u001b[43m    \u001b[49m\u001b[43mdistilled_params\u001b[49m\u001b[43m,\u001b[49m\n\u001b[0;32m   1506\u001b[0m \u001b[43m    \u001b[49m\u001b[43melem\u001b[49m\u001b[43m,\u001b[49m\n\u001b[0;32m   1507\u001b[0m \u001b[43m    \u001b[49m\u001b[43mextracted_params\u001b[49m\u001b[43m,\u001b[49m\n\u001b[0;32m   1508\u001b[0m \u001b[43m    \u001b[49m\u001b[43mcache_hit\u001b[49m\u001b[38;5;241;43m=\u001b[39;49m\u001b[43mcache_hit\u001b[49m\u001b[43m,\u001b[49m\n\u001b[0;32m   1509\u001b[0m \u001b[43m\u001b[49m\u001b[43m)\u001b[49m\n\u001b[0;32m   1510\u001b[0m \u001b[38;5;28;01mif\u001b[39;00m has_events:\n\u001b[0;32m   1511\u001b[0m     \u001b[38;5;28mself\u001b[39m\u001b[38;5;241m.\u001b[39mdispatch\u001b[38;5;241m.\u001b[39mafter_execute(\n\u001b[0;32m   1512\u001b[0m         \u001b[38;5;28mself\u001b[39m,\n\u001b[0;32m   1513\u001b[0m         elem,\n\u001b[1;32m   (...)\u001b[0m\n\u001b[0;32m   1517\u001b[0m         ret,\n\u001b[0;32m   1518\u001b[0m     )\n",
      "File \u001b[1;32mC:\\ProgramData\\anaconda3\\lib\\site-packages\\sqlalchemy\\engine\\base.py:1862\u001b[0m, in \u001b[0;36mConnection._execute_context\u001b[1;34m(self, dialect, constructor, statement, parameters, execution_options, *args, **kw)\u001b[0m\n\u001b[0;32m   1859\u001b[0m             branched\u001b[38;5;241m.\u001b[39mclose()\n\u001b[0;32m   1861\u001b[0m \u001b[38;5;28;01mexcept\u001b[39;00m \u001b[38;5;167;01mBaseException\u001b[39;00m \u001b[38;5;28;01mas\u001b[39;00m e:\n\u001b[1;32m-> 1862\u001b[0m     \u001b[38;5;28;43mself\u001b[39;49m\u001b[38;5;241;43m.\u001b[39;49m\u001b[43m_handle_dbapi_exception\u001b[49m\u001b[43m(\u001b[49m\n\u001b[0;32m   1863\u001b[0m \u001b[43m        \u001b[49m\u001b[43me\u001b[49m\u001b[43m,\u001b[49m\u001b[43m \u001b[49m\u001b[43mstatement\u001b[49m\u001b[43m,\u001b[49m\u001b[43m \u001b[49m\u001b[43mparameters\u001b[49m\u001b[43m,\u001b[49m\u001b[43m \u001b[49m\u001b[43mcursor\u001b[49m\u001b[43m,\u001b[49m\u001b[43m \u001b[49m\u001b[43mcontext\u001b[49m\n\u001b[0;32m   1864\u001b[0m \u001b[43m    \u001b[49m\u001b[43m)\u001b[49m\n\u001b[0;32m   1866\u001b[0m \u001b[38;5;28;01mreturn\u001b[39;00m result\n",
      "File \u001b[1;32mC:\\ProgramData\\anaconda3\\lib\\site-packages\\sqlalchemy\\engine\\base.py:2043\u001b[0m, in \u001b[0;36mConnection._handle_dbapi_exception\u001b[1;34m(self, e, statement, parameters, cursor, context)\u001b[0m\n\u001b[0;32m   2041\u001b[0m     util\u001b[38;5;241m.\u001b[39mraise_(newraise, with_traceback\u001b[38;5;241m=\u001b[39mexc_info[\u001b[38;5;241m2\u001b[39m], from_\u001b[38;5;241m=\u001b[39me)\n\u001b[0;32m   2042\u001b[0m \u001b[38;5;28;01melif\u001b[39;00m should_wrap:\n\u001b[1;32m-> 2043\u001b[0m     \u001b[43mutil\u001b[49m\u001b[38;5;241;43m.\u001b[39;49m\u001b[43mraise_\u001b[49m\u001b[43m(\u001b[49m\n\u001b[0;32m   2044\u001b[0m \u001b[43m        \u001b[49m\u001b[43msqlalchemy_exception\u001b[49m\u001b[43m,\u001b[49m\u001b[43m \u001b[49m\u001b[43mwith_traceback\u001b[49m\u001b[38;5;241;43m=\u001b[39;49m\u001b[43mexc_info\u001b[49m\u001b[43m[\u001b[49m\u001b[38;5;241;43m2\u001b[39;49m\u001b[43m]\u001b[49m\u001b[43m,\u001b[49m\u001b[43m \u001b[49m\u001b[43mfrom_\u001b[49m\u001b[38;5;241;43m=\u001b[39;49m\u001b[43me\u001b[49m\n\u001b[0;32m   2045\u001b[0m \u001b[43m    \u001b[49m\u001b[43m)\u001b[49m\n\u001b[0;32m   2046\u001b[0m \u001b[38;5;28;01melse\u001b[39;00m:\n\u001b[0;32m   2047\u001b[0m     util\u001b[38;5;241m.\u001b[39mraise_(exc_info[\u001b[38;5;241m1\u001b[39m], with_traceback\u001b[38;5;241m=\u001b[39mexc_info[\u001b[38;5;241m2\u001b[39m])\n",
      "File \u001b[1;32mC:\\ProgramData\\anaconda3\\lib\\site-packages\\sqlalchemy\\util\\compat.py:208\u001b[0m, in \u001b[0;36mraise_\u001b[1;34m(***failed resolving arguments***)\u001b[0m\n\u001b[0;32m    205\u001b[0m     exception\u001b[38;5;241m.\u001b[39m__cause__ \u001b[38;5;241m=\u001b[39m replace_context\n\u001b[0;32m    207\u001b[0m \u001b[38;5;28;01mtry\u001b[39;00m:\n\u001b[1;32m--> 208\u001b[0m     \u001b[38;5;28;01mraise\u001b[39;00m exception\n\u001b[0;32m    209\u001b[0m \u001b[38;5;28;01mfinally\u001b[39;00m:\n\u001b[0;32m    210\u001b[0m     \u001b[38;5;66;03m# credit to\u001b[39;00m\n\u001b[0;32m    211\u001b[0m     \u001b[38;5;66;03m# https://cosmicpercolator.com/2016/01/13/exception-leaks-in-python-2-and-3/\u001b[39;00m\n\u001b[0;32m    212\u001b[0m     \u001b[38;5;66;03m# as the __traceback__ object creates a cycle\u001b[39;00m\n\u001b[0;32m    213\u001b[0m     \u001b[38;5;28;01mdel\u001b[39;00m exception, replace_context, from_, with_traceback\n",
      "File \u001b[1;32mC:\\ProgramData\\anaconda3\\lib\\site-packages\\sqlalchemy\\engine\\base.py:1819\u001b[0m, in \u001b[0;36mConnection._execute_context\u001b[1;34m(self, dialect, constructor, statement, parameters, execution_options, *args, **kw)\u001b[0m\n\u001b[0;32m   1817\u001b[0m                 \u001b[38;5;28;01mbreak\u001b[39;00m\n\u001b[0;32m   1818\u001b[0m     \u001b[38;5;28;01mif\u001b[39;00m \u001b[38;5;129;01mnot\u001b[39;00m evt_handled:\n\u001b[1;32m-> 1819\u001b[0m         \u001b[38;5;28;43mself\u001b[39;49m\u001b[38;5;241;43m.\u001b[39;49m\u001b[43mdialect\u001b[49m\u001b[38;5;241;43m.\u001b[39;49m\u001b[43mdo_execute\u001b[49m\u001b[43m(\u001b[49m\n\u001b[0;32m   1820\u001b[0m \u001b[43m            \u001b[49m\u001b[43mcursor\u001b[49m\u001b[43m,\u001b[49m\u001b[43m \u001b[49m\u001b[43mstatement\u001b[49m\u001b[43m,\u001b[49m\u001b[43m \u001b[49m\u001b[43mparameters\u001b[49m\u001b[43m,\u001b[49m\u001b[43m \u001b[49m\u001b[43mcontext\u001b[49m\n\u001b[0;32m   1821\u001b[0m \u001b[43m        \u001b[49m\u001b[43m)\u001b[49m\n\u001b[0;32m   1823\u001b[0m \u001b[38;5;28;01mif\u001b[39;00m \u001b[38;5;28mself\u001b[39m\u001b[38;5;241m.\u001b[39m_has_events \u001b[38;5;129;01mor\u001b[39;00m \u001b[38;5;28mself\u001b[39m\u001b[38;5;241m.\u001b[39mengine\u001b[38;5;241m.\u001b[39m_has_events:\n\u001b[0;32m   1824\u001b[0m     \u001b[38;5;28mself\u001b[39m\u001b[38;5;241m.\u001b[39mdispatch\u001b[38;5;241m.\u001b[39mafter_cursor_execute(\n\u001b[0;32m   1825\u001b[0m         \u001b[38;5;28mself\u001b[39m,\n\u001b[0;32m   1826\u001b[0m         cursor,\n\u001b[1;32m   (...)\u001b[0m\n\u001b[0;32m   1830\u001b[0m         context\u001b[38;5;241m.\u001b[39mexecutemany,\n\u001b[0;32m   1831\u001b[0m     )\n",
      "File \u001b[1;32mC:\\ProgramData\\anaconda3\\lib\\site-packages\\sqlalchemy\\engine\\default.py:732\u001b[0m, in \u001b[0;36mDefaultDialect.do_execute\u001b[1;34m(self, cursor, statement, parameters, context)\u001b[0m\n\u001b[0;32m    731\u001b[0m \u001b[38;5;28;01mdef\u001b[39;00m \u001b[38;5;21mdo_execute\u001b[39m(\u001b[38;5;28mself\u001b[39m, cursor, statement, parameters, context\u001b[38;5;241m=\u001b[39m\u001b[38;5;28;01mNone\u001b[39;00m):\n\u001b[1;32m--> 732\u001b[0m     \u001b[43mcursor\u001b[49m\u001b[38;5;241;43m.\u001b[39;49m\u001b[43mexecute\u001b[49m\u001b[43m(\u001b[49m\u001b[43mstatement\u001b[49m\u001b[43m,\u001b[49m\u001b[43m \u001b[49m\u001b[43mparameters\u001b[49m\u001b[43m)\u001b[49m\n",
      "\u001b[1;31mProgrammingError\u001b[0m: (pyodbc.ProgrammingError) ('42S22', \"[42S22] [Microsoft][SQL Server Native Client 11.0][SQL Server]Invalid column name 'Product Function (L3)'. (207) (SQLExecDirectW); [42S22] [Microsoft][SQL Server Native Client 11.0][SQL Server]Invalid column name 'Product Function (L3)'. (207)\")\n[SQL: SELECT \n    SUM([Sale Amount $]) AS TotalSales2022,\n    (SELECT SUM([Sale Amount $]) FROM [Sales Line Items] WHERE YEAR([Sale Date]) = 2021 AND [Product Function (L3)] = 'Regulatory') AS TotalSales2021\nFROM \n    [Sales Line Items]\nWHERE \n    YEAR([Sale Date]) = 2022 AND [Product Function (L3)] = 'Regulatory']\n(Background on this error at: https://sqlalche.me/e/14/f405)"
     ]
    }
   ],
   "source": [
    "#db_chain_prompt0(\"For L3 Regulatory can you give me # Clients and for Region America in Year 2021\")\n",
    "#db_chain_prompt0(\"how many Regulatory client did we have in 2021 in the America\")\n",
    "#db_chain_prompt0(\"For L3 Regulatory can you give me Growth % between year 2022 vs year 2021\")\n",
    "#db_chain_prompt0(\"For L3 Regulatory can you give me Growth change in sales between year 2022 vs year 2021\")\n",
    "db_chain_prompt0(\"can you give me Growth change in sales between year 2022 vs year 2021 where L3 is Regulatory\")"
   ]
  },
  {
   "cell_type": "code",
   "execution_count": 38,
   "id": "9dbcc8fe",
   "metadata": {},
   "outputs": [
    {
     "name": "stdout",
     "output_type": "stream",
     "text": [
      "\n",
      "\n",
      "\u001b[1m> Entering new SQLDatabaseChain chain...\u001b[0m\n",
      "Can you give me unique L4 product name where L3 is Regulatory\n",
      "SQLQuery:\u001b[32;1m\u001b[1;3mSELECT DISTINCT [Product Family (L4)] \n",
      "FROM [Products] \n",
      "WHERE [Product Function (L3)] = 'Regulatory'\u001b[0m\n",
      "SQLResult: \u001b[33;1m\u001b[1;3m[('Banking Cloud',), ('RiskAuthority',)]\u001b[0m\n",
      "Answer:\u001b[32;1m\u001b[1;3mBanking Cloud, RiskAuthority\u001b[0m\n",
      "\u001b[1m> Finished chain.\u001b[0m\n"
     ]
    },
    {
     "data": {
      "text/plain": [
       "{'query': 'Can you give me unique L4 product name where L3 is Regulatory',\n",
       " 'result': 'Banking Cloud, RiskAuthority'}"
      ]
     },
     "execution_count": 38,
     "metadata": {},
     "output_type": "execute_result"
    }
   ],
   "source": [
    "#db_chain_prompt0(\"For L3 Regulatory give me top 10 L4 product name\")\n",
    "db_chain_prompt0(\"Can you give me unique L4 product name where L3 is Regulatory\")"
   ]
  },
  {
   "cell_type": "code",
   "execution_count": null,
   "id": "b7ff97e1",
   "metadata": {},
   "outputs": [],
   "source": []
  },
  {
   "cell_type": "code",
   "execution_count": 27,
   "id": "da9fad7d",
   "metadata": {},
   "outputs": [
    {
     "name": "stdout",
     "output_type": "stream",
     "text": [
      "\n",
      "\n",
      "\u001b[1m> Entering new SQLDatabaseChain chain...\u001b[0m\n",
      "Can you give me $ Sales for Region Americas in Year 2021 where L4 is CreditLens\n",
      "SQLQuery:\u001b[32;1m\u001b[1;3mSELECT SUM([Sale Amount $]) AS TotalSales\n",
      "FROM [Sales Line Items]\n",
      "JOIN [Products] ON [Sales Line Items].[Product ID] = [Products].[Product ID]\n",
      "WHERE [Region] = 'Americas' AND YEAR([Sale Date]) = 2021 AND [Product Family (L4)] = 'CreditLens'\u001b[0m\n",
      "SQLResult: \u001b[33;1m\u001b[1;3m[(66383180.13546085,)]\u001b[0m\n",
      "Answer:\u001b[32;1m\u001b[1;3m$66,383,180.14\u001b[0m\n",
      "\u001b[1m> Finished chain.\u001b[0m\n"
     ]
    },
    {
     "data": {
      "text/plain": [
       "{'query': 'Can you give me $ Sales for Region Americas in Year 2021 where L4 is CreditLens',\n",
       " 'result': '$66,383,180.14'}"
      ]
     },
     "execution_count": 27,
     "metadata": {},
     "output_type": "execute_result"
    }
   ],
   "source": [
    "#db_chain_prompt0(\"For Creditlens can you give me $ Sales for Region Americas in Year 2022\")\n",
    "db_chain_prompt0(\"Can you give me $ Sales for Region Americas in Year 2021 where L4 is CreditLens\")"
   ]
  },
  {
   "cell_type": "markdown",
   "id": "21b0fe3e",
   "metadata": {},
   "source": [
    "# Configured Chain - Few Shot Prompting V1"
   ]
  },
  {
   "cell_type": "code",
   "execution_count": 11,
   "id": "137d1e17",
   "metadata": {},
   "outputs": [],
   "source": [
    "PREFIX1 = \"\"\"Given an input question, first create a syntactically correct {dialect} SQL query to run, then look at the results of the query and return the answer.\n",
    "\n",
    "Adhere to the following query rules:\n",
    "    - ALWAYS remember to join the data when using column identifiers from other tables.\n",
    "    - ALWAYS ensure that column identifiers used in SELECT, WHERE, GROUP BY, HAVING and ORDER BY operations exist in the table identifiers used in the FROM operation.\n",
    "    - ALWAYS use TOP instead of LIMIT when limiting queries.\n",
    "    - Always use the following dot notation in SQL queries [table].[column_name]\n",
    "    - DO NOT query all columns and rows from a table.\n",
    "\n",
    "Use the following format:\n",
    "\n",
    "Question: Question here\n",
    "SQLQuery: SQL Query to run\n",
    "SQLResult: Result of the SQLQuery\n",
    "Answer: Final answer here\n",
    "\n",
    "Only use the following tables:\n",
    "\n",
    "{table_info}\n",
    "\n",
    "If you dont know the answer, please say I am not sure of the correct answer.\"\"\"\n",
    "\n",
    "\n",
    "EXAMPLES1 = [\n",
    "    {\n",
    "        \"Question\": \"For L5 CreditLens, can you give me the total $ amount of sales in 2022?\",\n",
    "        \"SQLQuery\": \n",
    "\"\"\"\n",
    "SELECT \n",
    "    SUM([Sale Amount $]) AS TotalSalesAmount\n",
    "FROM \n",
    "    [Sales Line Items]\n",
    "JOIN \n",
    "    [Products] ON [Sales Line Items].[Product ID] = [Products].[Product ID]\n",
    "WHERE \n",
    "    [Products].[Product (L5)] = 'CreditLens' AND YEAR([Sale Date]) = 2022\n",
    "\"\"\",\n",
    "        \"SQLResult\": \"[(124826394.43129063,)]\",\n",
    "        \"Answer\":\"Total $ amount of sales for L5 CreditLens in 2022 is $124,826,394.43.\"\n",
    "    },\n",
    "    {\n",
    "        \"Question\": \"For L5 CreditLens can you give me the distinct number of clients in 2022?\",\n",
    "        \"SQLQuery\": \n",
    "\"\"\"\n",
    "SELECT \n",
    "    COUNT(DISTINCT [Client Account ID]) AS [Distinct Client Count]\n",
    "FROM \n",
    "    [Sales Line Items]\n",
    "JOIN \n",
    "    [Products] ON [Sales Line Items].[Product ID] = [Products].[Product ID]\n",
    "WHERE \n",
    "    [Products].[Product (L5)] = 'CreditLens'\n",
    "AND \n",
    "    YEAR([Sales Line Items].[Sale Date]) = 2022\n",
    "\"\"\",\n",
    "        \"SQLResult\": \"[(482,)]\",\n",
    "        \"Answer\":\"Final answer here: There are 482 distinct clients in 2022 for the L5 product CreditLens.\"\n",
    "    },\n",
    "]\n",
    "\n",
    "SUFFIX1 = \"\"\"Question: {input}\"\"\"\n",
    "\n",
    "FEW_SHOT_V1 = FewShotPromptTemplate(\n",
    "    example_prompt = PromptTemplate(input_variables=[\"Question\", \"SQLQuery\", \"SQLResult\", \"Answer\"], template=\"Question: {Question}\\nSQLResult: {SQLQuery}\\nSQLResult: {SQLResult}\\nAnswer: {Answer}\"), \n",
    "    prefix = PREFIX1,\n",
    "    examples = EXAMPLES1,\n",
    "    suffix = SUFFIX1,\n",
    "    input_variables=[\"input\", \"table_info\", \"dialect\"]\n",
    ")\n",
    "\n",
    "#print(FEW_SHOT_V1.format(dialect = \"MSSQL\", table_info = \"XXX\", input = \"What is the day today?\"))\n",
    "\n",
    "db_chain_fewshotv1 = SQLDatabaseChain.from_llm(llm, db, prompt=FEW_SHOT_V1, verbose=True)"
   ]
  },
  {
   "cell_type": "code",
   "execution_count": 16,
   "id": "7aed7d30",
   "metadata": {},
   "outputs": [
    {
     "name": "stdout",
     "output_type": "stream",
     "text": [
      "\n",
      "\n",
      "\u001b[1m> Entering new SQLDatabaseChain chain...\u001b[0m\n",
      "how many Regulatory client did we have in 2021 in the Americas\n",
      "SQLQuery:\u001b[32;1m\u001b[1;3mSELECT \n",
      "    COUNT(DISTINCT [Client Account ID]) AS [Distinct Client Count]\n",
      "FROM \n",
      "    [Sales Line Items]\n",
      "JOIN \n",
      "    [Products] ON [Sales Line Items].[Product ID] = [Products].[Product ID]\n",
      "JOIN \n",
      "    [Client Accounts] ON [Sales Line Items].[Client Account ID] = [Client Accounts].[Client Account ID]\n",
      "WHERE \n",
      "    [Products].[Product (L5)] = 'Regulatory'\n",
      "AND \n",
      "    [Client Accounts].[Business Sector] = 'Americas'\n",
      "AND \n",
      "    YEAR([Sales Line Items].[Sale Date]) = 2021\u001b[0m"
     ]
    },
    {
     "ename": "ProgrammingError",
     "evalue": "(pyodbc.ProgrammingError) ('42000', \"[42000] [Microsoft][SQL Server Native Client 11.0][SQL Server]Ambiguous column name 'Client Account ID'. (209) (SQLExecDirectW)\")\n[SQL: SELECT \n    COUNT(DISTINCT [Client Account ID]) AS [Distinct Client Count]\nFROM \n    [Sales Line Items]\nJOIN \n    [Products] ON [Sales Line Items].[Product ID] = [Products].[Product ID]\nJOIN \n    [Client Accounts] ON [Sales Line Items].[Client Account ID] = [Client Accounts].[Client Account ID]\nWHERE \n    [Products].[Product (L5)] = 'Regulatory'\nAND \n    [Client Accounts].[Business Sector] = 'Americas'\nAND \n    YEAR([Sales Line Items].[Sale Date]) = 2021]\n(Background on this error at: https://sqlalche.me/e/14/f405)",
     "output_type": "error",
     "traceback": [
      "\u001b[1;31m---------------------------------------------------------------------------\u001b[0m",
      "\u001b[1;31mProgrammingError\u001b[0m                          Traceback (most recent call last)",
      "File \u001b[1;32mC:\\ProgramData\\anaconda3\\lib\\site-packages\\sqlalchemy\\engine\\base.py:1819\u001b[0m, in \u001b[0;36mConnection._execute_context\u001b[1;34m(self, dialect, constructor, statement, parameters, execution_options, *args, **kw)\u001b[0m\n\u001b[0;32m   1818\u001b[0m     \u001b[38;5;28;01mif\u001b[39;00m \u001b[38;5;129;01mnot\u001b[39;00m evt_handled:\n\u001b[1;32m-> 1819\u001b[0m         \u001b[38;5;28;43mself\u001b[39;49m\u001b[38;5;241;43m.\u001b[39;49m\u001b[43mdialect\u001b[49m\u001b[38;5;241;43m.\u001b[39;49m\u001b[43mdo_execute\u001b[49m\u001b[43m(\u001b[49m\n\u001b[0;32m   1820\u001b[0m \u001b[43m            \u001b[49m\u001b[43mcursor\u001b[49m\u001b[43m,\u001b[49m\u001b[43m \u001b[49m\u001b[43mstatement\u001b[49m\u001b[43m,\u001b[49m\u001b[43m \u001b[49m\u001b[43mparameters\u001b[49m\u001b[43m,\u001b[49m\u001b[43m \u001b[49m\u001b[43mcontext\u001b[49m\n\u001b[0;32m   1821\u001b[0m \u001b[43m        \u001b[49m\u001b[43m)\u001b[49m\n\u001b[0;32m   1823\u001b[0m \u001b[38;5;28;01mif\u001b[39;00m \u001b[38;5;28mself\u001b[39m\u001b[38;5;241m.\u001b[39m_has_events \u001b[38;5;129;01mor\u001b[39;00m \u001b[38;5;28mself\u001b[39m\u001b[38;5;241m.\u001b[39mengine\u001b[38;5;241m.\u001b[39m_has_events:\n",
      "File \u001b[1;32mC:\\ProgramData\\anaconda3\\lib\\site-packages\\sqlalchemy\\engine\\default.py:732\u001b[0m, in \u001b[0;36mDefaultDialect.do_execute\u001b[1;34m(self, cursor, statement, parameters, context)\u001b[0m\n\u001b[0;32m    731\u001b[0m \u001b[38;5;28;01mdef\u001b[39;00m \u001b[38;5;21mdo_execute\u001b[39m(\u001b[38;5;28mself\u001b[39m, cursor, statement, parameters, context\u001b[38;5;241m=\u001b[39m\u001b[38;5;28;01mNone\u001b[39;00m):\n\u001b[1;32m--> 732\u001b[0m     \u001b[43mcursor\u001b[49m\u001b[38;5;241;43m.\u001b[39;49m\u001b[43mexecute\u001b[49m\u001b[43m(\u001b[49m\u001b[43mstatement\u001b[49m\u001b[43m,\u001b[49m\u001b[43m \u001b[49m\u001b[43mparameters\u001b[49m\u001b[43m)\u001b[49m\n",
      "\u001b[1;31mProgrammingError\u001b[0m: ('42000', \"[42000] [Microsoft][SQL Server Native Client 11.0][SQL Server]Ambiguous column name 'Client Account ID'. (209) (SQLExecDirectW)\")",
      "\nThe above exception was the direct cause of the following exception:\n",
      "\u001b[1;31mProgrammingError\u001b[0m                          Traceback (most recent call last)",
      "Cell \u001b[1;32mIn[16], line 3\u001b[0m\n\u001b[0;32m      1\u001b[0m \u001b[38;5;66;03m#db_chain_fewshotv1(\"For L3 Regulatory can you give me # Clients for Region Americas in Year 2021\")\u001b[39;00m\n\u001b[0;32m      2\u001b[0m \u001b[38;5;66;03m#db_chain_fewshotv1(\"Can you give me # Clients for Region Americas in Year 2021 where L3 is Regulatory \")\u001b[39;00m\n\u001b[1;32m----> 3\u001b[0m \u001b[43mdb_chain_fewshotv1\u001b[49m\u001b[43m(\u001b[49m\u001b[38;5;124;43m\"\u001b[39;49m\u001b[38;5;124;43mhow many Regulatory client did we have in 2021 in the Americas\u001b[39;49m\u001b[38;5;124;43m\"\u001b[39;49m\u001b[43m)\u001b[49m\n",
      "File \u001b[1;32m~\\AppData\\Roaming\\Python\\Python310\\site-packages\\langchain\\chains\\base.py:243\u001b[0m, in \u001b[0;36mChain.__call__\u001b[1;34m(self, inputs, return_only_outputs, callbacks, tags, metadata, include_run_info)\u001b[0m\n\u001b[0;32m    241\u001b[0m \u001b[38;5;28;01mexcept\u001b[39;00m (\u001b[38;5;167;01mKeyboardInterrupt\u001b[39;00m, \u001b[38;5;167;01mException\u001b[39;00m) \u001b[38;5;28;01mas\u001b[39;00m e:\n\u001b[0;32m    242\u001b[0m     run_manager\u001b[38;5;241m.\u001b[39mon_chain_error(e)\n\u001b[1;32m--> 243\u001b[0m     \u001b[38;5;28;01mraise\u001b[39;00m e\n\u001b[0;32m    244\u001b[0m run_manager\u001b[38;5;241m.\u001b[39mon_chain_end(outputs)\n\u001b[0;32m    245\u001b[0m final_outputs: Dict[\u001b[38;5;28mstr\u001b[39m, Any] \u001b[38;5;241m=\u001b[39m \u001b[38;5;28mself\u001b[39m\u001b[38;5;241m.\u001b[39mprep_outputs(\n\u001b[0;32m    246\u001b[0m     inputs, outputs, return_only_outputs\n\u001b[0;32m    247\u001b[0m )\n",
      "File \u001b[1;32m~\\AppData\\Roaming\\Python\\Python310\\site-packages\\langchain\\chains\\base.py:237\u001b[0m, in \u001b[0;36mChain.__call__\u001b[1;34m(self, inputs, return_only_outputs, callbacks, tags, metadata, include_run_info)\u001b[0m\n\u001b[0;32m    231\u001b[0m run_manager \u001b[38;5;241m=\u001b[39m callback_manager\u001b[38;5;241m.\u001b[39mon_chain_start(\n\u001b[0;32m    232\u001b[0m     dumpd(\u001b[38;5;28mself\u001b[39m),\n\u001b[0;32m    233\u001b[0m     inputs,\n\u001b[0;32m    234\u001b[0m )\n\u001b[0;32m    235\u001b[0m \u001b[38;5;28;01mtry\u001b[39;00m:\n\u001b[0;32m    236\u001b[0m     outputs \u001b[38;5;241m=\u001b[39m (\n\u001b[1;32m--> 237\u001b[0m         \u001b[38;5;28;43mself\u001b[39;49m\u001b[38;5;241;43m.\u001b[39;49m\u001b[43m_call\u001b[49m\u001b[43m(\u001b[49m\u001b[43minputs\u001b[49m\u001b[43m,\u001b[49m\u001b[43m \u001b[49m\u001b[43mrun_manager\u001b[49m\u001b[38;5;241;43m=\u001b[39;49m\u001b[43mrun_manager\u001b[49m\u001b[43m)\u001b[49m\n\u001b[0;32m    238\u001b[0m         \u001b[38;5;28;01mif\u001b[39;00m new_arg_supported\n\u001b[0;32m    239\u001b[0m         \u001b[38;5;28;01melse\u001b[39;00m \u001b[38;5;28mself\u001b[39m\u001b[38;5;241m.\u001b[39m_call(inputs)\n\u001b[0;32m    240\u001b[0m     )\n\u001b[0;32m    241\u001b[0m \u001b[38;5;28;01mexcept\u001b[39;00m (\u001b[38;5;167;01mKeyboardInterrupt\u001b[39;00m, \u001b[38;5;167;01mException\u001b[39;00m) \u001b[38;5;28;01mas\u001b[39;00m e:\n\u001b[0;32m    242\u001b[0m     run_manager\u001b[38;5;241m.\u001b[39mon_chain_error(e)\n",
      "File \u001b[1;32m~\\AppData\\Roaming\\Python\\Python310\\site-packages\\langchain\\chains\\sql_database\\base.py:181\u001b[0m, in \u001b[0;36mSQLDatabaseChain._call\u001b[1;34m(self, inputs, run_manager)\u001b[0m\n\u001b[0;32m    177\u001b[0m \u001b[38;5;28;01mexcept\u001b[39;00m \u001b[38;5;167;01mException\u001b[39;00m \u001b[38;5;28;01mas\u001b[39;00m exc:\n\u001b[0;32m    178\u001b[0m     \u001b[38;5;66;03m# Append intermediate steps to exception, to aid in logging and later\u001b[39;00m\n\u001b[0;32m    179\u001b[0m     \u001b[38;5;66;03m# improvement of few shot prompt seeds\u001b[39;00m\n\u001b[0;32m    180\u001b[0m     exc\u001b[38;5;241m.\u001b[39mintermediate_steps \u001b[38;5;241m=\u001b[39m intermediate_steps  \u001b[38;5;66;03m# type: ignore\u001b[39;00m\n\u001b[1;32m--> 181\u001b[0m     \u001b[38;5;28;01mraise\u001b[39;00m exc\n",
      "File \u001b[1;32m~\\AppData\\Roaming\\Python\\Python310\\site-packages\\langchain\\chains\\sql_database\\base.py:126\u001b[0m, in \u001b[0;36mSQLDatabaseChain._call\u001b[1;34m(self, inputs, run_manager)\u001b[0m\n\u001b[0;32m    122\u001b[0m     intermediate_steps\u001b[38;5;241m.\u001b[39mappend(\n\u001b[0;32m    123\u001b[0m         sql_cmd\n\u001b[0;32m    124\u001b[0m     )  \u001b[38;5;66;03m# output: sql generation (no checker)\u001b[39;00m\n\u001b[0;32m    125\u001b[0m     intermediate_steps\u001b[38;5;241m.\u001b[39mappend({\u001b[38;5;124m\"\u001b[39m\u001b[38;5;124msql_cmd\u001b[39m\u001b[38;5;124m\"\u001b[39m: sql_cmd})  \u001b[38;5;66;03m# input: sql exec\u001b[39;00m\n\u001b[1;32m--> 126\u001b[0m     result \u001b[38;5;241m=\u001b[39m \u001b[38;5;28;43mself\u001b[39;49m\u001b[38;5;241;43m.\u001b[39;49m\u001b[43mdatabase\u001b[49m\u001b[38;5;241;43m.\u001b[39;49m\u001b[43mrun\u001b[49m\u001b[43m(\u001b[49m\u001b[43msql_cmd\u001b[49m\u001b[43m)\u001b[49m\n\u001b[0;32m    127\u001b[0m     intermediate_steps\u001b[38;5;241m.\u001b[39mappend(\u001b[38;5;28mstr\u001b[39m(result))  \u001b[38;5;66;03m# output: sql exec\u001b[39;00m\n\u001b[0;32m    128\u001b[0m \u001b[38;5;28;01melse\u001b[39;00m:\n",
      "File \u001b[1;32m~\\AppData\\Roaming\\Python\\Python310\\site-packages\\langchain\\sql_database.py:390\u001b[0m, in \u001b[0;36mSQLDatabase.run\u001b[1;34m(self, command, fetch)\u001b[0m\n\u001b[0;32m    388\u001b[0m     \u001b[38;5;28;01melse\u001b[39;00m:\n\u001b[0;32m    389\u001b[0m         connection\u001b[38;5;241m.\u001b[39mexec_driver_sql(\u001b[38;5;124mf\u001b[39m\u001b[38;5;124m\"\u001b[39m\u001b[38;5;124mSET search_path TO \u001b[39m\u001b[38;5;132;01m{\u001b[39;00m\u001b[38;5;28mself\u001b[39m\u001b[38;5;241m.\u001b[39m_schema\u001b[38;5;132;01m}\u001b[39;00m\u001b[38;5;124m\"\u001b[39m)\n\u001b[1;32m--> 390\u001b[0m cursor \u001b[38;5;241m=\u001b[39m \u001b[43mconnection\u001b[49m\u001b[38;5;241;43m.\u001b[39;49m\u001b[43mexecute\u001b[49m\u001b[43m(\u001b[49m\u001b[43mtext\u001b[49m\u001b[43m(\u001b[49m\u001b[43mcommand\u001b[49m\u001b[43m)\u001b[49m\u001b[43m)\u001b[49m\n\u001b[0;32m    391\u001b[0m \u001b[38;5;28;01mif\u001b[39;00m cursor\u001b[38;5;241m.\u001b[39mreturns_rows:\n\u001b[0;32m    392\u001b[0m     \u001b[38;5;28;01mif\u001b[39;00m fetch \u001b[38;5;241m==\u001b[39m \u001b[38;5;124m\"\u001b[39m\u001b[38;5;124mall\u001b[39m\u001b[38;5;124m\"\u001b[39m:\n",
      "File \u001b[1;32mC:\\ProgramData\\anaconda3\\lib\\site-packages\\sqlalchemy\\engine\\base.py:1306\u001b[0m, in \u001b[0;36mConnection.execute\u001b[1;34m(self, statement, *multiparams, **params)\u001b[0m\n\u001b[0;32m   1302\u001b[0m     util\u001b[38;5;241m.\u001b[39mraise_(\n\u001b[0;32m   1303\u001b[0m         exc\u001b[38;5;241m.\u001b[39mObjectNotExecutableError(statement), replace_context\u001b[38;5;241m=\u001b[39merr\n\u001b[0;32m   1304\u001b[0m     )\n\u001b[0;32m   1305\u001b[0m \u001b[38;5;28;01melse\u001b[39;00m:\n\u001b[1;32m-> 1306\u001b[0m     \u001b[38;5;28;01mreturn\u001b[39;00m \u001b[43mmeth\u001b[49m\u001b[43m(\u001b[49m\u001b[38;5;28;43mself\u001b[39;49m\u001b[43m,\u001b[49m\u001b[43m \u001b[49m\u001b[43mmultiparams\u001b[49m\u001b[43m,\u001b[49m\u001b[43m \u001b[49m\u001b[43mparams\u001b[49m\u001b[43m,\u001b[49m\u001b[43m \u001b[49m\u001b[43m_EMPTY_EXECUTION_OPTS\u001b[49m\u001b[43m)\u001b[49m\n",
      "File \u001b[1;32mC:\\ProgramData\\anaconda3\\lib\\site-packages\\sqlalchemy\\sql\\elements.py:332\u001b[0m, in \u001b[0;36mClauseElement._execute_on_connection\u001b[1;34m(self, connection, multiparams, params, execution_options, _force)\u001b[0m\n\u001b[0;32m    328\u001b[0m \u001b[38;5;28;01mdef\u001b[39;00m \u001b[38;5;21m_execute_on_connection\u001b[39m(\n\u001b[0;32m    329\u001b[0m     \u001b[38;5;28mself\u001b[39m, connection, multiparams, params, execution_options, _force\u001b[38;5;241m=\u001b[39m\u001b[38;5;28;01mFalse\u001b[39;00m\n\u001b[0;32m    330\u001b[0m ):\n\u001b[0;32m    331\u001b[0m     \u001b[38;5;28;01mif\u001b[39;00m _force \u001b[38;5;129;01mor\u001b[39;00m \u001b[38;5;28mself\u001b[39m\u001b[38;5;241m.\u001b[39msupports_execution:\n\u001b[1;32m--> 332\u001b[0m         \u001b[38;5;28;01mreturn\u001b[39;00m \u001b[43mconnection\u001b[49m\u001b[38;5;241;43m.\u001b[39;49m\u001b[43m_execute_clauseelement\u001b[49m\u001b[43m(\u001b[49m\n\u001b[0;32m    333\u001b[0m \u001b[43m            \u001b[49m\u001b[38;5;28;43mself\u001b[39;49m\u001b[43m,\u001b[49m\u001b[43m \u001b[49m\u001b[43mmultiparams\u001b[49m\u001b[43m,\u001b[49m\u001b[43m \u001b[49m\u001b[43mparams\u001b[49m\u001b[43m,\u001b[49m\u001b[43m \u001b[49m\u001b[43mexecution_options\u001b[49m\n\u001b[0;32m    334\u001b[0m \u001b[43m        \u001b[49m\u001b[43m)\u001b[49m\n\u001b[0;32m    335\u001b[0m     \u001b[38;5;28;01melse\u001b[39;00m:\n\u001b[0;32m    336\u001b[0m         \u001b[38;5;28;01mraise\u001b[39;00m exc\u001b[38;5;241m.\u001b[39mObjectNotExecutableError(\u001b[38;5;28mself\u001b[39m)\n",
      "File \u001b[1;32mC:\\ProgramData\\anaconda3\\lib\\site-packages\\sqlalchemy\\engine\\base.py:1498\u001b[0m, in \u001b[0;36mConnection._execute_clauseelement\u001b[1;34m(self, elem, multiparams, params, execution_options)\u001b[0m\n\u001b[0;32m   1486\u001b[0m compiled_cache \u001b[38;5;241m=\u001b[39m execution_options\u001b[38;5;241m.\u001b[39mget(\n\u001b[0;32m   1487\u001b[0m     \u001b[38;5;124m\"\u001b[39m\u001b[38;5;124mcompiled_cache\u001b[39m\u001b[38;5;124m\"\u001b[39m, \u001b[38;5;28mself\u001b[39m\u001b[38;5;241m.\u001b[39mengine\u001b[38;5;241m.\u001b[39m_compiled_cache\n\u001b[0;32m   1488\u001b[0m )\n\u001b[0;32m   1490\u001b[0m compiled_sql, extracted_params, cache_hit \u001b[38;5;241m=\u001b[39m elem\u001b[38;5;241m.\u001b[39m_compile_w_cache(\n\u001b[0;32m   1491\u001b[0m     dialect\u001b[38;5;241m=\u001b[39mdialect,\n\u001b[0;32m   1492\u001b[0m     compiled_cache\u001b[38;5;241m=\u001b[39mcompiled_cache,\n\u001b[1;32m   (...)\u001b[0m\n\u001b[0;32m   1496\u001b[0m     linting\u001b[38;5;241m=\u001b[39m\u001b[38;5;28mself\u001b[39m\u001b[38;5;241m.\u001b[39mdialect\u001b[38;5;241m.\u001b[39mcompiler_linting \u001b[38;5;241m|\u001b[39m compiler\u001b[38;5;241m.\u001b[39mWARN_LINTING,\n\u001b[0;32m   1497\u001b[0m )\n\u001b[1;32m-> 1498\u001b[0m ret \u001b[38;5;241m=\u001b[39m \u001b[38;5;28;43mself\u001b[39;49m\u001b[38;5;241;43m.\u001b[39;49m\u001b[43m_execute_context\u001b[49m\u001b[43m(\u001b[49m\n\u001b[0;32m   1499\u001b[0m \u001b[43m    \u001b[49m\u001b[43mdialect\u001b[49m\u001b[43m,\u001b[49m\n\u001b[0;32m   1500\u001b[0m \u001b[43m    \u001b[49m\u001b[43mdialect\u001b[49m\u001b[38;5;241;43m.\u001b[39;49m\u001b[43mexecution_ctx_cls\u001b[49m\u001b[38;5;241;43m.\u001b[39;49m\u001b[43m_init_compiled\u001b[49m\u001b[43m,\u001b[49m\n\u001b[0;32m   1501\u001b[0m \u001b[43m    \u001b[49m\u001b[43mcompiled_sql\u001b[49m\u001b[43m,\u001b[49m\n\u001b[0;32m   1502\u001b[0m \u001b[43m    \u001b[49m\u001b[43mdistilled_params\u001b[49m\u001b[43m,\u001b[49m\n\u001b[0;32m   1503\u001b[0m \u001b[43m    \u001b[49m\u001b[43mexecution_options\u001b[49m\u001b[43m,\u001b[49m\n\u001b[0;32m   1504\u001b[0m \u001b[43m    \u001b[49m\u001b[43mcompiled_sql\u001b[49m\u001b[43m,\u001b[49m\n\u001b[0;32m   1505\u001b[0m \u001b[43m    \u001b[49m\u001b[43mdistilled_params\u001b[49m\u001b[43m,\u001b[49m\n\u001b[0;32m   1506\u001b[0m \u001b[43m    \u001b[49m\u001b[43melem\u001b[49m\u001b[43m,\u001b[49m\n\u001b[0;32m   1507\u001b[0m \u001b[43m    \u001b[49m\u001b[43mextracted_params\u001b[49m\u001b[43m,\u001b[49m\n\u001b[0;32m   1508\u001b[0m \u001b[43m    \u001b[49m\u001b[43mcache_hit\u001b[49m\u001b[38;5;241;43m=\u001b[39;49m\u001b[43mcache_hit\u001b[49m\u001b[43m,\u001b[49m\n\u001b[0;32m   1509\u001b[0m \u001b[43m\u001b[49m\u001b[43m)\u001b[49m\n\u001b[0;32m   1510\u001b[0m \u001b[38;5;28;01mif\u001b[39;00m has_events:\n\u001b[0;32m   1511\u001b[0m     \u001b[38;5;28mself\u001b[39m\u001b[38;5;241m.\u001b[39mdispatch\u001b[38;5;241m.\u001b[39mafter_execute(\n\u001b[0;32m   1512\u001b[0m         \u001b[38;5;28mself\u001b[39m,\n\u001b[0;32m   1513\u001b[0m         elem,\n\u001b[1;32m   (...)\u001b[0m\n\u001b[0;32m   1517\u001b[0m         ret,\n\u001b[0;32m   1518\u001b[0m     )\n",
      "File \u001b[1;32mC:\\ProgramData\\anaconda3\\lib\\site-packages\\sqlalchemy\\engine\\base.py:1862\u001b[0m, in \u001b[0;36mConnection._execute_context\u001b[1;34m(self, dialect, constructor, statement, parameters, execution_options, *args, **kw)\u001b[0m\n\u001b[0;32m   1859\u001b[0m             branched\u001b[38;5;241m.\u001b[39mclose()\n\u001b[0;32m   1861\u001b[0m \u001b[38;5;28;01mexcept\u001b[39;00m \u001b[38;5;167;01mBaseException\u001b[39;00m \u001b[38;5;28;01mas\u001b[39;00m e:\n\u001b[1;32m-> 1862\u001b[0m     \u001b[38;5;28;43mself\u001b[39;49m\u001b[38;5;241;43m.\u001b[39;49m\u001b[43m_handle_dbapi_exception\u001b[49m\u001b[43m(\u001b[49m\n\u001b[0;32m   1863\u001b[0m \u001b[43m        \u001b[49m\u001b[43me\u001b[49m\u001b[43m,\u001b[49m\u001b[43m \u001b[49m\u001b[43mstatement\u001b[49m\u001b[43m,\u001b[49m\u001b[43m \u001b[49m\u001b[43mparameters\u001b[49m\u001b[43m,\u001b[49m\u001b[43m \u001b[49m\u001b[43mcursor\u001b[49m\u001b[43m,\u001b[49m\u001b[43m \u001b[49m\u001b[43mcontext\u001b[49m\n\u001b[0;32m   1864\u001b[0m \u001b[43m    \u001b[49m\u001b[43m)\u001b[49m\n\u001b[0;32m   1866\u001b[0m \u001b[38;5;28;01mreturn\u001b[39;00m result\n",
      "File \u001b[1;32mC:\\ProgramData\\anaconda3\\lib\\site-packages\\sqlalchemy\\engine\\base.py:2043\u001b[0m, in \u001b[0;36mConnection._handle_dbapi_exception\u001b[1;34m(self, e, statement, parameters, cursor, context)\u001b[0m\n\u001b[0;32m   2041\u001b[0m     util\u001b[38;5;241m.\u001b[39mraise_(newraise, with_traceback\u001b[38;5;241m=\u001b[39mexc_info[\u001b[38;5;241m2\u001b[39m], from_\u001b[38;5;241m=\u001b[39me)\n\u001b[0;32m   2042\u001b[0m \u001b[38;5;28;01melif\u001b[39;00m should_wrap:\n\u001b[1;32m-> 2043\u001b[0m     \u001b[43mutil\u001b[49m\u001b[38;5;241;43m.\u001b[39;49m\u001b[43mraise_\u001b[49m\u001b[43m(\u001b[49m\n\u001b[0;32m   2044\u001b[0m \u001b[43m        \u001b[49m\u001b[43msqlalchemy_exception\u001b[49m\u001b[43m,\u001b[49m\u001b[43m \u001b[49m\u001b[43mwith_traceback\u001b[49m\u001b[38;5;241;43m=\u001b[39;49m\u001b[43mexc_info\u001b[49m\u001b[43m[\u001b[49m\u001b[38;5;241;43m2\u001b[39;49m\u001b[43m]\u001b[49m\u001b[43m,\u001b[49m\u001b[43m \u001b[49m\u001b[43mfrom_\u001b[49m\u001b[38;5;241;43m=\u001b[39;49m\u001b[43me\u001b[49m\n\u001b[0;32m   2045\u001b[0m \u001b[43m    \u001b[49m\u001b[43m)\u001b[49m\n\u001b[0;32m   2046\u001b[0m \u001b[38;5;28;01melse\u001b[39;00m:\n\u001b[0;32m   2047\u001b[0m     util\u001b[38;5;241m.\u001b[39mraise_(exc_info[\u001b[38;5;241m1\u001b[39m], with_traceback\u001b[38;5;241m=\u001b[39mexc_info[\u001b[38;5;241m2\u001b[39m])\n",
      "File \u001b[1;32mC:\\ProgramData\\anaconda3\\lib\\site-packages\\sqlalchemy\\util\\compat.py:208\u001b[0m, in \u001b[0;36mraise_\u001b[1;34m(***failed resolving arguments***)\u001b[0m\n\u001b[0;32m    205\u001b[0m     exception\u001b[38;5;241m.\u001b[39m__cause__ \u001b[38;5;241m=\u001b[39m replace_context\n\u001b[0;32m    207\u001b[0m \u001b[38;5;28;01mtry\u001b[39;00m:\n\u001b[1;32m--> 208\u001b[0m     \u001b[38;5;28;01mraise\u001b[39;00m exception\n\u001b[0;32m    209\u001b[0m \u001b[38;5;28;01mfinally\u001b[39;00m:\n\u001b[0;32m    210\u001b[0m     \u001b[38;5;66;03m# credit to\u001b[39;00m\n\u001b[0;32m    211\u001b[0m     \u001b[38;5;66;03m# https://cosmicpercolator.com/2016/01/13/exception-leaks-in-python-2-and-3/\u001b[39;00m\n\u001b[0;32m    212\u001b[0m     \u001b[38;5;66;03m# as the __traceback__ object creates a cycle\u001b[39;00m\n\u001b[0;32m    213\u001b[0m     \u001b[38;5;28;01mdel\u001b[39;00m exception, replace_context, from_, with_traceback\n",
      "File \u001b[1;32mC:\\ProgramData\\anaconda3\\lib\\site-packages\\sqlalchemy\\engine\\base.py:1819\u001b[0m, in \u001b[0;36mConnection._execute_context\u001b[1;34m(self, dialect, constructor, statement, parameters, execution_options, *args, **kw)\u001b[0m\n\u001b[0;32m   1817\u001b[0m                 \u001b[38;5;28;01mbreak\u001b[39;00m\n\u001b[0;32m   1818\u001b[0m     \u001b[38;5;28;01mif\u001b[39;00m \u001b[38;5;129;01mnot\u001b[39;00m evt_handled:\n\u001b[1;32m-> 1819\u001b[0m         \u001b[38;5;28;43mself\u001b[39;49m\u001b[38;5;241;43m.\u001b[39;49m\u001b[43mdialect\u001b[49m\u001b[38;5;241;43m.\u001b[39;49m\u001b[43mdo_execute\u001b[49m\u001b[43m(\u001b[49m\n\u001b[0;32m   1820\u001b[0m \u001b[43m            \u001b[49m\u001b[43mcursor\u001b[49m\u001b[43m,\u001b[49m\u001b[43m \u001b[49m\u001b[43mstatement\u001b[49m\u001b[43m,\u001b[49m\u001b[43m \u001b[49m\u001b[43mparameters\u001b[49m\u001b[43m,\u001b[49m\u001b[43m \u001b[49m\u001b[43mcontext\u001b[49m\n\u001b[0;32m   1821\u001b[0m \u001b[43m        \u001b[49m\u001b[43m)\u001b[49m\n\u001b[0;32m   1823\u001b[0m \u001b[38;5;28;01mif\u001b[39;00m \u001b[38;5;28mself\u001b[39m\u001b[38;5;241m.\u001b[39m_has_events \u001b[38;5;129;01mor\u001b[39;00m \u001b[38;5;28mself\u001b[39m\u001b[38;5;241m.\u001b[39mengine\u001b[38;5;241m.\u001b[39m_has_events:\n\u001b[0;32m   1824\u001b[0m     \u001b[38;5;28mself\u001b[39m\u001b[38;5;241m.\u001b[39mdispatch\u001b[38;5;241m.\u001b[39mafter_cursor_execute(\n\u001b[0;32m   1825\u001b[0m         \u001b[38;5;28mself\u001b[39m,\n\u001b[0;32m   1826\u001b[0m         cursor,\n\u001b[1;32m   (...)\u001b[0m\n\u001b[0;32m   1830\u001b[0m         context\u001b[38;5;241m.\u001b[39mexecutemany,\n\u001b[0;32m   1831\u001b[0m     )\n",
      "File \u001b[1;32mC:\\ProgramData\\anaconda3\\lib\\site-packages\\sqlalchemy\\engine\\default.py:732\u001b[0m, in \u001b[0;36mDefaultDialect.do_execute\u001b[1;34m(self, cursor, statement, parameters, context)\u001b[0m\n\u001b[0;32m    731\u001b[0m \u001b[38;5;28;01mdef\u001b[39;00m \u001b[38;5;21mdo_execute\u001b[39m(\u001b[38;5;28mself\u001b[39m, cursor, statement, parameters, context\u001b[38;5;241m=\u001b[39m\u001b[38;5;28;01mNone\u001b[39;00m):\n\u001b[1;32m--> 732\u001b[0m     \u001b[43mcursor\u001b[49m\u001b[38;5;241;43m.\u001b[39;49m\u001b[43mexecute\u001b[49m\u001b[43m(\u001b[49m\u001b[43mstatement\u001b[49m\u001b[43m,\u001b[49m\u001b[43m \u001b[49m\u001b[43mparameters\u001b[49m\u001b[43m)\u001b[49m\n",
      "\u001b[1;31mProgrammingError\u001b[0m: (pyodbc.ProgrammingError) ('42000', \"[42000] [Microsoft][SQL Server Native Client 11.0][SQL Server]Ambiguous column name 'Client Account ID'. (209) (SQLExecDirectW)\")\n[SQL: SELECT \n    COUNT(DISTINCT [Client Account ID]) AS [Distinct Client Count]\nFROM \n    [Sales Line Items]\nJOIN \n    [Products] ON [Sales Line Items].[Product ID] = [Products].[Product ID]\nJOIN \n    [Client Accounts] ON [Sales Line Items].[Client Account ID] = [Client Accounts].[Client Account ID]\nWHERE \n    [Products].[Product (L5)] = 'Regulatory'\nAND \n    [Client Accounts].[Business Sector] = 'Americas'\nAND \n    YEAR([Sales Line Items].[Sale Date]) = 2021]\n(Background on this error at: https://sqlalche.me/e/14/f405)"
     ]
    }
   ],
   "source": [
    "#db_chain_fewshotv1(\"For L3 Regulatory can you give me # Clients for Region Americas in Year 2021\")\n",
    "#db_chain_fewshotv1(\"Can you give me # Clients for Region Americas in Year 2021 where L3 is Regulatory \")\n",
    "db_chain_fewshotv1(\"how many Regulatory client did we have in 2021 in the Americas\")"
   ]
  },
  {
   "cell_type": "code",
   "execution_count": 15,
   "id": "0a3fbc6c",
   "metadata": {},
   "outputs": [
    {
     "ename": "SyntaxError",
     "evalue": "'{' was never closed (3245237700.py, line 25)",
     "output_type": "error",
     "traceback": [
      "\u001b[1;36m  Cell \u001b[1;32mIn[15], line 25\u001b[1;36m\u001b[0m\n\u001b[1;33m    {\u001b[0m\n\u001b[1;37m    ^\u001b[0m\n\u001b[1;31mSyntaxError\u001b[0m\u001b[1;31m:\u001b[0m '{' was never closed\n"
     ]
    }
   ],
   "source": [
    "PREFIX1 = \"\"\"Given an input question, first create a syntactically correct {dialect} SQL query to run, then look at the results of the query and return the answer.\n",
    "\n",
    "Adhere to the following query rules:\n",
    "    - ALWAYS remember to join the data when using column identifiers from other tables.\n",
    "    - ALWAYS ensure that column identifiers used in SELECT, WHERE, GROUP BY, HAVING and ORDER BY operations exist in the table identifiers used in the FROM operation.\n",
    "    - ALWAYS use TOP instead of LIMIT when limiting queries.\n",
    "    - Always use the following dot notation in SQL queries [table].[column_name]\n",
    "    - DO NOT query all columns and rows from a table.\n",
    "\n",
    "Use the following format:\n",
    "\n",
    "Question: Question here\n",
    "SQLQuery: SQL Query to run\n",
    "SQLResult: Result of the SQLQuery\n",
    "Answer: Final answer here\n",
    "\n",
    "Only use the following tables:\n",
    "\n",
    "{table_info}\n",
    "\n",
    "If you dont know the answer, please say I am not sure of the correct answer.\"\"\"\n",
    "\n",
    "\n",
    "EXAMPLES1 = [\n",
    "    {\n",
    "        \"Question\": \"how many Regulatory client did we have in 2021 in the Americas?\",\n",
    "        \"SQLQuery\": \n",
    "\"\"\"\n",
    "SELECT COUNT(DISTINCT ca.Client_Account_ID) AS Distinct_Clients\n",
    "FROM [Client_Accounts] ca\n",
    "INNER JOIN [Sales_Line_Items] s ON ca.Client_Account_ID = s.Client_Account_ID\n",
    "INNER JOIN [Products] p ON s.Product_ID = p.Product_ID\n",
    "WHERE p.Product_Function_L3 = 'Regulatory'\n",
    "AND YEAR(s.Sale_Date) = 2021\n",
    ",\n",
    "        \"SQLResult\": \"[(172,)]\",\n",
    "        \"Answer\":\"The distinct number of clients for L3 regulatory in 2021 is 172.\"\n",
    "    },\n",
    "    {\n",
    "        \"Question\": \"For L5 CreditLens can you give me the distinct number of clients in 2022?\",\n",
    "        \"SQLQuery\": \n",
    "\"\"\"\n",
    "SELECT \n",
    "    COUNT(DISTINCT [Client Account ID]) AS [Distinct Client Count]\n",
    "FROM \n",
    "    [Sales Line Items]\n",
    "JOIN \n",
    "    [Products] ON [Sales Line Items].[Product ID] = [Products].[Product ID]\n",
    "WHERE \n",
    "    [Products].[Product (L5)] = 'CreditLens'\n",
    "AND \n",
    "    YEAR([Sales Line Items].[Sale Date]) = 2022\n",
    "\"\"\",\n",
    "        \"SQLResult\": \"[(482,)]\",\n",
    "        \"Answer\":\"Final answer here: There are 482 distinct clients in 2022 for the L5 product CreditLens.\"\n",
    "    },\n",
    "]\n",
    "\n",
    "SUFFIX1 = \"\"\"Question: {input}\"\"\"\n",
    "\n",
    "FEW_SHOT_V1 = FewShotPromptTemplate(\n",
    "    example_prompt = PromptTemplate(input_variables=[\"Question\", \"SQLQuery\", \"SQLResult\", \"Answer\"], template=\"Question: {Question}\\nSQLResult: {SQLQuery}\\nSQLResult: {SQLResult}\\nAnswer: {Answer}\"), \n",
    "    prefix = PREFIX1,\n",
    "    examples = EXAMPLES1,\n",
    "    suffix = SUFFIX1,\n",
    "    input_variables=[\"input\", \"table_info\", \"dialect\"]\n",
    ")\n",
    "\n",
    "#print(FEW_SHOT_V1.format(dialect = \"MSSQL\", table_info = \"XXX\", input = \"What is the day today?\"))\n",
    "\n",
    "db_chain_fewshotv1 = SQLDatabaseChain.from_llm(llm, db, prompt=FEW_SHOT_V1, verbose=True)"
   ]
  },
  {
   "cell_type": "code",
   "execution_count": null,
   "id": "918e2728",
   "metadata": {},
   "outputs": [],
   "source": []
  }
 ],
 "metadata": {
  "kernelspec": {
   "display_name": "Python 3 (ipykernel)",
   "language": "python",
   "name": "python3"
  },
  "language_info": {
   "codemirror_mode": {
    "name": "ipython",
    "version": 3
   },
   "file_extension": ".py",
   "mimetype": "text/x-python",
   "name": "python",
   "nbconvert_exporter": "python",
   "pygments_lexer": "ipython3",
   "version": "3.10.9"
  }
 },
 "nbformat": 4,
 "nbformat_minor": 5
}
